{
 "cells": [
  {
   "cell_type": "code",
   "execution_count": 27,
   "id": "778c600c",
   "metadata": {},
   "outputs": [
    {
     "data": {
      "application/vnd.plotly.v1+json": {
       "config": {
        "plotlyServerURL": "https://plot.ly"
       },
       "data": [
        {
         "customdata": [
          [
           "62405",
           "14.0"
          ],
          [
           "2005",
           "16.0"
          ],
          [
           "1521",
           "17.0"
          ],
          [
           "1619",
           "15.0"
          ],
          [
           "1760",
           "14.0"
          ],
          [
           "1015",
           "15.0"
          ],
          [
           "613",
           "17.0"
          ],
          [
           "531",
           "16.0"
          ],
          [
           "281",
           "18.0"
          ],
          [
           "193",
           "12.0"
          ]
         ],
         "hovertemplate": "Delayed Minutes (Knife-to-Skin): <b>0-30</b><br>%{x}<br>Pct late: %{y:.1f}%<br>Cases: %{customdata[0]}<br>Median: %{customdata[1]} min<extra></extra>",
         "name": "0-30",
         "type": "bar",
         "visible": true,
         "x": [
          "Unspecified (late)",
          "Administration",
          "Priority Case/Emergency",
          "Surgeon/Staff",
          "Imaging/Labs",
          "Scheduling/Venue Changes",
          "Equipment",
          "Patient Factors",
          "Anaesthetic",
          "Other Case Issues"
         ],
         "y": {
          "bdata": "6Peh86FtSUAYXDwDNl44QB5eQohAzzVA1sipuauYQkBu1M0TLrFGQIsuuuiiBUJAV27nj5BDOkD32JjRJ0JAQN6sy5mt1jpAiTOEdLAdRUA=",
          "dtype": "f8"
         }
        },
        {
         "customdata": [
          [
           "34478",
           "41.0"
          ],
          [
           "1987",
           "44.0"
          ],
          [
           "1491",
           "44.0"
          ],
          [
           "1235",
           "43.0"
          ],
          [
           "955",
           "42.0"
          ],
          [
           "682",
           "43.0"
          ],
          [
           "606",
           "43.0"
          ],
          [
           "498",
           "44.0"
          ],
          [
           "292",
           "41.0"
          ],
          [
           "111",
           "45.0"
          ]
         ],
         "hovertemplate": "Delayed Minutes (Knife-to-Skin): <b>30-60</b><br>%{x}<br>Pct late: %{y:.1f}%<br>Cases: %{customdata[0]}<br>Median: %{customdata[1]} min<extra></extra>",
         "name": "30-60",
         "type": "bar",
         "visible": true,
         "x": [
          "Unspecified (late)",
          "Administration",
          "Priority Case/Emergency",
          "Surgeon/Staff",
          "Imaging/Labs",
          "Scheduling/Venue Changes",
          "Equipment",
          "Patient Factors",
          "Anaesthetic",
          "Other Case Issues"
         ],
         "y": {
          "bdata": "Z6EnJ/wYPECDGVsENSY4QCUdrfYgYTVAL+PpdwlfPEC4MJXSR6A4QAAAAAAAODhAOoi9YMn2OUBOSuYj+34+QKUPQBaj4ztA2I55b/FJOEA=",
          "dtype": "f8"
         }
        },
        {
         "customdata": [
          [
           "13656",
           "71.0"
          ],
          [
           "1553",
           "73.0"
          ],
          [
           "1405",
           "73.0"
          ],
          [
           "731",
           "73.0"
          ],
          [
           "555",
           "74.0"
          ],
          [
           "479",
           "72.0"
          ],
          [
           "414",
           "71.0"
          ],
          [
           "294",
           "72.0"
          ],
          [
           "192",
           "73.5"
          ],
          [
           "68",
           "72.0"
          ]
         ],
         "hovertemplate": "Delayed Minutes (Knife-to-Skin): <b>60-90</b><br>%{x}<br>Pct late: %{y:.1f}%<br>Cases: %{customdata[0]}<br>Median: %{customdata[1]} min<extra></extra>",
         "name": "60-90",
         "type": "bar",
         "visible": true,
         "x": [
          "Unspecified (late)",
          "Administration",
          "Priority Case/Emergency",
          "Surgeon/Staff",
          "Imaging/Labs",
          "Scheduling/Venue Changes",
          "Equipment",
          "Patient Factors",
          "Anaesthetic",
          "Other Case Issues"
         ],
         "y": {
          "bdata": "W3VNxvlBJkCxt1wf5N8yQORiIyJxJTRAKi7vHQPLMEAMiYYHfZ8sQC+66KKLAjFAXZfSwN+8MUCjbCvL8AAyQLrqwE2OVjJA9whweGHCLUA=",
          "dtype": "f8"
         }
        },
        {
         "customdata": [
          [
           "5645",
           "101.0"
          ],
          [
           "923",
           "103.0"
          ],
          [
           "866",
           "102.0"
          ],
          [
           "340",
           "101.0"
          ],
          [
           "232",
           "101.0"
          ],
          [
           "260",
           "102.0"
          ],
          [
           "255",
           "103.0"
          ],
          [
           "138",
           "100.0"
          ],
          [
           "122",
           "102.0"
          ],
          [
           "35",
           "101.0"
          ]
         ],
         "hovertemplate": "Delayed Minutes (Knife-to-Skin): <b>90-120</b><br>%{x}<br>Pct late: %{y:.1f}%<br>Cases: %{customdata[0]}<br>Median: %{customdata[1]} min<extra></extra>",
         "name": "90-120",
         "type": "bar",
         "visible": true,
         "x": [
          "Unspecified (late)",
          "Administration",
          "Priority Case/Emergency",
          "Surgeon/Staff",
          "Imaging/Labs",
          "Scheduling/Venue Changes",
          "Equipment",
          "Patient Factors",
          "Anaesthetic",
          "Other Case Issues"
         ],
         "y": {
          "bdata": "eSdusMJmEkCeOiGNgm8mQBinZDvJ1ShA/EkWhSk+H0AO0rNaC+4XQBdddNFFdyJAyw/IkNTZJUDYHEi0wuYgQPfUz4L/TSdAdkVkZXOiHkA=",
          "dtype": "f8"
         }
        },
        {
         "customdata": [
          [
           "6524",
           "161.0"
          ],
          [
           "1760",
           "232.0"
          ],
          [
           "1691",
           "260.0"
          ],
          [
           "428",
           "177.0"
          ],
          [
           "376",
           "190.0"
          ],
          [
           "380",
           "208.5"
          ],
          [
           "446",
           "181.0"
          ],
          [
           "172",
           "177.0"
          ],
          [
           "160",
           "159.5"
          ],
          [
           "50",
           "161.0"
          ]
         ],
         "hovertemplate": "Delayed Minutes (Knife-to-Skin): <b>120+</b><br>%{x}<br>Pct late: %{y:.1f}%<br>Cases: %{customdata[0]}<br>Median: %{customdata[1]} min<extra></extra>",
         "name": "120+",
         "type": "bar",
         "visible": true,
         "x": [
          "Unspecified (late)",
          "Administration",
          "Priority Case/Emergency",
          "Surgeon/Staff",
          "Imaging/Labs",
          "Scheduling/Venue Changes",
          "Equipment",
          "Patient Factors",
          "Anaesthetic",
          "Other Case Issues"
         ],
         "y": {
          "bdata": "+KhIiUlEFUBkNXuS72M1QEzOOsFIPzhA95QbKyOqI0DF2r1WNWQjQF100UUX/SpALWokBtwbM0BnETEnxhAlQIzcloFCkC5AeejZI8DhJUA=",
          "dtype": "f8"
         }
        },
        {
         "customdata": [
          [
           "17635",
           "18.0"
          ],
          [
           "21153",
           "14.0"
          ],
          [
           "17728",
           "13.0"
          ],
          [
           "8459",
           "12.0"
          ],
          [
           "4175",
           "12.0"
          ],
          [
           "3063",
           "13.0"
          ],
          [
           "32",
           "19.0"
          ],
          [
           "18",
           "9.0"
          ],
          [
           "0",
           ""
          ]
         ],
         "hovertemplate": "Delayed Minutes (Knife-to-Skin): <b>0-30</b><br>%{x}<br>Pct late: %{y:.1f}%<br>Cases: %{customdata[0]}<br>Median: %{customdata[1]} min<extra></extra>",
         "name": "0-30",
         "type": "bar",
         "visible": false,
         "x": [
          "Main Building OT",
          "Endoscopy Center",
          "Medical Center OT",
          "Kent Ridge Wing OT",
          "ICL",
          "DDI",
          "Urology",
          "AH Endoscopy Center",
          "AH Day Surgery Theatre"
         ],
         "y": {
          "bdata": "v9reD/Q7PkC+vejXVVdKQFJVmZYdnFBAHJB9sykdS0BgfHDaEKJKQADcEphO50dAFbycgpdTQECqqqqqqqpQQAAAAAAAAAAA",
          "dtype": "f8"
         }
        },
        {
         "customdata": [
          [
           "16675",
           "42.0"
          ],
          [
           "11493",
           "41.0"
          ],
          [
           "5967",
           "40.0"
          ],
          [
           "4558",
           "41.0"
          ],
          [
           "1766",
           "41.0"
          ],
          [
           "1997",
           "42.0"
          ],
          [
           "30",
           "37.5"
          ],
          [
           "6",
           "41.5"
          ],
          [
           "2",
           "40.0"
          ]
         ],
         "hovertemplate": "Delayed Minutes (Knife-to-Skin): <b>30-60</b><br>%{x}<br>Pct late: %{y:.1f}%<br>Cases: %{customdata[0]}<br>Median: %{customdata[1]} min<extra></extra>",
         "name": "30-60",
         "type": "bar",
         "visible": false,
         "x": [
          "Main Building OT",
          "Endoscopy Center",
          "Medical Center OT",
          "Kent Ridge Wing OT",
          "ICL",
          "DDI",
          "Urology",
          "AH Endoscopy Center",
          "AH Day Surgery Theatre"
         ],
         "y": {
          "bdata": "+300q5yWPEDyCQfCrJ88QFGX7ETQXDZAKNuKPUY4PUD788eFAIg2QHsnvM1FKz9Ap+DlFLycPkCO4ziO4zg2QAAAAAAAAFlA",
          "dtype": "f8"
         }
        },
        {
         "customdata": [
          [
           "10020",
           "72.0"
          ],
          [
           "4325",
           "71.0"
          ],
          [
           "1915",
           "70.0"
          ],
          [
           "1582",
           "71.0"
          ],
          [
           "788",
           "71.0"
          ],
          [
           "786",
           "71.0"
          ],
          [
           "21",
           "69.0"
          ],
          [
           "2",
           "65.0"
          ],
          [
           "0",
           ""
          ]
         ],
         "hovertemplate": "Delayed Minutes (Knife-to-Skin): <b>60-90</b><br>%{x}<br>Pct late: %{y:.1f}%<br>Cases: %{customdata[0]}<br>Median: %{customdata[1]} min<extra></extra>",
         "name": "60-90",
         "type": "bar",
         "visible": false,
         "x": [
          "Main Building OT",
          "Endoscopy Center",
          "Medical Center OT",
          "Kent Ridge Wing OT",
          "ICL",
          "DDI",
          "Urology",
          "AH Endoscopy Center",
          "AH Day Surgery Theatre"
         ],
         "y": {
          "bdata": "PSiyKsAtMUDPRGH3CoslQNta5kIZtRxAM2tEuYlIJEBd+4iBbxskQHjAmUghiShA27Zt27ZtNUAS2ktoL6EdQAAAAAAAAAAA",
          "dtype": "f8"
         }
        },
        {
         "customdata": [
          [
           "5424",
           "102.0"
          ],
          [
           "1613",
           "101.0"
          ],
          [
           "639",
           "102.0"
          ],
          [
           "565",
           "101.0"
          ],
          [
           "329",
           "100.0"
          ],
          [
           "300",
           "100.0"
          ],
          [
           "10",
           "96.0"
          ],
          [
           "0",
           ""
          ],
          [
           "0",
           ""
          ]
         ],
         "hovertemplate": "Delayed Minutes (Knife-to-Skin): <b>90-120</b><br>%{x}<br>Pct late: %{y:.1f}%<br>Cases: %{customdata[0]}<br>Median: %{customdata[1]} min<extra></extra>",
         "name": "90-120",
         "type": "bar",
         "visible": false,
         "x": [
          "Main Building OT",
          "Endoscopy Center",
          "Medical Center OT",
          "Kent Ridge Wing OT",
          "ICL",
          "DDI",
          "Urology",
          "AH Endoscopy Center",
          "AH Day Surgery Theatre"
         ],
         "y": {
          "bdata": "pn7rVyiZIkAPxk/spREQQLVYhheEKANAknTPUen5DEC6ftRFPcoQQGCq6HfBuhJAGutDY31oJEAAAAAAAAAAAAAAAAAAAAAA",
          "dtype": "f8"
         }
        },
        {
         "customdata": [
          [
           "8574",
           "186.0"
          ],
          [
           "1568",
           "156.0"
          ],
          [
           "434",
           "143.5"
          ],
          [
           "435",
           "146.0"
          ],
          [
           "780",
           "211.5"
          ],
          [
           "261",
           "156.0"
          ],
          [
           "5",
           "155.0"
          ],
          [
           "1",
           "175.0"
          ],
          [
           "0",
           ""
          ]
         ],
         "hovertemplate": "Delayed Minutes (Knife-to-Skin): <b>120+</b><br>%{x}<br>Pct late: %{y:.1f}%<br>Cases: %{customdata[0]}<br>Median: %{customdata[1]} min<extra></extra>",
         "name": "120+",
         "type": "bar",
         "visible": false,
         "x": [
          "Main Building OT",
          "Endoscopy Center",
          "Medical Center OT",
          "Kent Ridge Wing OT",
          "ICL",
          "DDI",
          "Urology",
          "AH Endoscopy Center",
          "AH Day Surgery Theatre"
         ],
         "y": {
          "bdata": "bH+J3DVmLUAzNRe7xD0PQI0ZO9AoBvo/qQPvpCJPBkDR6zpmLecjQMlWXP9vSxBAGutDY31oFEAS2ktoL6ENQAAAAAAAAAAA",
          "dtype": "f8"
         }
        },
        {
         "customdata": [
          [
           "4529",
           "14.0"
          ],
          [
           "1053",
           "18.0"
          ],
          [
           "849",
           "17.0"
          ],
          [
           "3841",
           "14.0"
          ],
          [
           "3676",
           "14.0"
          ],
          [
           "3428",
           "14.0"
          ],
          [
           "2167",
           "14.0"
          ],
          [
           "2118",
           "15.0"
          ],
          [
           "1013",
           "18.0"
          ],
          [
           "1163",
           "17.0"
          ]
         ],
         "hovertemplate": "Delayed Minutes (Knife-to-Skin): <b>0-30</b><br>%{x}<br>Pct late: %{y:.1f}%<br>Cases: %{customdata[0]}<br>Median: %{customdata[1]} min<extra></extra>",
         "name": "0-30",
         "type": "bar",
         "visible": false,
         "x": [
          "ENDO4",
          "MBOR08",
          "MBOR09",
          "ENDO6",
          "ENDO3",
          "ENDO1",
          "ENDO2",
          "ENDO5",
          "MBOR14",
          "MBOR18"
         ],
         "y": {
          "bdata": "aODnuAngSkAzjEmgn+YpQGmanDfnCCZAoR1+/NX9S0DuzBhoQklNQC1wdEpKc0tAMoylrIVwREBNGUU0Qw1HQP6Qc3mr1DZAeO1Pd+1POkA=",
          "dtype": "f8"
         }
        },
        {
         "customdata": [
          [
           "2328",
           "41.0"
          ],
          [
           "1735",
           "45.0"
          ],
          [
           "1496",
           "46.0"
          ],
          [
           "2072",
           "41.0"
          ],
          [
           "1690",
           "41.0"
          ],
          [
           "1839",
           "41.0"
          ],
          [
           "1448",
           "42.0"
          ],
          [
           "1366",
           "42.0"
          ],
          [
           "1423",
           "44.0"
          ],
          [
           "1086",
           "43.0"
          ]
         ],
         "hovertemplate": "Delayed Minutes (Knife-to-Skin): <b>30-60</b><br>%{x}<br>Pct late: %{y:.1f}%<br>Cases: %{customdata[0]}<br>Median: %{customdata[1]} min<extra></extra>",
         "name": "30-60",
         "type": "bar",
         "visible": false,
         "x": [
          "ENDO4",
          "MBOR08",
          "MBOR09",
          "ENDO6",
          "ENDO3",
          "ENDO1",
          "ENDO2",
          "ENDO5",
          "MBOR14",
          "MBOR18"
         ],
         "y": {
          "bdata": "bd008vagO0B30cH8jFY1QBB4dXjXaTNAjjKJLx4zPkDKKEYSkO06QMO8qT3Icz1ABZRLN8tQO0Ag3x4DBLw9QPWqubYdCUBAavSRavSROEA=",
          "dtype": "f8"
         }
        },
        {
         "customdata": [
          [
           "965",
           "72.0"
          ],
          [
           "1962",
           "74.0"
          ],
          [
           "1750",
           "74.0"
          ],
          [
           "642",
           "71.0"
          ],
          [
           "602",
           "70.0"
          ],
          [
           "616",
           "71.0"
          ],
          [
           "746",
           "72.0"
          ],
          [
           "567",
           "72.0"
          ],
          [
           "1033",
           "72.0"
          ],
          [
           "758",
           "73.0"
          ]
         ],
         "hovertemplate": "Delayed Minutes (Knife-to-Skin): <b>60-90</b><br>%{x}<br>Pct late: %{y:.1f}%<br>Cases: %{customdata[0]}<br>Median: %{customdata[1]} min<extra></extra>",
         "name": "60-90",
         "type": "bar",
         "visible": false,
         "x": [
          "ENDO4",
          "MBOR08",
          "MBOR09",
          "ENDO6",
          "ENDO3",
          "ENDO1",
          "ENDO2",
          "ENDO5",
          "MBOR14",
          "MBOR18"
         ],
         "y": {
          "bdata": "zsuOSsHnJkCOjdBgPyE4QFU7z9WmtTZAtn6stee2IkB+fGVSJy8jQNkd2v4euyNAPF+cMkglLEDcrLnuMq8oQID+sScQSDdA6zkm6zkmMUA=",
          "dtype": "f8"
         }
        },
        {
         "customdata": [
          [
           "332",
           "100.0"
          ],
          [
           "1218",
           "102.0"
          ],
          [
           "1258",
           "103.0"
          ],
          [
           "184",
           "98.0"
          ],
          [
           "178",
           "100.0"
          ],
          [
           "212",
           "101.0"
          ],
          [
           "373",
           "102.0"
          ],
          [
           "260",
           "101.0"
          ],
          [
           "406",
           "101.0"
          ],
          [
           "498",
           "103.0"
          ]
         ],
         "hovertemplate": "Delayed Minutes (Knife-to-Skin): <b>90-120</b><br>%{x}<br>Pct late: %{y:.1f}%<br>Cases: %{customdata[0]}<br>Median: %{customdata[1]} min<extra></extra>",
         "name": "90-120",
         "type": "bar",
         "visible": false,
         "x": [
          "ENDO4",
          "MBOR08",
          "MBOR09",
          "ENDO6",
          "ENDO3",
          "ENDO1",
          "ENDO2",
          "ENDO5",
          "MBOR14",
          "MBOR18"
         ],
         "y": {
          "bdata": "sSCOyX+FD0DE074xnPUtQLANel8vUzBAxDB5kGB0BUCRaVlcirAGQCiQOcl9KQtAPF+cMkglHEBsQgyiYqMWQKL3TKL3TCJAE7CIErCIJkA=",
          "dtype": "f8"
         }
        },
        {
         "customdata": [
          [
           "272",
           "153.0"
          ],
          [
           "2163",
           "244.0"
          ],
          [
           "2353",
           "238.0"
          ],
          [
           "122",
           "138.5"
          ],
          [
           "130",
           "154.0"
          ],
          [
           "149",
           "149.0"
          ],
          [
           "567",
           "164.0"
          ],
          [
           "283",
           "155.0"
          ],
          [
           "562",
           "215.0"
          ],
          [
           "915",
           "162.0"
          ]
         ],
         "hovertemplate": "Delayed Minutes (Knife-to-Skin): <b>120+</b><br>%{x}<br>Pct late: %{y:.1f}%<br>Cases: %{customdata[0]}<br>Median: %{customdata[1]} min<extra></extra>",
         "name": "120+",
         "type": "bar",
         "visible": false,
         "x": [
          "ENDO4",
          "MBOR08",
          "MBOR09",
          "ENDO6",
          "ENDO3",
          "ENDO1",
          "ENDO2",
          "ENDO5",
          "MBOR14",
          "MBOR18"
         ],
         "y": {
          "bdata": "Qb4R7CfTCUAAcWm5FZo6QLfxcrbeiD5AzctSqV5z/D9Bj1JGMZIAQJUPyaYfFwNAVxjokmZkJUD6HNzRDaQYQJA9gUAaVSlAKYyzKYyzNEA=",
          "dtype": "f8"
         }
        },
        {
         "customdata": [
          [
           "66961",
           "14.0"
          ],
          [
           "3483",
           "16.0"
          ],
          [
           "944",
           "15.0"
          ],
          [
           "261",
           "20.0"
          ],
          [
           "69",
           "15.0"
          ],
          [
           "64",
           "17.0"
          ],
          [
           "76",
           "18.5"
          ],
          [
           "39",
           "19.0"
          ],
          [
           "33",
           "19.0"
          ],
          [
           "31",
           "19.0"
          ]
         ],
         "hovertemplate": "Delayed Minutes (Knife-to-Skin): <b>0-30</b><br>%{x}<br>Pct late: %{y:.1f}%<br>Cases: %{customdata[0]}<br>Median: %{customdata[1]} min<extra></extra>",
         "name": "0-30",
         "type": "bar",
         "visible": false,
         "x": [
          "0",
          "image intensifier",
          "mini ii",
          "da vinci robotics",
          "image intensifier; jackson table",
          "amsco table; image intensifier",
          "microscope",
          "hand microscope",
          "amsco table; image intensifier; microscope",
          "image intensifier; microscope"
         ],
         "y": {
          "bdata": "F8gH0jDHR0D1bzkAIxRDQCz5xZJfLElAZpzOow/7REBGZVRGZVQuQBkZGRkZGTlAh9QE463sQUA6pCYYb2UyQMJyTyMs9zJAg+TPqyzONEA=",
          "dtype": "f8"
         }
        },
        {
         "customdata": [
          [
           "37939",
           "41.0"
          ],
          [
           "2857",
           "42.0"
          ],
          [
           "536",
           "41.5"
          ],
          [
           "275",
           "39.0"
          ],
          [
           "186",
           "45.0"
          ],
          [
           "91",
           "41.0"
          ],
          [
           "67",
           "44.0"
          ],
          [
           "41",
           "48.0"
          ],
          [
           "59",
           "43.0"
          ],
          [
           "64",
           "45.5"
          ]
         ],
         "hovertemplate": "Delayed Minutes (Knife-to-Skin): <b>30-60</b><br>%{x}<br>Pct late: %{y:.1f}%<br>Cases: %{customdata[0]}<br>Median: %{customdata[1]} min<extra></extra>",
         "name": "30-60",
         "type": "bar",
         "visible": false,
         "x": [
          "0",
          "image intensifier",
          "mini ii",
          "da vinci robotics",
          "image intensifier; jackson table",
          "amsco table; image intensifier",
          "microscope",
          "hand microscope",
          "amsco table; image intensifier; microscope",
          "image intensifier; microscope"
         ],
         "y": {
          "bdata": "pQOL1c3xOkAyN6LZnkw/QJb8YskvljxAz6MP+ykbRkAIh3AIh3BEQNjX19fX10FAxlvZ55CaP0CgQ2qC8VYzQK1Dv9k69EBARXhSkPx5RUA=",
          "dtype": "f8"
         }
        },
        {
         "customdata": [
          [
           "17173",
           "72.0"
          ],
          [
           "1356",
           "71.0"
          ],
          [
           "229",
           "72.0"
          ],
          [
           "56",
           "70.0"
          ],
          [
           "111",
           "70.0"
          ],
          [
           "59",
           "74.0"
          ],
          [
           "39",
           "72.0"
          ],
          [
           "63",
           "72.0"
          ],
          [
           "46",
           "72.0"
          ],
          [
           "39",
           "70.0"
          ]
         ],
         "hovertemplate": "Delayed Minutes (Knife-to-Skin): <b>60-90</b><br>%{x}<br>Pct late: %{y:.1f}%<br>Cases: %{customdata[0]}<br>Median: %{customdata[1]} min<extra></extra>",
         "name": "60-90",
         "type": "bar",
         "visible": false,
         "x": [
          "0",
          "image intensifier",
          "mini ii",
          "da vinci robotics",
          "image intensifier; jackson table",
          "amsco table; image intensifier",
          "microscope",
          "hand microscope",
          "amsco table; image intensifier; microscope",
          "image intensifier; microscope"
         ],
         "y": {
          "bdata": "PjdUxIxkKEBl7+Gt9bUtQG2g0wY6bShAiXYQdKUBIkBURmVURmU4QCMjIyMjIzdAOqQmGG9lMkD7HFITjLc9QA/9ZuvQbzpAlILkz6ssOkA=",
          "dtype": "f8"
         }
        },
        {
         "customdata": [
          [
           "7814",
           "101.0"
          ],
          [
           "652",
           "102.0"
          ],
          [
           "86",
           "100.5"
          ],
          [
           "18",
           "100.0"
          ],
          [
           "54",
           "102.0"
          ],
          [
           "20",
           "99.5"
          ],
          [
           "12",
           "101.5"
          ],
          [
           "25",
           "101.0"
          ],
          [
           "20",
           "98.5"
          ],
          [
           "10",
           "101.0"
          ]
         ],
         "hovertemplate": "Delayed Minutes (Knife-to-Skin): <b>90-120</b><br>%{x}<br>Pct late: %{y:.1f}%<br>Cases: %{customdata[0]}<br>Median: %{customdata[1]} min<extra></extra>",
         "name": "90-120",
         "type": "bar",
         "visible": false,
         "x": [
          "0",
          "image intensifier",
          "mini ii",
          "da vinci robotics",
          "image intensifier; jackson table",
          "amsco table; image intensifier",
          "microscope",
          "hand microscope",
          "amsco table; image intensifier; microscope",
          "image intensifier; microscope"
         ],
         "y": {
          "bdata": "NF3wZb8yFkAkSZIkSZIcQFnyiyW/WBJAi+GCJ7AmB0DHe7zHe7wnQF9fX19fXx9Ag/FW9jmkFkDokJpgvJUnQOvQb7YO/SZAVhZntHvYGkA=",
          "dtype": "f8"
         }
        },
        {
         "customdata": [
          [
           "10917",
           "177.0"
          ],
          [
           "780",
           "161.0"
          ],
          [
           "80",
           "164.0"
          ],
          [
           "12",
           "140.0"
          ],
          [
           "35",
           "161.0"
          ],
          [
           "21",
           "156.0"
          ],
          [
           "18",
           "146.0"
          ],
          [
           "44",
           "330.5"
          ],
          [
           "16",
           "137.5"
          ],
          [
           "5",
           "147.0"
          ]
         ],
         "hovertemplate": "Delayed Minutes (Knife-to-Skin): <b>120+</b><br>%{x}<br>Pct late: %{y:.1f}%<br>Cases: %{customdata[0]}<br>Median: %{customdata[1]} min<extra></extra>",
         "name": "120+",
         "type": "bar",
         "visible": false,
         "x": [
          "0",
          "image intensifier",
          "mini ii",
          "da vinci robotics",
          "image intensifier; jackson table",
          "amsco table; image intensifier",
          "microscope",
          "hand microscope",
          "amsco table; image intensifier; microscope",
          "image intensifier; microscope"
         ],
         "y": {
          "bdata": "B+X8KmkDH0DQvaoLHBchQBERERERERFAEIKuNEDe/j9P7MRO7MQeQHh4eHh4eCBAIjXBeCv7IEC4ss8hNcE0QLxAJsULZCJAVhZntHvYCkA=",
          "dtype": "f8"
         }
        },
        {
         "customdata": [
          [
           "65833",
           "14.0"
          ],
          [
           "2338",
           "17.0"
          ],
          [
           "2794",
           "16.0"
          ],
          [
           "198",
           "18.5"
          ],
          [
           "940",
           "15.0"
          ],
          [
           "107",
           "18.0"
          ],
          [
           "53",
           "18.0"
          ]
         ],
         "hovertemplate": "Delayed Minutes (Knife-to-Skin): <b>0-30</b><br>%{x}<br>Pct late: %{y:.1f}%<br>Cases: %{customdata[0]}<br>Median: %{customdata[1]} min<extra></extra>",
         "name": "0-30",
         "type": "bar",
         "visible": false,
         "x": [
          "0",
          "P2B",
          "P1",
          "P2A",
          "P0",
          "P3B",
          "P3A"
         ],
         "y": {
          "bdata": "lkHGUQH7SUBtmxuPbXgqQEbg3yVjpEVAUHHJEKyjJUAZB1/rKAtPQEUXXXTRZS5AtgVivd2zM0A=",
          "dtype": "f8"
         }
        },
        {
         "customdata": [
          [
           "36597",
           "41.0"
          ],
          [
           "3545",
           "46.0"
          ],
          [
           "1388",
           "41.0"
          ],
          [
           "406",
           "46.0"
          ],
          [
           "317",
           "38.0"
          ],
          [
           "191",
           "45.0"
          ],
          [
           "50",
           "46.0"
          ]
         ],
         "hovertemplate": "Delayed Minutes (Knife-to-Skin): <b>30-60</b><br>%{x}<br>Pct late: %{y:.1f}%<br>Cases: %{customdata[0]}<br>Median: %{customdata[1]} min<extra></extra>",
         "name": "30-60",
         "type": "bar",
         "visible": false,
         "x": [
          "0",
          "P2B",
          "P1",
          "P2A",
          "P0",
          "P3B",
          "P3A"
         ],
         "y": {
          "bdata": "rfCf7KziPEAzSgDsYxE0QKqyUayxgDVAa+xhFpAvNkCFgd0NG/A0QNFFF110ITtAH5uRQ12WMkA=",
          "dtype": "f8"
         }
        },
        {
         "customdata": [
          [
           "13646",
           "71.0"
          ],
          [
           "4294",
           "74.0"
          ],
          [
           "749",
           "72.0"
          ],
          [
           "427",
           "75.0"
          ],
          [
           "88",
           "70.0"
          ],
          [
           "169",
           "75.0"
          ],
          [
           "66",
           "72.0"
          ]
         ],
         "hovertemplate": "Delayed Minutes (Knife-to-Skin): <b>60-90</b><br>%{x}<br>Pct late: %{y:.1f}%<br>Cases: %{customdata[0]}<br>Median: %{customdata[1]} min<extra></extra>",
         "name": "60-90",
         "type": "bar",
         "visible": false,
         "x": [
          "0",
          "P2B",
          "P1",
          "P2A",
          "P0",
          "P3B",
          "P3A"
         ],
         "y": {
          "bdata": "QT4PSImKJUAaDL0L1k44QPwYxuvxNCdAVVVVVVVVN0CVy05b6j8XQNFFF110AThA7CjpdwqJOEA=",
          "dtype": "f8"
         }
        },
        {
         "customdata": [
          [
           "5372",
           "101.0"
          ],
          [
           "2694",
           "102.0"
          ],
          [
           "351",
           "100.0"
          ],
          [
           "293",
           "101.0"
          ],
          [
           "44",
           "100.5"
          ],
          [
           "92",
           "104.0"
          ],
          [
           "34",
           "98.5"
          ]
         ],
         "hovertemplate": "Delayed Minutes (Knife-to-Skin): <b>90-120</b><br>%{x}<br>Pct late: %{y:.1f}%<br>Cases: %{customdata[0]}<br>Median: %{customdata[1]} min<extra></extra>",
         "name": "90-120",
         "type": "bar",
         "visible": false,
         "x": [
          "0",
          "P2B",
          "P1",
          "P2A",
          "P0",
          "P3B",
          "P3A"
         ],
         "y": {
          "bdata": "whFzU8z1EEA3I4LsQIAuQNvKoxImwBVAJEqNPcwCMECVy05b6j8HQKOLLrroIipApRp0HmBHKUA=",
          "dtype": "f8"
         }
        },
        {
         "customdata": [
          [
           "5249",
           "152.0"
          ],
          [
           "4794",
           "222.0"
          ],
          [
           "1173",
           "302.0"
          ],
          [
           "506",
           "245.5"
          ],
          [
           "125",
           "213.0"
          ],
          [
           "145",
           "223.0"
          ],
          [
           "66",
           "188.0"
          ]
         ],
         "hovertemplate": "Delayed Minutes (Knife-to-Skin): <b>120+</b><br>%{x}<br>Pct late: %{y:.1f}%<br>Cases: %{customdata[0]}<br>Median: %{customdata[1]} min<extra></extra>",
         "name": "120+",
         "type": "bar",
         "visible": false,
         "x": [
          "0",
          "P2B",
          "P1",
          "P2A",
          "P0",
          "P3B",
          "P3A"
         ],
         "y": {
          "bdata": "XqK822KSEEBgynPKbiM7QJWNYo0FLDJAdLtWTnimO0Ddx01yNoMgQOmiiy66mDRA7CjpdwqJOEA=",
          "dtype": "f8"
         }
        },
        {
         "customdata": [
          [
           "15931",
           "15.0"
          ],
          [
           "11884",
           "14.0"
          ],
          [
           "5375",
           "17.0"
          ],
          [
           "11473",
           "13.0"
          ],
          [
           "3170",
           "17.0"
          ],
          [
           "3132",
           "15.0"
          ],
          [
           "4052",
           "12.0"
          ],
          [
           "4846",
           "10.0"
          ],
          [
           "3064",
           "13.0"
          ],
          [
           "2794",
           "16.0"
          ]
         ],
         "hovertemplate": "Delayed Minutes (Knife-to-Skin): <b>0-30</b><br>%{x}<br>Pct late: %{y:.1f}%<br>Cases: %{customdata[0]}<br>Median: %{customdata[1]} min<extra></extra>",
         "name": "0-30",
         "type": "bar",
         "visible": false,
         "x": [
          "Surgery",
          "Gastroenterology & Hepatology",
          "Orthopaedic Surgery",
          "Obstetrics & Gynaecology",
          "CardiacThoracic&Vascular Surg",
          "Hand&Reconstructive Microsurg",
          "Cardiac",
          "Ophthalmology",
          "Radiology",
          "Otolaryngology&Head&Neck Surg"
         ],
         "y": {
          "bdata": "vsnRLz3BREAcldY61ABKQC6dn3Ae4T1AnJGP9QnOUECoCf2Y+ZQ9QHBdHU5SkUNA0bc1wAuSSkA6+b2AbwJSQFjabE585UdAV7li941FR0A=",
          "dtype": "f8"
         }
        },
        {
         "customdata": [
          [
           "11440",
           "42.0"
          ],
          [
           "6492",
           "41.0"
          ],
          [
           "5467",
           "42.0"
          ],
          [
           "3472",
           "39.0"
          ],
          [
           "2692",
           "43.0"
          ],
          [
           "2180",
           "43.0"
          ],
          [
           "1714",
           "41.0"
          ],
          [
           "1204",
           "40.0"
          ],
          [
           "1998",
           "42.0"
          ],
          [
           "1934",
           "40.0"
          ]
         ],
         "hovertemplate": "Delayed Minutes (Knife-to-Skin): <b>30-60</b><br>%{x}<br>Pct late: %{y:.1f}%<br>Cases: %{customdata[0]}<br>Median: %{customdata[1]} min<extra></extra>",
         "name": "30-60",
         "type": "bar",
         "visible": false,
         "x": [
          "Surgery",
          "Gastroenterology & Hepatology",
          "Orthopaedic Surgery",
          "Obstetrics & Gynaecology",
          "CardiacThoracic&Vascular Surg",
          "Hand&Reconstructive Microsurg",
          "Cardiac",
          "Ophthalmology",
          "Radiology",
          "Otolaryngology&Head&Neck Surg"
         ],
         "y": {
          "bdata": "1eb2+9bOPUAkVj2f/mg8QCRAoRkLZD5AX38f2ZdXNEDGSeRtDh85QCk5F45iPTtA0xXGVIt6NkCbuAvU5OUxQKBnt41JKj9ABjsIBc4bQEA=",
          "dtype": "f8"
         }
        },
        {
         "customdata": [
          [
           "5512",
           "72.0"
          ],
          [
           "2443",
           "71.0"
          ],
          [
           "3153",
           "72.0"
          ],
          [
           "1071",
           "71.0"
          ],
          [
           "1679",
           "73.0"
          ],
          [
           "1402",
           "73.0"
          ],
          [
           "763",
           "71.0"
          ],
          [
           "400",
           "70.5"
          ],
          [
           "786",
           "71.0"
          ],
          [
           "654",
           "71.0"
          ]
         ],
         "hovertemplate": "Delayed Minutes (Knife-to-Skin): <b>60-90</b><br>%{x}<br>Pct late: %{y:.1f}%<br>Cases: %{customdata[0]}<br>Median: %{customdata[1]} min<extra></extra>",
         "name": "60-90",
         "type": "bar",
         "visible": false,
         "x": [
          "Surgery",
          "Gastroenterology & Hepatology",
          "Orthopaedic Surgery",
          "Obstetrics & Gynaecology",
          "CardiacThoracic&Vascular Surg",
          "Hand&Reconstructive Microsurg",
          "Cardiac",
          "Ophthalmology",
          "Radiology",
          "Otolaryngology&Head&Neck Surg"
         ],
         "y": {
          "bdata": "ItWQzVq5LEAZvE6EymElQG0W+DsChzFAQUBzfX8ZGUC55UQJGVYvQLn69t23hDFAkvIPfVsDJEBC2TU/5cgXQO6z8gY2hShAvSWJ0ALKJUA=",
          "dtype": "f8"
         }
        },
        {
         "customdata": [
          [
           "2396",
           "101.0"
          ],
          [
           "976",
           "101.0"
          ],
          [
           "1704",
           "102.0"
          ],
          [
           "411",
           "101.0"
          ],
          [
           "1116",
           "103.0"
          ],
          [
           "588",
           "101.0"
          ],
          [
           "323",
           "100.0"
          ],
          [
           "150",
           "102.0"
          ],
          [
           "302",
           "100.0"
          ],
          [
           "293",
           "101.0"
          ]
         ],
         "hovertemplate": "Delayed Minutes (Knife-to-Skin): <b>90-120</b><br>%{x}<br>Pct late: %{y:.1f}%<br>Cases: %{customdata[0]}<br>Median: %{customdata[1]} min<extra></extra>",
         "name": "90-120",
         "type": "bar",
         "visible": false,
         "x": [
          "Surgery",
          "Gastroenterology & Hepatology",
          "Orthopaedic Surgery",
          "Obstetrics & Gynaecology",
          "CardiacThoracic&Vascular Surg",
          "Hand&Reconstructive Microsurg",
          "Cardiac",
          "Ophthalmology",
          "Radiology",
          "Otolaryngology&Head&Neck Surg"
         ],
         "y": {
          "bdata": "n+ZWVNT4GEBLIpnJpxURQKyfPKzl8SJAFfUhXp1DA0C6Ay+MI9QkQIVP7iKUYx1AEzl8LLvxEEDyYmjvq9YBQEzeY5G11xJAaOLxyAiGE0A=",
          "dtype": "f8"
         }
        },
        {
         "customdata": [
          [
           "3100",
           "184.0"
          ],
          [
           "1056",
           "157.0"
          ],
          [
           "2290",
           "178.0"
          ],
          [
           "641",
           "236.0"
          ],
          [
           "2059",
           "165.0"
          ],
          [
           "701",
           "199.0"
          ],
          [
           "773",
           "213.0"
          ],
          [
           "127",
           "146.0"
          ],
          [
           "261",
           "156.0"
          ],
          [
           "328",
           "175.5"
          ]
         ],
         "hovertemplate": "Delayed Minutes (Knife-to-Skin): <b>120+</b><br>%{x}<br>Pct late: %{y:.1f}%<br>Cases: %{customdata[0]}<br>Median: %{customdata[1]} min<extra></extra>",
         "name": "120+",
         "type": "bar",
         "visible": false,
         "x": [
          "Surgery",
          "Gastroenterology & Hepatology",
          "Orthopaedic Surgery",
          "Obstetrics & Gynaecology",
          "CardiacThoracic&Vascular Surg",
          "Hand&Reconstructive Microsurg",
          "Cardiac",
          "Ophthalmology",
          "Radiology",
          "Otolaryngology&Head&Neck Surg"
         ],
         "y": {
          "bdata": "7MIOUZgnIEAOZB/aJnwSQNZ4UcfCdSlA+VsJLGYLDkDbt2Su2TYzQLn69t23hCFA++VOQoFGJEDh/B205TT+P5hIcrbVSBBAQC+kshHbFUA=",
          "dtype": "f8"
         }
        },
        {
         "customdata": [
          [
           "30271",
           "16.0"
          ],
          [
           "21196",
           "14.0"
          ],
          [
           "11674",
           "12.0"
          ],
          [
           "4906",
           "11.0"
          ],
          [
           "3744",
           "16.0"
          ],
          [
           "465",
           "15.0"
          ],
          [
           "7",
           "14.0"
          ]
         ],
         "hovertemplate": "Delayed Minutes (Knife-to-Skin): <b>0-30</b><br>%{x}<br>Pct late: %{y:.1f}%<br>Cases: %{customdata[0]}<br>Median: %{customdata[1]} min<extra></extra>",
         "name": "0-30",
         "type": "bar",
         "visible": false,
         "x": [
          "GA",
          "Sedation",
          "LA",
          "NIL",
          "RA",
          "Monitored Anaesthesia Care",
          "LA (Standby)"
         ],
         "y": {
          "bdata": "udrV0inVQ0A6Y0KcKmBKQLFUb5CFtUpA8XBHEcqAS0CPGHU007tMQIixTejuo0FAlFJKKaWUNkA=",
          "dtype": "f8"
         }
        },
        {
         "customdata": [
          [
           "22042",
           "42.0"
          ],
          [
           "11398",
           "41.0"
          ],
          [
           "5038",
           "42.0"
          ],
          [
           "2172",
           "42.0"
          ],
          [
           "1467",
           "39.0"
          ],
          [
           "366",
           "42.0"
          ],
          [
           "11",
           "43.0"
          ]
         ],
         "hovertemplate": "Delayed Minutes (Knife-to-Skin): <b>30-60</b><br>%{x}<br>Pct late: %{y:.1f}%<br>Cases: %{customdata[0]}<br>Median: %{customdata[1]} min<extra></extra>",
         "name": "30-60",
         "type": "bar",
         "visible": false,
         "x": [
          "GA",
          "Sedation",
          "LA",
          "NIL",
          "RA",
          "Monitored Anaesthesia Care",
          "LA (Standby)"
         ],
         "y": {
          "bdata": "ViI3Ne7hPEDYWGgu3F08QOTRT5+QDTdAd1ll0z1aOEDw1laqa4Q2QEN3H/XzxDtAvvfee++9QUA=",
          "dtype": "f8"
         }
        },
        {
         "customdata": [
          [
           "10912",
           "72.0"
          ],
          [
           "4341",
           "71.0"
          ],
          [
           "2660",
           "72.0"
          ],
          [
           "831",
           "71.0"
          ],
          [
           "507",
           "72.0"
          ],
          [
           "182",
           "73.0"
          ],
          [
           "6",
           "72.0"
          ]
         ],
         "hovertemplate": "Delayed Minutes (Knife-to-Skin): <b>60-90</b><br>%{x}<br>Pct late: %{y:.1f}%<br>Cases: %{customdata[0]}<br>Median: %{customdata[1]} min<extra></extra>",
         "name": "60-90",
         "type": "bar",
         "visible": false,
         "x": [
          "GA",
          "Sedation",
          "LA",
          "NIL",
          "RA",
          "Monitored Anaesthesia Care",
          "LA (Standby)"
         ],
         "y": {
          "bdata": "eSvoj82YLECAooM/c5slQC0eiBLnVyhAjPQIeGaiIkDwL9R4zyAfQO/ZVTEbnitAW2uttdZaM0A=",
          "dtype": "f8"
         }
        },
        {
         "customdata": [
          [
           "5471",
           "102.0"
          ],
          [
           "1604",
           "101.0"
          ],
          [
           "1067",
           "101.0"
          ],
          [
           "335",
           "100.0"
          ],
          [
           "284",
           "103.0"
          ],
          [
           "117",
           "102.0"
          ],
          [
           "2",
           "102.5"
          ]
         ],
         "hovertemplate": "Delayed Minutes (Knife-to-Skin): <b>90-120</b><br>%{x}<br>Pct late: %{y:.1f}%<br>Cases: %{customdata[0]}<br>Median: %{customdata[1]} min<extra></extra>",
         "name": "90-120",
         "type": "bar",
         "visible": false,
         "x": [
          "GA",
          "Sedation",
          "LA",
          "NIL",
          "RA",
          "Monitored Anaesthesia Care",
          "LA (Standby)"
         ],
         "y": {
          "bdata": "joSPCO6sHECfjKhlfO8PQGwD8jqUhxNAsHHRmVcMDkA7QWyPym8RQIfnJHsRwSFAzjnnnHPOGUA=",
          "dtype": "f8"
         }
        },
        {
         "customdata": [
          [
           "7620",
           "178.0"
          ],
          [
           "1642",
           "157.0"
          ],
          [
           "1415",
           "179.0"
          ],
          [
           "675",
           "224.0"
          ],
          [
           "513",
           "201.0"
          ],
          [
           "188",
           "160.0"
          ],
          [
           "5",
           "295.0"
          ]
         ],
         "hovertemplate": "Delayed Minutes (Knife-to-Skin): <b>120+</b><br>%{x}<br>Pct late: %{y:.1f}%<br>Cases: %{customdata[0]}<br>Median: %{customdata[1]} min<extra></extra>",
         "name": "120+",
         "type": "bar",
         "visible": false,
         "x": [
          "GA",
          "Sedation",
          "LA",
          "NIL",
          "RA",
          "Monitored Anaesthesia Care",
          "LA (Standby)"
         ],
         "y": {
          "bdata": "rWIKtjf4I0CK92+ylVgQQB3TQ58u5hlAoXA0a79FHkCdbruqHX8fQOiJD8gvhyxAIYQQQgghMEA=",
          "dtype": "f8"
         }
        },
        {
         "customdata": [
          [
           "24530",
           "13.0"
          ],
          [
           "9826",
           "15.0"
          ],
          [
           "9909",
           "16.0"
          ],
          [
           "7729",
           "11.0"
          ],
          [
           "3971",
           "17.0"
          ],
          [
           "3553",
           "15.0"
          ],
          [
           "1253",
           "15.0"
          ],
          [
           "1282",
           "17.0"
          ],
          [
           "1685",
           "14.0"
          ],
          [
           "1622",
           "14.0"
          ]
         ],
         "hovertemplate": "Delayed Minutes (Knife-to-Skin): <b>0-30</b><br>%{x}<br>Pct late: %{y:.1f}%<br>Cases: %{customdata[0]}<br>Median: %{customdata[1]} min<extra></extra>",
         "name": "0-30",
         "type": "bar",
         "visible": false,
         "x": [
          "Subsidised",
          "Class C",
          "Class B2",
          "Private",
          "Class A",
          "Non Resident",
          "Not Admitted",
          "Class B1",
          "Subsidised PR",
          "Private for RF"
         ],
         "y": {
          "bdata": "7SJ9Sk6kTEBFa6r0fq8/QPAnY7gzvkNA2uHCKGk0UkC1UPsaDf9GQDBrvH7wY0dAla0uQFjZQUBl6C93IXFDQLd2+1r3KkxAmzZY0fNeS0A=",
          "dtype": "f8"
         }
        },
        {
         "customdata": [
          [
           "11557",
           "41.0"
          ],
          [
           "8661",
           "42.0"
          ],
          [
           "7437",
           "42.0"
          ],
          [
           "1925",
           "40.0"
          ],
          [
           "2578",
           "41.0"
          ],
          [
           "2354",
           "41.0"
          ],
          [
           "965",
           "42.0"
          ],
          [
           "986",
           "42.0"
          ],
          [
           "860",
           "41.0"
          ],
          [
           "728",
           "41.0"
          ]
         ],
         "hovertemplate": "Delayed Minutes (Knife-to-Skin): <b>30-60</b><br>%{x}<br>Pct late: %{y:.1f}%<br>Cases: %{customdata[0]}<br>Median: %{customdata[1]} min<extra></extra>",
         "name": "30-60",
         "type": "bar",
         "visible": false,
         "x": [
          "Subsidised",
          "Class C",
          "Class B2",
          "Private",
          "Class A",
          "Non Resident",
          "Not Admitted",
          "Class B1",
          "Subsidised PR",
          "Private for RF"
         ],
         "y": {
          "bdata": "Z9zq9wv9OkBYwSHNxe07QAcJXaCooj1Ad9IPqOwiMkD+ZK2k09s9QFzV0rN7/j5A49coOC1+O0D7om387ec9QB7+ybi/wDxArmB7ZNeROEA=",
          "dtype": "f8"
         }
        },
        {
         "customdata": [
          [
           "4202",
           "71.0"
          ],
          [
           "5120",
           "72.0"
          ],
          [
           "3534",
           "72.0"
          ],
          [
           "601",
           "70.0"
          ],
          [
           "1037",
           "71.0"
          ],
          [
           "919",
           "71.0"
          ],
          [
           "486",
           "72.0"
          ],
          [
           "500",
           "73.0"
          ],
          [
           "295",
           "71.0"
          ],
          [
           "351",
           "71.0"
          ]
         ],
         "hovertemplate": "Delayed Minutes (Knife-to-Skin): <b>60-90</b><br>%{x}<br>Pct late: %{y:.1f}%<br>Cases: %{customdata[0]}<br>Median: %{customdata[1]} min<extra></extra>",
         "name": "60-90",
         "type": "bar",
         "visible": false,
         "x": [
          "Subsidised",
          "Class C",
          "Class B2",
          "Private",
          "Class A",
          "Non Resident",
          "Not Admitted",
          "Class B1",
          "Subsidised PR",
          "Private for RF"
         ],
         "y": {
          "bdata": "tjMp7hugI0AKwTgXoYIwQO23Xq07KixA4z2njzqmFkDu79qkdAUoQMuDLtQ7MyhAFDuxEzuxK0Azy6dvolQuQAnV6ezQuSNAqPh2RTSxJ0A=",
          "dtype": "f8"
         }
        },
        {
         "customdata": [
          [
           "1416",
           "100.0"
          ],
          [
           "2760",
           "102.0"
          ],
          [
           "1808",
           "102.0"
          ],
          [
           "211",
           "100.0"
          ],
          [
           "429",
           "101.0"
          ],
          [
           "371",
           "101.0"
          ],
          [
           "284",
           "104.0"
          ],
          [
           "209",
           "99.0"
          ],
          [
           "81",
           "102.0"
          ],
          [
           "132",
           "101.0"
          ]
         ],
         "hovertemplate": "Delayed Minutes (Knife-to-Skin): <b>90-120</b><br>%{x}<br>Pct late: %{y:.1f}%<br>Cases: %{customdata[0]}<br>Median: %{customdata[1]} min<extra></extra>",
         "name": "90-120",
         "type": "bar",
         "visible": false,
         "x": [
          "Subsidised",
          "Class C",
          "Class B2",
          "Private",
          "Class A",
          "Non Resident",
          "Not Admitted",
          "Class B1",
          "Subsidised PR",
          "Private for RF"
         ],
         "y": {
          "bdata": "UGgkKSV0CkAfMAmt1cwhQN0UJYuI0RxAs7/OpprO/z/k46FO+t8TQBwoDhQHihNA6wKEla0uIEDmqkcFPFsZQJligBw9qgVAprYK7NzREUA=",
          "dtype": "f8"
         }
        },
        {
         "customdata": [
          [
           "1117",
           "146.0"
          ],
          [
           "4644",
           "182.0"
          ],
          [
           "2407",
           "181.0"
          ],
          [
           "148",
           "159.0"
          ],
          [
           "619",
           "177.0"
          ],
          [
           "398",
           "159.0"
          ],
          [
           "522",
           "172.0"
          ],
          [
           "320",
           "175.0"
          ],
          [
           "70",
           "142.0"
          ],
          [
           "130",
           "176.5"
          ]
         ],
         "hovertemplate": "Delayed Minutes (Knife-to-Skin): <b>120+</b><br>%{x}<br>Pct late: %{y:.1f}%<br>Cases: %{customdata[0]}<br>Median: %{customdata[1]} min<extra></extra>",
         "name": "120+",
         "type": "bar",
         "visible": false,
         "x": [
          "Subsidised",
          "Class C",
          "Class B2",
          "Private",
          "Class A",
          "Non Resident",
          "Not Admitted",
          "Class B1",
          "Subsidised PR",
          "Private for RF"
         ],
         "y": {
          "bdata": "zrYNtybeBECW9OygXvMtQNULyOrfLiNA3KreaGZP9j+iIhj9ZK0cQF8hZn4O9hRA5lu+5Vu+LUDPdxm4XWkjQOrs0LkLuQJAfSBYbL6MEUA=",
          "dtype": "f8"
         }
        },
        {
         "customdata": [
          [
           "17808",
           "14.0"
          ],
          [
           "16172",
           "13.0"
          ],
          [
           "11341",
           "13.0"
          ],
          [
           "2209",
           "14.0"
          ],
          [
           "1591",
           "18.0"
          ],
          [
           "1543",
           "17.0"
          ],
          [
           "1752",
           "14.0"
          ],
          [
           "1347",
           "17.0"
          ],
          [
           "851",
           "18.0"
          ],
          [
           "1738",
           "17.0"
          ]
         ],
         "hovertemplate": "Delayed Minutes (Knife-to-Skin): <b>0-30</b><br>%{x}<br>Pct late: %{y:.1f}%<br>Cases: %{customdata[0]}<br>Median: %{customdata[1]} min<extra></extra>",
         "name": "0-30",
         "type": "bar",
         "visible": false,
         "x": [
          "NCKED",
          "NWASW",
          "NW2A",
          "NW63",
          "NW43",
          "NW51",
          "Not Admitted",
          "NW41",
          "NW52",
          "NW48"
         ],
         "y": {
          "bdata": "7SxK8z0fTEALgP2fANhOQOD/RfcjnUtAV1IgrO15Q0AAAAAAAOg8QGE/6VSORjxAvTW9RoyVQ0A0Psxwxoc+QNH4Q6R39jZA330PeCJLSkA=",
          "dtype": "f8"
         }
        },
        {
         "customdata": [
          [
           "9134",
           "41.0"
          ],
          [
           "6338",
           "40.0"
          ],
          [
           "5354",
           "40.0"
          ],
          [
           "1395",
           "42.0"
          ],
          [
           "1751",
           "42.0"
          ],
          [
           "1631",
           "42.0"
          ],
          [
           "1197",
           "42.0"
          ],
          [
           "1394",
           "42.0"
          ],
          [
           "1071",
           "43.0"
          ],
          [
           "854",
           "39.0"
          ]
         ],
         "hovertemplate": "Delayed Minutes (Knife-to-Skin): <b>30-60</b><br>%{x}<br>Pct late: %{y:.1f}%<br>Cases: %{customdata[0]}<br>Median: %{customdata[1]} min<extra></extra>",
         "name": "30-60",
         "type": "bar",
         "visible": false,
         "x": [
          "NCKED",
          "NWASW",
          "NW2A",
          "NW63",
          "NW43",
          "NW51",
          "Not Admitted",
          "NW41",
          "NW52",
          "NW48"
         ],
         "y": {
          "bdata": "RXU0zDTZPEA00bJLEy04QMiWxzqTEjpA7lgCVE2ZOED6gr6gL9A/QBq98S9i4z1AVtgcSLTCOkDjwwxnfJg/QGJudUYq5jxAzCTdcfLWOUA=",
          "dtype": "f8"
         }
        },
        {
         "customdata": [
          [
           "3175",
           "71.0"
          ],
          [
           "2162",
           "71.0"
          ],
          [
           "2081",
           "71.0"
          ],
          [
           "710",
           "72.0"
          ],
          [
           "973",
           "71.0"
          ],
          [
           "931",
           "72.0"
          ],
          [
           "603",
           "72.0"
          ],
          [
           "729",
           "72.0"
          ],
          [
           "733",
           "73.0"
          ],
          [
           "332",
           "71.5"
          ]
         ],
         "hovertemplate": "Delayed Minutes (Knife-to-Skin): <b>60-90</b><br>%{x}<br>Pct late: %{y:.1f}%<br>Cases: %{customdata[0]}<br>Median: %{customdata[1]} min<extra></extra>",
         "name": "60-90",
         "type": "bar",
         "visible": false,
         "x": [
          "NCKED",
          "NWASW",
          "NW2A",
          "NW63",
          "NW43",
          "NW51",
          "Not Admitted",
          "NW41",
          "NW52",
          "NW48"
         ],
         "y": {
          "bdata": "T8Jw9ToOJEBh5mcGZn4gQC14aNyQRCRA2lYkLSgKKUBNWVPWlK0xQJEDdCeHDzFANDp/mTb2KkBZL4wc64UwQEnv7FFbxzNA0REKzjwXJEA=",
          "dtype": "f8"
         }
        },
        {
         "customdata": [
          [
           "988",
           "100.0"
          ],
          [
           "806",
           "102.0"
          ],
          [
           "841",
           "101.0"
          ],
          [
           "476",
           "102.0"
          ],
          [
           "494",
           "102.0"
          ],
          [
           "581",
           "102.0"
          ],
          [
           "332",
           "103.0"
          ],
          [
           "395",
           "100.0"
          ],
          [
           "379",
           "102.0"
          ],
          [
           "154",
           "101.0"
          ]
         ],
         "hovertemplate": "Delayed Minutes (Knife-to-Skin): <b>90-120</b><br>%{x}<br>Pct late: %{y:.1f}%<br>Cases: %{customdata[0]}<br>Median: %{customdata[1]} min<extra></extra>",
         "name": "90-120",
         "type": "bar",
         "visible": false,
         "x": [
          "NCKED",
          "NWASW",
          "NW2A",
          "NW63",
          "NW43",
          "NW51",
          "Not Admitted",
          "NW41",
          "NW52",
          "NW48"
         ],
         "y": {
          "bdata": "la9aqLP2CEDahwmefZgIQHY9Ms68YRBAaMWdf4PJIECVNWVNWfMhQJhNakYzSyVAML7tdnKwHUDmPr+43OchQF+lz7UMdCRAxPRo7W+jEkA=",
          "dtype": "f8"
         }
        },
        {
         "customdata": [
          [
           "557",
           "140.0"
          ],
          [
           "738",
           "147.0"
          ],
          [
           "918",
           "165.0"
          ],
          [
           "881",
           "174.0"
          ],
          [
           "695",
           "193.0"
          ],
          [
           "771",
           "168.0"
          ],
          [
           "589",
           "172.0"
          ],
          [
           "547",
           "202.0"
          ],
          [
           "672",
           "199.0"
          ],
          [
           "227",
           "287.0"
          ]
         ],
         "hovertemplate": "Delayed Minutes (Knife-to-Skin): <b>120+</b><br>%{x}<br>Pct late: %{y:.1f}%<br>Cases: %{customdata[0]}<br>Median: %{customdata[1]} min<extra></extra>",
         "name": "120+",
         "type": "bar",
         "visible": false,
         "x": [
          "NCKED",
          "NWASW",
          "NW2A",
          "NW63",
          "NW43",
          "NW51",
          "Not Admitted",
          "NW41",
          "NW52",
          "NW48"
         ],
         "y": {
          "bdata": "hJw317Ul/D9fVOjqRYUGQA14rtO04RFAh+i3+gISL0DcEXfEHUEpQFCy92DdQSxAEF/bf/ZVKkA7XnZex8soQNXWcWj8ITJAeWWS7jh5G0A=",
          "dtype": "f8"
         }
        },
        {
         "customdata": [
          [
           "20269",
           "14.0"
          ],
          [
           "2087",
           "13.0"
          ],
          [
           "1806",
           "9.0"
          ],
          [
           "394",
           "17.0"
          ],
          [
           "502",
           "14.0"
          ],
          [
           "538",
           "14.0"
          ],
          [
           "477",
           "13.0"
          ],
          [
           "480",
           "15.0"
          ],
          [
           "491",
           "14.0"
          ],
          [
           "448",
           "14.0"
          ]
         ],
         "hovertemplate": "Delayed Minutes (Knife-to-Skin): <b>0-30</b><br>%{x}<br>Pct late: %{y:.1f}%<br>Cases: %{customdata[0]}<br>Median: %{customdata[1]} min<extra></extra>",
         "name": "0-30",
         "type": "bar",
         "visible": false,
         "x": [
          "Not Admitted",
          "NASWC31",
          "NASWC82",
          "NEDS001",
          "NASWB21",
          "NASWB19",
          "NASWB22",
          "NASWB09",
          "NASWB15",
          "NASWB10"
         ],
         "y": {
          "bdata": "N+IHHIAXS0CjlKcvGEFNQJdGgCXsc1NAXbyC68/qMUC52S/EilJNQLNXtBhwOVBA///////PTUDT8IYOy0NOQLp0qMHuzE9A0fGu5yuNTUA=",
          "dtype": "f8"
         }
        },
        {
         "customdata": [
          [
           "10701",
           "41.0"
          ],
          [
           "944",
           "41.0"
          ],
          [
           "338",
           "39.0"
          ],
          [
           "580",
           "46.0"
          ],
          [
           "253",
           "40.0"
          ],
          [
           "191",
           "41.0"
          ],
          [
           "210",
           "40.5"
          ],
          [
           "197",
           "41.0"
          ],
          [
           "180",
           "41.0"
          ],
          [
           "191",
           "41.0"
          ]
         ],
         "hovertemplate": "Delayed Minutes (Knife-to-Skin): <b>30-60</b><br>%{x}<br>Pct late: %{y:.1f}%<br>Cases: %{customdata[0]}<br>Median: %{customdata[1]} min<extra></extra>",
         "name": "30-60",
         "type": "bar",
         "visible": false,
         "x": [
          "Not Admitted",
          "NASWC31",
          "NASWC82",
          "NEDS001",
          "NASWB21",
          "NASWB19",
          "NASWB22",
          "NASWB09",
          "NASWB15",
          "NASWB10"
         ],
         "y": {
          "bdata": "kHAepS6bPEBTrq00/nY6QGE247QYIC1AqkaH+ihgOkBMoHfqWo49QPKbk8owCjdAAAAAAABAOkBqoeybpdc4QH0iZnPpUDdA6CuN3agyOUA=",
          "dtype": "f8"
         }
        },
        {
         "customdata": [
          [
           "3897",
           "71.0"
          ],
          [
           "322",
           "72.0"
          ],
          [
           "126",
           "70.0"
          ],
          [
           "554",
           "73.0"
          ],
          [
           "61",
           "70.0"
          ],
          [
           "56",
           "69.5"
          ],
          [
           "68",
           "69.0"
          ],
          [
           "65",
           "69.0"
          ],
          [
           "55",
           "72.0"
          ],
          [
           "70",
           "69.5"
          ]
         ],
         "hovertemplate": "Delayed Minutes (Knife-to-Skin): <b>60-90</b><br>%{x}<br>Pct late: %{y:.1f}%<br>Cases: %{customdata[0]}<br>Median: %{customdata[1]} min<extra></extra>",
         "name": "60-90",
         "type": "bar",
         "visible": false,
         "x": [
          "Not Admitted",
          "NASWC31",
          "NASWC82",
          "NEDS001",
          "NASWB21",
          "NASWB19",
          "NASWB22",
          "NASWB09",
          "NASWB15",
          "NASWB10"
         ],
         "y": {
          "bdata": "GT3ZIMrVJECB8dVV7A0iQPa5yrL7thVAaID3HnoxOUCwojQ+MoEcQKSGPOw/BRtAAAAAAAAAIUAdbd6nuGQgQGC4tTdWfxxAIlfNcDt4IkA=",
          "dtype": "f8"
         }
        },
        {
         "customdata": [
          [
           "1367",
           "101.0"
          ],
          [
           "117",
           "102.0"
          ],
          [
           "28",
           "102.0"
          ],
          [
           "228",
           "100.5"
          ],
          [
           "19",
           "109.0"
          ],
          [
           "31",
           "100.0"
          ],
          [
           "26",
           "105.5"
          ],
          [
           "24",
           "105.0"
          ],
          [
           "20",
           "99.5"
          ],
          [
           "27",
           "104.0"
          ]
         ],
         "hovertemplate": "Delayed Minutes (Knife-to-Skin): <b>90-120</b><br>%{x}<br>Pct late: %{y:.1f}%<br>Cases: %{customdata[0]}<br>Median: %{customdata[1]} min<extra></extra>",
         "name": "90-120",
         "type": "bar",
         "visible": false,
         "x": [
          "Not Admitted",
          "NASWC31",
          "NASWC82",
          "NEDS001",
          "NASWB21",
          "NASWB19",
          "NASWB22",
          "NASWB09",
          "NASWB15",
          "NASWB10"
         ],
         "y": {
          "bdata": "vRE/4AA8DUAsJHjqkz0KQPdPe4JRTfM/IZXZRZi8JEAJ9E5dy8EBQMgCQzNi6g1AAAAAAAAACkAQJ58LPDYIQItXPhGzuQRAU7Jon/x+DEA=",
          "dtype": "f8"
         }
        },
        {
         "customdata": [
          [
           "1174",
           "154.0"
          ],
          [
           "97",
           "137.0"
          ],
          [
           "23",
           "130.0"
          ],
          [
           "443",
           "330.0"
          ],
          [
           "21",
           "148.0"
          ],
          [
           "13",
           "139.0"
          ],
          [
           "19",
           "141.0"
          ],
          [
           "27",
           "150.0"
          ],
          [
           "26",
           "166.0"
          ],
          [
           "22",
           "157.0"
          ]
         ],
         "hovertemplate": "Delayed Minutes (Knife-to-Skin): <b>120+</b><br>%{x}<br>Pct late: %{y:.1f}%<br>Cases: %{customdata[0]}<br>Median: %{customdata[1]} min<extra></extra>",
         "name": "120+",
         "type": "bar",
         "visible": false,
         "x": [
          "Not Admitted",
          "NASWC31",
          "NASWC82",
          "NEDS001",
          "NASWB21",
          "NASWB19",
          "NASWB22",
          "NASWB09",
          "NASWB15",
          "NASWB10"
         ],
         "y": {
          "bdata": "51Hqsl8bCUARWUkeRsEFQM3eXFbhte8/ALIR2EAlNECsKI2PTKADQOEzOBIpF/k/AAAAAAAAA0DyCxONAz0LQDXYnclo8QpA23QJNhA4B0A=",
          "dtype": "f8"
         }
        },
        {
         "customdata": [
          [
           "72235",
           "14.0"
          ],
          [
           "28",
           "15.0"
          ]
         ],
         "hovertemplate": "Delayed Minutes (Knife-to-Skin): <b>0-30</b><br>%{x}<br>Pct late: %{y:.1f}%<br>Cases: %{customdata[0]}<br>Median: %{customdata[1]} min<extra></extra>",
         "name": "0-30",
         "type": "bar",
         "visible": false,
         "x": [
          "False",
          "True"
         ],
         "y": {
          "bdata": "u60poWdKR0BcMgTraPNGQA==",
          "dtype": "f8"
         }
        },
        {
         "customdata": [
          [
           "42480",
           "41.0"
          ],
          [
           "14",
           "42.0"
          ]
         ],
         "hovertemplate": "Delayed Minutes (Knife-to-Skin): <b>30-60</b><br>%{x}<br>Pct late: %{y:.1f}%<br>Cases: %{customdata[0]}<br>Median: %{customdata[1]} min<extra></extra>",
         "name": "30-60",
         "type": "bar",
         "visible": false,
         "x": [
          "False",
          "True"
         ],
         "y": {
          "bdata": "q8+cs79kO0BcMgTraPM2QA==",
          "dtype": "f8"
         }
        },
        {
         "customdata": [
          [
           "19427",
           "72.0"
          ],
          [
           "12",
           "69.5"
          ]
         ],
         "hovertemplate": "Delayed Minutes (Knife-to-Skin): <b>60-90</b><br>%{x}<br>Pct late: %{y:.1f}%<br>Cases: %{customdata[0]}<br>Median: %{customdata[1]} min<extra></extra>",
         "name": "60-90",
         "type": "bar",
         "visible": false,
         "x": [
          "False",
          "True"
         ],
         "y": {
          "bdata": "eUL16ScOKUC9T3HJEKwzQA==",
          "dtype": "f8"
         }
        },
        {
         "customdata": [
          [
           "8876",
           "101.0"
          ],
          [
           "4",
           "102.0"
          ]
         ],
         "hovertemplate": "Delayed Minutes (Knife-to-Skin): <b>90-120</b><br>%{x}<br>Pct late: %{y:.1f}%<br>Cases: %{customdata[0]}<br>Median: %{customdata[1]} min<extra></extra>",
         "name": "90-120",
         "type": "bar",
         "visible": false,
         "x": [
          "False",
          "True"
         ],
         "y": {
          "bdata": "yE7VRCDlFkD8FJcMwToaQA==",
          "dtype": "f8"
         }
        },
        {
         "customdata": [
          [
           "12055",
           "175.0"
          ],
          [
           "3",
           "127.0"
          ]
         ],
         "hovertemplate": "Delayed Minutes (Knife-to-Skin): <b>120+</b><br>%{x}<br>Pct late: %{y:.1f}%<br>Cases: %{customdata[0]}<br>Median: %{customdata[1]} min<extra></extra>",
         "name": "120+",
         "type": "bar",
         "visible": false,
         "x": [
          "False",
          "True"
         ],
         "y": {
          "bdata": "vH9/D1QYH0C9T3HJEKwTQA==",
          "dtype": "f8"
         }
        },
        {
         "customdata": [
          [
           "68169",
           "14.0"
          ],
          [
           "2709",
           "13.0"
          ],
          [
           "1380",
           "17.0"
          ],
          [
           "3",
           "13.0"
          ],
          [
           "1",
           "24.0"
          ],
          [
           "1",
           "21.0"
          ],
          [
           "0",
           ""
          ]
         ],
         "hovertemplate": "Delayed Minutes (Knife-to-Skin): <b>0-30</b><br>%{x}<br>Pct late: %{y:.1f}%<br>Cases: %{customdata[0]}<br>Median: %{customdata[1]} min<extra></extra>",
         "name": "0-30",
         "type": "bar",
         "visible": false,
         "x": [
          "NIL",
          "Blood - 2 pint",
          "GXM",
          "TXS",
          "Blood - 1 pint",
          "Blood - 4 pint",
          "Blood - 3 pint"
         ],
         "y": {
          "bdata": "OkA8DZ5gR0BIH/ZTNjJIQDy1PibHkkJARRdddNFFO0AAAAAAAAA5QAAAAAAAADlAAAAAAAAAAAA=",
          "dtype": "f8"
         }
        },
        {
         "customdata": [
          [
           "39324",
           "41.0"
          ],
          [
           "1784",
           "42.0"
          ],
          [
           "1378",
           "42.0"
          ],
          [
           "3",
           "55.0"
          ],
          [
           "2",
           "42.5"
          ],
          [
           "2",
           "33.0"
          ],
          [
           "1",
           "30.0"
          ]
         ],
         "hovertemplate": "Delayed Minutes (Knife-to-Skin): <b>30-60</b><br>%{x}<br>Pct late: %{y:.1f}%<br>Cases: %{customdata[0]}<br>Median: %{customdata[1]} min<extra></extra>",
         "name": "30-60",
         "type": "bar",
         "visible": false,
         "x": [
          "NIL",
          "Blood - 2 pint",
          "GXM",
          "TXS",
          "Blood - 1 pint",
          "Blood - 4 pint",
          "Blood - 3 pint"
         ],
         "y": {
          "bdata": "E/knApT4OkA0bK+eV94/QPnL0A7ji0JARRdddNFFO0AAAAAAAABJQAAAAAAAAElAAAAAAAAAWUA=",
          "dtype": "f8"
         }
        },
        {
         "customdata": [
          [
           "18172",
           "72.0"
          ],
          [
           "664",
           "71.0"
          ],
          [
           "599",
           "71.0"
          ],
          [
           "2",
           "72.0"
          ],
          [
           "1",
           "77.0"
          ],
          [
           "1",
           "86.0"
          ],
          [
           "0",
           ""
          ]
         ],
         "hovertemplate": "Delayed Minutes (Knife-to-Skin): <b>60-90</b><br>%{x}<br>Pct late: %{y:.1f}%<br>Cases: %{customdata[0]}<br>Median: %{customdata[1]} min<extra></extra>",
         "name": "60-90",
         "type": "bar",
         "visible": false,
         "x": [
          "NIL",
          "Blood - 2 pint",
          "GXM",
          "TXS",
          "Blood - 1 pint",
          "Blood - 4 pint",
          "Blood - 3 pint"
         ],
         "y": {
          "bdata": "5CPoLFjtKEDFQjqtBrknQJjKLNKyHzBAL7rooosuMkAAAAAAAAA5QAAAAAAAADlAAAAAAAAAAAA=",
          "dtype": "f8"
         }
        },
        {
         "customdata": [
          [
           "8426",
           "101.0"
          ],
          [
           "240",
           "100.0"
          ],
          [
           "213",
           "102.0"
          ],
          [
           "1",
           "98.0"
          ],
          [
           "0",
           ""
          ],
          [
           "0",
           ""
          ],
          [
           "0",
           ""
          ]
         ],
         "hovertemplate": "Delayed Minutes (Knife-to-Skin): <b>90-120</b><br>%{x}<br>Pct late: %{y:.1f}%<br>Cases: %{customdata[0]}<br>Median: %{customdata[1]} min<extra></extra>",
         "name": "90-120",
         "type": "bar",
         "visible": false,
         "x": [
          "NIL",
          "Blood - 2 pint",
          "GXM",
          "TXS",
          "Blood - 1 pint",
          "Blood - 4 pint",
          "Blood - 3 pint"
         ],
         "y": {
          "bdata": "3Nsn+84dF0CzZH2rIyYRQFBRzPkd7xZAL7rooosuIkAAAAAAAAAAAAAAAAAAAAAAAAAAAAAAAAA=",
          "dtype": "f8"
         }
        },
        {
         "customdata": [
          [
           "11710",
           "176.0"
          ],
          [
           "201",
           "152.0"
          ],
          [
           "145",
           "141.0"
          ],
          [
           "2",
           "164.0"
          ],
          [
           "0",
           ""
          ],
          [
           "0",
           ""
          ],
          [
           "0",
           ""
          ]
         ],
         "hovertemplate": "Delayed Minutes (Knife-to-Skin): <b>120+</b><br>%{x}<br>Pct late: %{y:.1f}%<br>Cases: %{customdata[0]}<br>Median: %{customdata[1]} min<extra></extra>",
         "name": "120+",
         "type": "bar",
         "visible": false,
         "x": [
          "NIL",
          "Blood - 2 pint",
          "GXM",
          "TXS",
          "Blood - 1 pint",
          "Blood - 4 pint",
          "Blood - 3 pint"
         ],
         "y": {
          "bdata": "H/tCHCAQIEB41T6/e7kMQFL1CCqKOQ9AL7rooosuMkAAAAAAAAAAAAAAAAAAAAAAAAAAAAAAAAA=",
          "dtype": "f8"
         }
        },
        {
         "customdata": [
          [
           "65484",
           "14.0"
          ],
          [
           "6779",
           "16.0"
          ]
         ],
         "hovertemplate": "Delayed Minutes (Knife-to-Skin): <b>0-30</b><br>%{x}<br>Pct late: %{y:.1f}%<br>Cases: %{customdata[0]}<br>Median: %{customdata[1]} min<extra></extra>",
         "name": "0-30",
         "type": "bar",
         "visible": false,
         "x": [
          "No implant",
          "Has implant"
         ],
         "y": {
          "bdata": "GeSleECjR0BF1V7ShGVEQA==",
          "dtype": "f8"
         }
        },
        {
         "customdata": [
          [
           "36784",
           "41.0"
          ],
          [
           "5710",
           "42.0"
          ]
         ],
         "hovertemplate": "Delayed Minutes (Knife-to-Skin): <b>30-60</b><br>%{x}<br>Pct late: %{y:.1f}%<br>Cases: %{customdata[0]}<br>Median: %{customdata[1]} min<extra></extra>",
         "name": "30-60",
         "type": "bar",
         "visible": false,
         "x": [
          "No implant",
          "Has implant"
         ],
         "y": {
          "bdata": "q+3vZUeOOkBQyVJdHy5BQA==",
          "dtype": "f8"
         }
        },
        {
         "customdata": [
          [
           "17058",
           "72.0"
          ],
          [
           "2381",
           "71.0"
          ]
         ],
         "hovertemplate": "Delayed Minutes (Knife-to-Skin): <b>60-90</b><br>%{x}<br>Pct late: %{y:.1f}%<br>Cases: %{customdata[0]}<br>Median: %{customdata[1]} min<extra></extra>",
         "name": "60-90",
         "type": "bar",
         "visible": false,
         "x": [
          "No implant",
          "Has implant"
         ],
         "y": {
          "bdata": "xVJ0dTChKEAr3uFJ2qcsQA==",
          "dtype": "f8"
         }
        },
        {
         "customdata": [
          [
           "7937",
           "101.0"
          ],
          [
           "943",
           "101.0"
          ]
         ],
         "hovertemplate": "Delayed Minutes (Knife-to-Skin): <b>90-120</b><br>%{x}<br>Pct late: %{y:.1f}%<br>Cases: %{customdata[0]}<br>Median: %{customdata[1]} min<extra></extra>",
         "name": "90-120",
         "type": "bar",
         "visible": false,
         "x": [
          "No implant",
          "Has implant"
         ],
         "y": {
          "bdata": "A3E1Z4vrFkCiai9pwrIWQA==",
          "dtype": "f8"
         }
        },
        {
         "customdata": [
          [
           "11253",
           "179.0"
          ],
          [
           "805",
           "149.0"
          ]
         ],
         "hovertemplate": "Delayed Minutes (Knife-to-Skin): <b>120+</b><br>%{x}<br>Pct late: %{y:.1f}%<br>Cases: %{customdata[0]}<br>Median: %{customdata[1]} min<extra></extra>",
         "name": "120+",
         "type": "bar",
         "visible": false,
         "x": [
          "No implant",
          "Has implant"
         ],
         "y": {
          "bdata": "/oh5KHk/IEBl5H+FZ2ATQA==",
          "dtype": "f8"
         }
        },
        {
         "customdata": [
          [
           "70523",
           "14.0"
          ],
          [
           "1740",
           "18.0"
          ]
         ],
         "hovertemplate": "Delayed Minutes (Knife-to-Skin): <b>0-30</b><br>%{x}<br>Pct late: %{y:.1f}%<br>Cases: %{customdata[0]}<br>Median: %{customdata[1]} min<extra></extra>",
         "name": "0-30",
         "type": "bar",
         "visible": false,
         "x": [
          "False",
          "True"
         ],
         "y": {
          "bdata": "TiDSLNFkR0A+SVmAOMFDQA==",
          "dtype": "f8"
         }
        },
        {
         "customdata": [
          [
           "40740",
           "41.0"
          ],
          [
           "1754",
           "41.0"
          ]
         ],
         "hovertemplate": "Delayed Minutes (Knife-to-Skin): <b>30-60</b><br>%{x}<br>Pct late: %{y:.1f}%<br>Cases: %{customdata[0]}<br>Median: %{customdata[1]} min<extra></extra>",
         "name": "30-60",
         "type": "bar",
         "visible": false,
         "x": [
          "False",
          "True"
         ],
         "y": {
          "bdata": "ubKFQEkHO0D+J6Q26elDQA==",
          "dtype": "f8"
         }
        },
        {
         "customdata": [
          [
           "18868",
           "72.0"
          ],
          [
           "571",
           "71.0"
          ]
         ],
         "hovertemplate": "Delayed Minutes (Knife-to-Skin): <b>60-90</b><br>%{x}<br>Pct late: %{y:.1f}%<br>Cases: %{customdata[0]}<br>Median: %{customdata[1]} min<extra></extra>",
         "name": "60-90",
         "type": "bar",
         "visible": false,
         "x": [
          "False",
          "True"
         ],
         "y": {
          "bdata": "35dSIRYJKUBlhrYrVO4pQA==",
          "dtype": "f8"
         }
        },
        {
         "customdata": [
          [
           "8672",
           "101.0"
          ],
          [
           "208",
           "101.0"
          ]
         ],
         "hovertemplate": "Delayed Minutes (Knife-to-Skin): <b>90-120</b><br>%{x}<br>Pct late: %{y:.1f}%<br>Cases: %{customdata[0]}<br>Median: %{customdata[1]} min<extra></extra>",
         "name": "90-120",
         "type": "bar",
         "visible": false,
         "x": [
          "False",
          "True"
         ],
         "y": {
          "bdata": "nSHl7WkDF0Ar2cKiVOQSQA==",
          "dtype": "f8"
         }
        },
        {
         "customdata": [
          [
           "11927",
           "176.0"
          ],
          [
           "131",
           "142.0"
          ]
         ],
         "hovertemplate": "Delayed Minutes (Knife-to-Skin): <b>120+</b><br>%{x}<br>Pct late: %{y:.1f}%<br>Cases: %{customdata[0]}<br>Median: %{customdata[1]} min<extra></extra>",
         "name": "120+",
         "type": "bar",
         "visible": false,
         "x": [
          "False",
          "True"
         ],
         "y": {
          "bdata": "VOHNZrumH0BSIMmb6ssHQA==",
          "dtype": "f8"
         }
        },
        {
         "customdata": [
          [
           "72244",
           "14.0"
          ],
          [
           "19",
           "17.0"
          ]
         ],
         "hovertemplate": "Delayed Minutes (Knife-to-Skin): <b>0-30</b><br>%{x}<br>Pct late: %{y:.1f}%<br>Cases: %{customdata[0]}<br>Median: %{customdata[1]} min<extra></extra>",
         "name": "0-30",
         "type": "bar",
         "visible": false,
         "x": [
          "False",
          "True"
         ],
         "y": {
          "bdata": "hJogHhJLR0C6L4+tCBpAQA==",
          "dtype": "f8"
         }
        },
        {
         "customdata": [
          [
           "42476",
           "41.0"
          ],
          [
           "18",
           "42.0"
          ]
         ],
         "hovertemplate": "Delayed Minutes (Knife-to-Skin): <b>30-60</b><br>%{x}<br>Pct late: %{y:.1f}%<br>Cases: %{customdata[0]}<br>Median: %{customdata[1]} min<extra></extra>",
         "name": "30-60",
         "type": "bar",
         "visible": false,
         "x": [
          "False",
          "True"
         ],
         "y": {
          "bdata": "eKw3gf9jO0Cl7stjK4I+QA==",
          "dtype": "f8"
         }
        },
        {
         "customdata": [
          [
           "19428",
           "72.0"
          ],
          [
           "11",
           "72.0"
          ]
         ],
         "hovertemplate": "Delayed Minutes (Knife-to-Skin): <b>60-90</b><br>%{x}<br>Pct late: %{y:.1f}%<br>Cases: %{customdata[0]}<br>Median: %{customdata[1]} min<extra></extra>",
         "name": "60-90",
         "type": "bar",
         "visible": false,
         "x": [
          "False",
          "True"
         ],
         "y": {
          "bdata": "QQgoQmcOKUDz2Iqg4aQyQA==",
          "dtype": "f8"
         }
        },
        {
         "customdata": [
          [
           "8875",
           "101.0"
          ],
          [
           "5",
           "110.0"
          ]
         ],
         "hovertemplate": "Delayed Minutes (Knife-to-Skin): <b>90-120</b><br>%{x}<br>Pct late: %{y:.1f}%<br>Cases: %{customdata[0]}<br>Median: %{customdata[1]} min<extra></extra>",
         "name": "90-120",
         "type": "bar",
         "visible": false,
         "x": [
          "False",
          "True"
         ],
         "y": {
          "bdata": "yyLP32PkFkAiaDip+/IgQA==",
          "dtype": "f8"
         }
        },
        {
         "customdata": [
          [
           "12052",
           "175.0"
          ],
          [
           "6",
           "176.0"
          ]
         ],
         "hovertemplate": "Delayed Minutes (Knife-to-Skin): <b>120+</b><br>%{x}<br>Pct late: %{y:.1f}%<br>Cases: %{customdata[0]}<br>Median: %{customdata[1]} min<extra></extra>",
         "name": "120+",
         "type": "bar",
         "visible": false,
         "x": [
          "False",
          "True"
         ],
         "y": {
          "bdata": "skb9pT4WH0DESd2Xx1YkQA==",
          "dtype": "f8"
         }
        }
       ],
       "layout": {
        "barmode": "group",
        "legend": {
         "title": {
          "text": "Delayed Minutes (Knife-to-Skin)"
         }
        },
        "margin": {
         "b": 80,
         "l": 60,
         "r": 30,
         "t": 70
        },
        "template": {
         "data": {
          "bar": [
           {
            "error_x": {
             "color": "#2a3f5f"
            },
            "error_y": {
             "color": "#2a3f5f"
            },
            "marker": {
             "line": {
              "color": "#E5ECF6",
              "width": 0.5
             },
             "pattern": {
              "fillmode": "overlay",
              "size": 10,
              "solidity": 0.2
             }
            },
            "type": "bar"
           }
          ],
          "barpolar": [
           {
            "marker": {
             "line": {
              "color": "#E5ECF6",
              "width": 0.5
             },
             "pattern": {
              "fillmode": "overlay",
              "size": 10,
              "solidity": 0.2
             }
            },
            "type": "barpolar"
           }
          ],
          "carpet": [
           {
            "aaxis": {
             "endlinecolor": "#2a3f5f",
             "gridcolor": "white",
             "linecolor": "white",
             "minorgridcolor": "white",
             "startlinecolor": "#2a3f5f"
            },
            "baxis": {
             "endlinecolor": "#2a3f5f",
             "gridcolor": "white",
             "linecolor": "white",
             "minorgridcolor": "white",
             "startlinecolor": "#2a3f5f"
            },
            "type": "carpet"
           }
          ],
          "choropleth": [
           {
            "colorbar": {
             "outlinewidth": 0,
             "ticks": ""
            },
            "type": "choropleth"
           }
          ],
          "contour": [
           {
            "colorbar": {
             "outlinewidth": 0,
             "ticks": ""
            },
            "colorscale": [
             [
              0,
              "#0d0887"
             ],
             [
              0.1111111111111111,
              "#46039f"
             ],
             [
              0.2222222222222222,
              "#7201a8"
             ],
             [
              0.3333333333333333,
              "#9c179e"
             ],
             [
              0.4444444444444444,
              "#bd3786"
             ],
             [
              0.5555555555555556,
              "#d8576b"
             ],
             [
              0.6666666666666666,
              "#ed7953"
             ],
             [
              0.7777777777777778,
              "#fb9f3a"
             ],
             [
              0.8888888888888888,
              "#fdca26"
             ],
             [
              1,
              "#f0f921"
             ]
            ],
            "type": "contour"
           }
          ],
          "contourcarpet": [
           {
            "colorbar": {
             "outlinewidth": 0,
             "ticks": ""
            },
            "type": "contourcarpet"
           }
          ],
          "heatmap": [
           {
            "colorbar": {
             "outlinewidth": 0,
             "ticks": ""
            },
            "colorscale": [
             [
              0,
              "#0d0887"
             ],
             [
              0.1111111111111111,
              "#46039f"
             ],
             [
              0.2222222222222222,
              "#7201a8"
             ],
             [
              0.3333333333333333,
              "#9c179e"
             ],
             [
              0.4444444444444444,
              "#bd3786"
             ],
             [
              0.5555555555555556,
              "#d8576b"
             ],
             [
              0.6666666666666666,
              "#ed7953"
             ],
             [
              0.7777777777777778,
              "#fb9f3a"
             ],
             [
              0.8888888888888888,
              "#fdca26"
             ],
             [
              1,
              "#f0f921"
             ]
            ],
            "type": "heatmap"
           }
          ],
          "histogram": [
           {
            "marker": {
             "pattern": {
              "fillmode": "overlay",
              "size": 10,
              "solidity": 0.2
             }
            },
            "type": "histogram"
           }
          ],
          "histogram2d": [
           {
            "colorbar": {
             "outlinewidth": 0,
             "ticks": ""
            },
            "colorscale": [
             [
              0,
              "#0d0887"
             ],
             [
              0.1111111111111111,
              "#46039f"
             ],
             [
              0.2222222222222222,
              "#7201a8"
             ],
             [
              0.3333333333333333,
              "#9c179e"
             ],
             [
              0.4444444444444444,
              "#bd3786"
             ],
             [
              0.5555555555555556,
              "#d8576b"
             ],
             [
              0.6666666666666666,
              "#ed7953"
             ],
             [
              0.7777777777777778,
              "#fb9f3a"
             ],
             [
              0.8888888888888888,
              "#fdca26"
             ],
             [
              1,
              "#f0f921"
             ]
            ],
            "type": "histogram2d"
           }
          ],
          "histogram2dcontour": [
           {
            "colorbar": {
             "outlinewidth": 0,
             "ticks": ""
            },
            "colorscale": [
             [
              0,
              "#0d0887"
             ],
             [
              0.1111111111111111,
              "#46039f"
             ],
             [
              0.2222222222222222,
              "#7201a8"
             ],
             [
              0.3333333333333333,
              "#9c179e"
             ],
             [
              0.4444444444444444,
              "#bd3786"
             ],
             [
              0.5555555555555556,
              "#d8576b"
             ],
             [
              0.6666666666666666,
              "#ed7953"
             ],
             [
              0.7777777777777778,
              "#fb9f3a"
             ],
             [
              0.8888888888888888,
              "#fdca26"
             ],
             [
              1,
              "#f0f921"
             ]
            ],
            "type": "histogram2dcontour"
           }
          ],
          "mesh3d": [
           {
            "colorbar": {
             "outlinewidth": 0,
             "ticks": ""
            },
            "type": "mesh3d"
           }
          ],
          "parcoords": [
           {
            "line": {
             "colorbar": {
              "outlinewidth": 0,
              "ticks": ""
             }
            },
            "type": "parcoords"
           }
          ],
          "pie": [
           {
            "automargin": true,
            "type": "pie"
           }
          ],
          "scatter": [
           {
            "fillpattern": {
             "fillmode": "overlay",
             "size": 10,
             "solidity": 0.2
            },
            "type": "scatter"
           }
          ],
          "scatter3d": [
           {
            "line": {
             "colorbar": {
              "outlinewidth": 0,
              "ticks": ""
             }
            },
            "marker": {
             "colorbar": {
              "outlinewidth": 0,
              "ticks": ""
             }
            },
            "type": "scatter3d"
           }
          ],
          "scattercarpet": [
           {
            "marker": {
             "colorbar": {
              "outlinewidth": 0,
              "ticks": ""
             }
            },
            "type": "scattercarpet"
           }
          ],
          "scattergeo": [
           {
            "marker": {
             "colorbar": {
              "outlinewidth": 0,
              "ticks": ""
             }
            },
            "type": "scattergeo"
           }
          ],
          "scattergl": [
           {
            "marker": {
             "colorbar": {
              "outlinewidth": 0,
              "ticks": ""
             }
            },
            "type": "scattergl"
           }
          ],
          "scattermap": [
           {
            "marker": {
             "colorbar": {
              "outlinewidth": 0,
              "ticks": ""
             }
            },
            "type": "scattermap"
           }
          ],
          "scattermapbox": [
           {
            "marker": {
             "colorbar": {
              "outlinewidth": 0,
              "ticks": ""
             }
            },
            "type": "scattermapbox"
           }
          ],
          "scatterpolar": [
           {
            "marker": {
             "colorbar": {
              "outlinewidth": 0,
              "ticks": ""
             }
            },
            "type": "scatterpolar"
           }
          ],
          "scatterpolargl": [
           {
            "marker": {
             "colorbar": {
              "outlinewidth": 0,
              "ticks": ""
             }
            },
            "type": "scatterpolargl"
           }
          ],
          "scatterternary": [
           {
            "marker": {
             "colorbar": {
              "outlinewidth": 0,
              "ticks": ""
             }
            },
            "type": "scatterternary"
           }
          ],
          "surface": [
           {
            "colorbar": {
             "outlinewidth": 0,
             "ticks": ""
            },
            "colorscale": [
             [
              0,
              "#0d0887"
             ],
             [
              0.1111111111111111,
              "#46039f"
             ],
             [
              0.2222222222222222,
              "#7201a8"
             ],
             [
              0.3333333333333333,
              "#9c179e"
             ],
             [
              0.4444444444444444,
              "#bd3786"
             ],
             [
              0.5555555555555556,
              "#d8576b"
             ],
             [
              0.6666666666666666,
              "#ed7953"
             ],
             [
              0.7777777777777778,
              "#fb9f3a"
             ],
             [
              0.8888888888888888,
              "#fdca26"
             ],
             [
              1,
              "#f0f921"
             ]
            ],
            "type": "surface"
           }
          ],
          "table": [
           {
            "cells": {
             "fill": {
              "color": "#EBF0F8"
             },
             "line": {
              "color": "white"
             }
            },
            "header": {
             "fill": {
              "color": "#C8D4E3"
             },
             "line": {
              "color": "white"
             }
            },
            "type": "table"
           }
          ]
         },
         "layout": {
          "annotationdefaults": {
           "arrowcolor": "#2a3f5f",
           "arrowhead": 0,
           "arrowwidth": 1
          },
          "autotypenumbers": "strict",
          "coloraxis": {
           "colorbar": {
            "outlinewidth": 0,
            "ticks": ""
           }
          },
          "colorscale": {
           "diverging": [
            [
             0,
             "#8e0152"
            ],
            [
             0.1,
             "#c51b7d"
            ],
            [
             0.2,
             "#de77ae"
            ],
            [
             0.3,
             "#f1b6da"
            ],
            [
             0.4,
             "#fde0ef"
            ],
            [
             0.5,
             "#f7f7f7"
            ],
            [
             0.6,
             "#e6f5d0"
            ],
            [
             0.7,
             "#b8e186"
            ],
            [
             0.8,
             "#7fbc41"
            ],
            [
             0.9,
             "#4d9221"
            ],
            [
             1,
             "#276419"
            ]
           ],
           "sequential": [
            [
             0,
             "#0d0887"
            ],
            [
             0.1111111111111111,
             "#46039f"
            ],
            [
             0.2222222222222222,
             "#7201a8"
            ],
            [
             0.3333333333333333,
             "#9c179e"
            ],
            [
             0.4444444444444444,
             "#bd3786"
            ],
            [
             0.5555555555555556,
             "#d8576b"
            ],
            [
             0.6666666666666666,
             "#ed7953"
            ],
            [
             0.7777777777777778,
             "#fb9f3a"
            ],
            [
             0.8888888888888888,
             "#fdca26"
            ],
            [
             1,
             "#f0f921"
            ]
           ],
           "sequentialminus": [
            [
             0,
             "#0d0887"
            ],
            [
             0.1111111111111111,
             "#46039f"
            ],
            [
             0.2222222222222222,
             "#7201a8"
            ],
            [
             0.3333333333333333,
             "#9c179e"
            ],
            [
             0.4444444444444444,
             "#bd3786"
            ],
            [
             0.5555555555555556,
             "#d8576b"
            ],
            [
             0.6666666666666666,
             "#ed7953"
            ],
            [
             0.7777777777777778,
             "#fb9f3a"
            ],
            [
             0.8888888888888888,
             "#fdca26"
            ],
            [
             1,
             "#f0f921"
            ]
           ]
          },
          "colorway": [
           "#636efa",
           "#EF553B",
           "#00cc96",
           "#ab63fa",
           "#FFA15A",
           "#19d3f3",
           "#FF6692",
           "#B6E880",
           "#FF97FF",
           "#FECB52"
          ],
          "font": {
           "color": "#2a3f5f"
          },
          "geo": {
           "bgcolor": "white",
           "lakecolor": "white",
           "landcolor": "#E5ECF6",
           "showlakes": true,
           "showland": true,
           "subunitcolor": "white"
          },
          "hoverlabel": {
           "align": "left"
          },
          "hovermode": "closest",
          "mapbox": {
           "style": "light"
          },
          "paper_bgcolor": "white",
          "plot_bgcolor": "#E5ECF6",
          "polar": {
           "angularaxis": {
            "gridcolor": "white",
            "linecolor": "white",
            "ticks": ""
           },
           "bgcolor": "#E5ECF6",
           "radialaxis": {
            "gridcolor": "white",
            "linecolor": "white",
            "ticks": ""
           }
          },
          "scene": {
           "xaxis": {
            "backgroundcolor": "#E5ECF6",
            "gridcolor": "white",
            "gridwidth": 2,
            "linecolor": "white",
            "showbackground": true,
            "ticks": "",
            "zerolinecolor": "white"
           },
           "yaxis": {
            "backgroundcolor": "#E5ECF6",
            "gridcolor": "white",
            "gridwidth": 2,
            "linecolor": "white",
            "showbackground": true,
            "ticks": "",
            "zerolinecolor": "white"
           },
           "zaxis": {
            "backgroundcolor": "#E5ECF6",
            "gridcolor": "white",
            "gridwidth": 2,
            "linecolor": "white",
            "showbackground": true,
            "ticks": "",
            "zerolinecolor": "white"
           }
          },
          "shapedefaults": {
           "line": {
            "color": "#2a3f5f"
           }
          },
          "ternary": {
           "aaxis": {
            "gridcolor": "white",
            "linecolor": "white",
            "ticks": ""
           },
           "baxis": {
            "gridcolor": "white",
            "linecolor": "white",
            "ticks": ""
           },
           "bgcolor": "#E5ECF6",
           "caxis": {
            "gridcolor": "white",
            "linecolor": "white",
            "ticks": ""
           }
          },
          "title": {
           "x": 0.05
          },
          "xaxis": {
           "automargin": true,
           "gridcolor": "white",
           "linecolor": "white",
           "ticks": "",
           "title": {
            "standoff": 15
           },
           "zerolinecolor": "white",
           "zerolinewidth": 2
          },
          "yaxis": {
           "automargin": true,
           "gridcolor": "white",
           "linecolor": "white",
           "ticks": "",
           "title": {
            "standoff": 15
           },
           "zerolinecolor": "white",
           "zerolinewidth": 2
          }
         }
        },
        "title": {
         "text": "Late Cases — % by Delay Range for Delay_Category (Top 10 by volume)"
        },
        "updatemenus": [
         {
          "buttons": [
           {
            "args": [
             {
              "visible": [
               true,
               true,
               true,
               true,
               true,
               false,
               false,
               false,
               false,
               false,
               false,
               false,
               false,
               false,
               false,
               false,
               false,
               false,
               false,
               false,
               false,
               false,
               false,
               false,
               false,
               false,
               false,
               false,
               false,
               false,
               false,
               false,
               false,
               false,
               false,
               false,
               false,
               false,
               false,
               false,
               false,
               false,
               false,
               false,
               false,
               false,
               false,
               false,
               false,
               false,
               false,
               false,
               false,
               false,
               false,
               false,
               false,
               false,
               false,
               false,
               false,
               false,
               false,
               false,
               false,
               false,
               false,
               false,
               false,
               false,
               false,
               false,
               false,
               false,
               false
              ]
             },
             {
              "barmode": "group",
              "legend": {
               "title": {
                "text": "Delayed Minutes (Knife-to-Skin)"
               }
              },
              "title": "Late Cases — % by Delay Range for Delay_Category (Top 10 by volume)",
              "xaxis": {
               "title": "Delay_Category"
              },
              "yaxis": {
               "title": "% of Late Cases"
              }
             }
            ],
            "label": "Delay_Category",
            "method": "update"
           },
           {
            "args": [
             {
              "visible": [
               false,
               false,
               false,
               false,
               false,
               true,
               true,
               true,
               true,
               true,
               false,
               false,
               false,
               false,
               false,
               false,
               false,
               false,
               false,
               false,
               false,
               false,
               false,
               false,
               false,
               false,
               false,
               false,
               false,
               false,
               false,
               false,
               false,
               false,
               false,
               false,
               false,
               false,
               false,
               false,
               false,
               false,
               false,
               false,
               false,
               false,
               false,
               false,
               false,
               false,
               false,
               false,
               false,
               false,
               false,
               false,
               false,
               false,
               false,
               false,
               false,
               false,
               false,
               false,
               false,
               false,
               false,
               false,
               false,
               false,
               false,
               false,
               false,
               false,
               false
              ]
             },
             {
              "barmode": "group",
              "legend": {
               "title": {
                "text": "Delayed Minutes (Knife-to-Skin)"
               }
              },
              "title": "Late Cases — % by Delay Range for LOCATION (Top 10 by volume)",
              "xaxis": {
               "title": "LOCATION"
              },
              "yaxis": {
               "title": "% of Late Cases"
              }
             }
            ],
            "label": "LOCATION",
            "method": "update"
           },
           {
            "args": [
             {
              "visible": [
               false,
               false,
               false,
               false,
               false,
               false,
               false,
               false,
               false,
               false,
               true,
               true,
               true,
               true,
               true,
               false,
               false,
               false,
               false,
               false,
               false,
               false,
               false,
               false,
               false,
               false,
               false,
               false,
               false,
               false,
               false,
               false,
               false,
               false,
               false,
               false,
               false,
               false,
               false,
               false,
               false,
               false,
               false,
               false,
               false,
               false,
               false,
               false,
               false,
               false,
               false,
               false,
               false,
               false,
               false,
               false,
               false,
               false,
               false,
               false,
               false,
               false,
               false,
               false,
               false,
               false,
               false,
               false,
               false,
               false,
               false,
               false,
               false,
               false,
               false
              ]
             },
             {
              "barmode": "group",
              "legend": {
               "title": {
                "text": "Delayed Minutes (Knife-to-Skin)"
               }
              },
              "title": "Late Cases — % by Delay Range for ROOM (Top 10 by volume)",
              "xaxis": {
               "title": "ROOM"
              },
              "yaxis": {
               "title": "% of Late Cases"
              }
             }
            ],
            "label": "ROOM",
            "method": "update"
           },
           {
            "args": [
             {
              "visible": [
               false,
               false,
               false,
               false,
               false,
               false,
               false,
               false,
               false,
               false,
               false,
               false,
               false,
               false,
               false,
               true,
               true,
               true,
               true,
               true,
               false,
               false,
               false,
               false,
               false,
               false,
               false,
               false,
               false,
               false,
               false,
               false,
               false,
               false,
               false,
               false,
               false,
               false,
               false,
               false,
               false,
               false,
               false,
               false,
               false,
               false,
               false,
               false,
               false,
               false,
               false,
               false,
               false,
               false,
               false,
               false,
               false,
               false,
               false,
               false,
               false,
               false,
               false,
               false,
               false,
               false,
               false,
               false,
               false,
               false,
               false,
               false,
               false,
               false,
               false
              ]
             },
             {
              "barmode": "group",
              "legend": {
               "title": {
                "text": "Delayed Minutes (Knife-to-Skin)"
               }
              },
              "title": "Late Cases — % by Delay Range for EQUIPMENT (Top 10 by volume)",
              "xaxis": {
               "title": "EQUIPMENT"
              },
              "yaxis": {
               "title": "% of Late Cases"
              }
             }
            ],
            "label": "EQUIPMENT",
            "method": "update"
           },
           {
            "args": [
             {
              "visible": [
               false,
               false,
               false,
               false,
               false,
               false,
               false,
               false,
               false,
               false,
               false,
               false,
               false,
               false,
               false,
               false,
               false,
               false,
               false,
               false,
               true,
               true,
               true,
               true,
               true,
               false,
               false,
               false,
               false,
               false,
               false,
               false,
               false,
               false,
               false,
               false,
               false,
               false,
               false,
               false,
               false,
               false,
               false,
               false,
               false,
               false,
               false,
               false,
               false,
               false,
               false,
               false,
               false,
               false,
               false,
               false,
               false,
               false,
               false,
               false,
               false,
               false,
               false,
               false,
               false,
               false,
               false,
               false,
               false,
               false,
               false,
               false,
               false,
               false,
               false
              ]
             },
             {
              "barmode": "group",
              "legend": {
               "title": {
                "text": "Delayed Minutes (Knife-to-Skin)"
               }
              },
              "title": "Late Cases — % by Delay Range for EMERGENCY_PRIORITY (Top 10 by volume)",
              "xaxis": {
               "title": "EMERGENCY_PRIORITY"
              },
              "yaxis": {
               "title": "% of Late Cases"
              }
             }
            ],
            "label": "EMERGENCY_PRIORITY",
            "method": "update"
           },
           {
            "args": [
             {
              "visible": [
               false,
               false,
               false,
               false,
               false,
               false,
               false,
               false,
               false,
               false,
               false,
               false,
               false,
               false,
               false,
               false,
               false,
               false,
               false,
               false,
               false,
               false,
               false,
               false,
               false,
               true,
               true,
               true,
               true,
               true,
               false,
               false,
               false,
               false,
               false,
               false,
               false,
               false,
               false,
               false,
               false,
               false,
               false,
               false,
               false,
               false,
               false,
               false,
               false,
               false,
               false,
               false,
               false,
               false,
               false,
               false,
               false,
               false,
               false,
               false,
               false,
               false,
               false,
               false,
               false,
               false,
               false,
               false,
               false,
               false,
               false,
               false,
               false,
               false,
               false
              ]
             },
             {
              "barmode": "group",
              "legend": {
               "title": {
                "text": "Delayed Minutes (Knife-to-Skin)"
               }
              },
              "title": "Late Cases — % by Delay Range for DISCIPLINE (Top 10 by volume)",
              "xaxis": {
               "title": "DISCIPLINE"
              },
              "yaxis": {
               "title": "% of Late Cases"
              }
             }
            ],
            "label": "DISCIPLINE",
            "method": "update"
           },
           {
            "args": [
             {
              "visible": [
               false,
               false,
               false,
               false,
               false,
               false,
               false,
               false,
               false,
               false,
               false,
               false,
               false,
               false,
               false,
               false,
               false,
               false,
               false,
               false,
               false,
               false,
               false,
               false,
               false,
               false,
               false,
               false,
               false,
               false,
               true,
               true,
               true,
               true,
               true,
               false,
               false,
               false,
               false,
               false,
               false,
               false,
               false,
               false,
               false,
               false,
               false,
               false,
               false,
               false,
               false,
               false,
               false,
               false,
               false,
               false,
               false,
               false,
               false,
               false,
               false,
               false,
               false,
               false,
               false,
               false,
               false,
               false,
               false,
               false,
               false,
               false,
               false,
               false,
               false
              ]
             },
             {
              "barmode": "group",
              "legend": {
               "title": {
                "text": "Delayed Minutes (Knife-to-Skin)"
               }
              },
              "title": "Late Cases — % by Delay Range for ANESTHESIA (Top 10 by volume)",
              "xaxis": {
               "title": "ANESTHESIA"
              },
              "yaxis": {
               "title": "% of Late Cases"
              }
             }
            ],
            "label": "ANESTHESIA",
            "method": "update"
           },
           {
            "args": [
             {
              "visible": [
               false,
               false,
               false,
               false,
               false,
               false,
               false,
               false,
               false,
               false,
               false,
               false,
               false,
               false,
               false,
               false,
               false,
               false,
               false,
               false,
               false,
               false,
               false,
               false,
               false,
               false,
               false,
               false,
               false,
               false,
               false,
               false,
               false,
               false,
               false,
               true,
               true,
               true,
               true,
               true,
               false,
               false,
               false,
               false,
               false,
               false,
               false,
               false,
               false,
               false,
               false,
               false,
               false,
               false,
               false,
               false,
               false,
               false,
               false,
               false,
               false,
               false,
               false,
               false,
               false,
               false,
               false,
               false,
               false,
               false,
               false,
               false,
               false,
               false,
               false
              ]
             },
             {
              "barmode": "group",
              "legend": {
               "title": {
                "text": "Delayed Minutes (Knife-to-Skin)"
               }
              },
              "title": "Late Cases — % by Delay Range for ADMISSION_CLASS_TYPE (Top 10 by volume)",
              "xaxis": {
               "title": "ADMISSION_CLASS_TYPE"
              },
              "yaxis": {
               "title": "% of Late Cases"
              }
             }
            ],
            "label": "ADMISSION_CLASS_TYPE",
            "method": "update"
           },
           {
            "args": [
             {
              "visible": [
               false,
               false,
               false,
               false,
               false,
               false,
               false,
               false,
               false,
               false,
               false,
               false,
               false,
               false,
               false,
               false,
               false,
               false,
               false,
               false,
               false,
               false,
               false,
               false,
               false,
               false,
               false,
               false,
               false,
               false,
               false,
               false,
               false,
               false,
               false,
               false,
               false,
               false,
               false,
               false,
               true,
               true,
               true,
               true,
               true,
               false,
               false,
               false,
               false,
               false,
               false,
               false,
               false,
               false,
               false,
               false,
               false,
               false,
               false,
               false,
               false,
               false,
               false,
               false,
               false,
               false,
               false,
               false,
               false,
               false,
               false,
               false,
               false,
               false,
               false
              ]
             },
             {
              "barmode": "group",
              "legend": {
               "title": {
                "text": "Delayed Minutes (Knife-to-Skin)"
               }
              },
              "title": "Late Cases — % by Delay Range for ADMISSION_WARD (Top 10 by volume)",
              "xaxis": {
               "title": "ADMISSION_WARD"
              },
              "yaxis": {
               "title": "% of Late Cases"
              }
             }
            ],
            "label": "ADMISSION_WARD",
            "method": "update"
           },
           {
            "args": [
             {
              "visible": [
               false,
               false,
               false,
               false,
               false,
               false,
               false,
               false,
               false,
               false,
               false,
               false,
               false,
               false,
               false,
               false,
               false,
               false,
               false,
               false,
               false,
               false,
               false,
               false,
               false,
               false,
               false,
               false,
               false,
               false,
               false,
               false,
               false,
               false,
               false,
               false,
               false,
               false,
               false,
               false,
               false,
               false,
               false,
               false,
               false,
               true,
               true,
               true,
               true,
               true,
               false,
               false,
               false,
               false,
               false,
               false,
               false,
               false,
               false,
               false,
               false,
               false,
               false,
               false,
               false,
               false,
               false,
               false,
               false,
               false,
               false,
               false,
               false,
               false,
               false
              ]
             },
             {
              "barmode": "group",
              "legend": {
               "title": {
                "text": "Delayed Minutes (Knife-to-Skin)"
               }
              },
              "title": "Late Cases — % by Delay Range for ADMISSION_BED (Top 10 by volume)",
              "xaxis": {
               "title": "ADMISSION_BED"
              },
              "yaxis": {
               "title": "% of Late Cases"
              }
             }
            ],
            "label": "ADMISSION_BED",
            "method": "update"
           },
           {
            "args": [
             {
              "visible": [
               false,
               false,
               false,
               false,
               false,
               false,
               false,
               false,
               false,
               false,
               false,
               false,
               false,
               false,
               false,
               false,
               false,
               false,
               false,
               false,
               false,
               false,
               false,
               false,
               false,
               false,
               false,
               false,
               false,
               false,
               false,
               false,
               false,
               false,
               false,
               false,
               false,
               false,
               false,
               false,
               false,
               false,
               false,
               false,
               false,
               false,
               false,
               false,
               false,
               false,
               true,
               true,
               true,
               true,
               true,
               false,
               false,
               false,
               false,
               false,
               false,
               false,
               false,
               false,
               false,
               false,
               false,
               false,
               false,
               false,
               false,
               false,
               false,
               false,
               false
              ]
             },
             {
              "barmode": "group",
              "legend": {
               "title": {
                "text": "Delayed Minutes (Knife-to-Skin)"
               }
              },
              "title": "Late Cases — % by Delay Range for AOH (Top 10 by volume)",
              "xaxis": {
               "title": "AOH"
              },
              "yaxis": {
               "title": "% of Late Cases"
              }
             }
            ],
            "label": "AOH",
            "method": "update"
           },
           {
            "args": [
             {
              "visible": [
               false,
               false,
               false,
               false,
               false,
               false,
               false,
               false,
               false,
               false,
               false,
               false,
               false,
               false,
               false,
               false,
               false,
               false,
               false,
               false,
               false,
               false,
               false,
               false,
               false,
               false,
               false,
               false,
               false,
               false,
               false,
               false,
               false,
               false,
               false,
               false,
               false,
               false,
               false,
               false,
               false,
               false,
               false,
               false,
               false,
               false,
               false,
               false,
               false,
               false,
               false,
               false,
               false,
               false,
               false,
               true,
               true,
               true,
               true,
               true,
               false,
               false,
               false,
               false,
               false,
               false,
               false,
               false,
               false,
               false,
               false,
               false,
               false,
               false,
               false
              ]
             },
             {
              "barmode": "group",
              "legend": {
               "title": {
                "text": "Delayed Minutes (Knife-to-Skin)"
               }
              },
              "title": "Late Cases — % by Delay Range for BLOOD (Top 10 by volume)",
              "xaxis": {
               "title": "BLOOD"
              },
              "yaxis": {
               "title": "% of Late Cases"
              }
             }
            ],
            "label": "BLOOD",
            "method": "update"
           },
           {
            "args": [
             {
              "visible": [
               false,
               false,
               false,
               false,
               false,
               false,
               false,
               false,
               false,
               false,
               false,
               false,
               false,
               false,
               false,
               false,
               false,
               false,
               false,
               false,
               false,
               false,
               false,
               false,
               false,
               false,
               false,
               false,
               false,
               false,
               false,
               false,
               false,
               false,
               false,
               false,
               false,
               false,
               false,
               false,
               false,
               false,
               false,
               false,
               false,
               false,
               false,
               false,
               false,
               false,
               false,
               false,
               false,
               false,
               false,
               false,
               false,
               false,
               false,
               false,
               true,
               true,
               true,
               true,
               true,
               false,
               false,
               false,
               false,
               false,
               false,
               false,
               false,
               false,
               false
              ]
             },
             {
              "barmode": "group",
              "legend": {
               "title": {
                "text": "Delayed Minutes (Knife-to-Skin)"
               }
              },
              "title": "Late Cases — % by Delay Range for IMPLANT (Top 10 by volume)",
              "xaxis": {
               "title": "IMPLANT"
              },
              "yaxis": {
               "title": "% of Late Cases"
              }
             }
            ],
            "label": "IMPLANT",
            "method": "update"
           },
           {
            "args": [
             {
              "visible": [
               false,
               false,
               false,
               false,
               false,
               false,
               false,
               false,
               false,
               false,
               false,
               false,
               false,
               false,
               false,
               false,
               false,
               false,
               false,
               false,
               false,
               false,
               false,
               false,
               false,
               false,
               false,
               false,
               false,
               false,
               false,
               false,
               false,
               false,
               false,
               false,
               false,
               false,
               false,
               false,
               false,
               false,
               false,
               false,
               false,
               false,
               false,
               false,
               false,
               false,
               false,
               false,
               false,
               false,
               false,
               false,
               false,
               false,
               false,
               false,
               false,
               false,
               false,
               false,
               false,
               true,
               true,
               true,
               true,
               true,
               false,
               false,
               false,
               false,
               false
              ]
             },
             {
              "barmode": "group",
              "legend": {
               "title": {
                "text": "Delayed Minutes (Knife-to-Skin)"
               }
              },
              "title": "Late Cases — % by Delay Range for CANCER_INDICATOR (Top 10 by volume)",
              "xaxis": {
               "title": "CANCER_INDICATOR"
              },
              "yaxis": {
               "title": "% of Late Cases"
              }
             }
            ],
            "label": "CANCER_INDICATOR",
            "method": "update"
           },
           {
            "args": [
             {
              "visible": [
               false,
               false,
               false,
               false,
               false,
               false,
               false,
               false,
               false,
               false,
               false,
               false,
               false,
               false,
               false,
               false,
               false,
               false,
               false,
               false,
               false,
               false,
               false,
               false,
               false,
               false,
               false,
               false,
               false,
               false,
               false,
               false,
               false,
               false,
               false,
               false,
               false,
               false,
               false,
               false,
               false,
               false,
               false,
               false,
               false,
               false,
               false,
               false,
               false,
               false,
               false,
               false,
               false,
               false,
               false,
               false,
               false,
               false,
               false,
               false,
               false,
               false,
               false,
               false,
               false,
               false,
               false,
               false,
               false,
               false,
               true,
               true,
               true,
               true,
               true
              ]
             },
             {
              "barmode": "group",
              "legend": {
               "title": {
                "text": "Delayed Minutes (Knife-to-Skin)"
               }
              },
              "title": "Late Cases — % by Delay Range for TRAUMA_INDICATOR (Top 10 by volume)",
              "xaxis": {
               "title": "TRAUMA_INDICATOR"
              },
              "yaxis": {
               "title": "% of Late Cases"
              }
             }
            ],
            "label": "TRAUMA_INDICATOR",
            "method": "update"
           }
          ],
          "showactive": true,
          "type": "dropdown",
          "x": 1,
          "xanchor": "right",
          "y": 1,
          "yanchor": "top"
         }
        ],
        "yaxis": {
         "title": {
          "text": "% of Late Cases"
         }
        }
       }
      }
     },
     "metadata": {},
     "output_type": "display_data"
    }
   ],
   "source": [
    "# --- Clustered bar chart of late cases by category and delay ranges (pivot fix + legend title) ---\n",
    "import pandas as pd\n",
    "import numpy as np\n",
    "import plotly.graph_objects as go\n",
    "\n",
    "# ===== CONFIG =====\n",
    "DATA_PATH = \"C:/Users/egtay/Downloads/Telegram Desktop/Final_Cleaned_Dataset_OPTIC_7.csv\"\n",
    "VALUE_COL = \"KNIFE_START_DELAY\"\n",
    "LATE_COL  = \"Is_Late\"\n",
    "TOP_K     = 10\n",
    "\n",
    "CATEGORY_MAP = {\n",
    "    \"Delay_Category\": \"Delay_Category\",\n",
    "    \"LOCATION\": \"LOCATION\",\n",
    "    \"ROOM\": \"ROOM\",\n",
    "    \"EQUIPMENT\": \"__EQUIPMENT_SPLIT__\",\n",
    "    \"EMERGENCY_PRIORITY\": \"EMERGENCY_PRIORITY\",\n",
    "    \"DISCIPLINE\": \"DISCIPLINE\",\n",
    "    \"ANESTHESIA\": \"ANESTHESIA\", \n",
    "    \"ADMISSION_CLASS_TYPE\": \"ADMISSION_CLASS_TYPE\",\n",
    "    \"ADMISSION_WARD\": \"ADMISSION_WARD\",\n",
    "    \"ADMISSION_BED\": \"ADMISSION_BED\",\n",
    "    \"AOH\": \"AOH\",\n",
    "    \"BLOOD\": \"BLOOD\",\n",
    "    \"IMPLANT\": \"__IMPLANT_BIN__\",\n",
    "    \"CANCER_INDICATOR\": \"CANCER_INDICATOR\",\n",
    "    \"TRAUMA_INDICATOR\": \"TRAUMA_INDICATOR\",\n",
    "}\n",
    "\n",
    "# ===== LOAD =====\n",
    "df = pd.read_csv(DATA_PATH)\n",
    "df[VALUE_COL] = pd.to_numeric(df[VALUE_COL], errors=\"coerce\")\n",
    "df = df.dropna(subset=[VALUE_COL]).copy()\n",
    "\n",
    "if LATE_COL not in df.columns:\n",
    "    raise KeyError(\"Column 'Is_Late' not found in dataset.\")\n",
    "\n",
    "# Keep only LATE cases\n",
    "df = df[df[LATE_COL] == 1].copy()\n",
    "\n",
    "# ===== EQUIPMENT split =====\n",
    "if \"EQUIPMENT\" in df.columns:\n",
    "    eq = (\n",
    "        df[[\"OPERATION_ID\", \"EQUIPMENT\"]]\n",
    "        .assign(EQUIPMENT=lambda d: d[\"EQUIPMENT\"].astype(str).fillna(\"\").str.split(\",\"))\n",
    "        .explode(\"EQUIPMENT\")\n",
    "    )\n",
    "    eq[\"EQUIPMENT\"] = eq[\"EQUIPMENT\"].astype(str).str.strip()\n",
    "    eq.loc[eq[\"EQUIPMENT\"].isin([\"\", \"nan\", \"None\", \"NULL\", \"none\", \"null\"]), \"EQUIPMENT\"] = np.nan\n",
    "    eq = eq.dropna(subset=[\"EQUIPMENT\"])\n",
    "    df_eq = df.merge(eq, on=\"OPERATION_ID\", how=\"left\", suffixes=(\"\", \"_x\"))\n",
    "    df_eq[\"__EQUIPMENT_SPLIT__\"] = df_eq[\"EQUIPMENT_x\"]\n",
    "else:\n",
    "    df_eq = df.copy()\n",
    "    df_eq[\"__EQUIPMENT_SPLIT__\"] = np.nan\n",
    "\n",
    "# ===== IMPLANT binary =====\n",
    "if \"IMPLANT\" in df.columns:\n",
    "    def to_implant_bin(s):\n",
    "        try:\n",
    "            v = float(s)\n",
    "            return \"No implant\" if v == 0 else \"Has implant\"\n",
    "        except:\n",
    "            return \"Has implant\"\n",
    "    df[\"__IMPLANT_BIN__\"] = df[\"IMPLANT\"].astype(str).map(to_implant_bin)\n",
    "else:\n",
    "    df[\"__IMPLANT_BIN__\"] = np.nan\n",
    "\n",
    "# ===== Delay bins =====\n",
    "bins = [0, 30, 60, 90, 120, np.inf]\n",
    "bin_labels = [\"0-30\", \"30-60\", \"60-90\", \"90-120\", \"120+\"]\n",
    "\n",
    "def get_working_df(label: str):\n",
    "    col = CATEGORY_MAP[label]\n",
    "    base = df_eq if col == \"__EQUIPMENT_SPLIT__\" else df\n",
    "    w = base.copy()\n",
    "    if col in w.columns:\n",
    "        w[col] = w[col].astype(str).str.strip()\n",
    "        w.loc[w[col].isin([\"\", \"nan\", \"None\", \"NULL\", \"none\", \"null\"]), col] = np.nan\n",
    "        w[col] = w[col].fillna(\"Unspecified\")\n",
    "    return w, col\n",
    "\n",
    "def select_top_by_volume(w: pd.DataFrame, col: str, k: int = TOP_K) -> pd.DataFrame:\n",
    "    counts = w[col].value_counts()\n",
    "    if len(counts) > k:\n",
    "        w = w[w[col].isin(counts.iloc[:k].index)]\n",
    "    return w\n",
    "\n",
    "def make_clustered_pivot(label: str):\n",
    "    \"\"\"\n",
    "    Returns:\n",
    "      order_levels: list of category levels kept (top-K by volume)\n",
    "      pivot_pct: DataFrame indexed by levels, columns=bin_labels, values=percentages (filled 0)\n",
    "      pivot_cnt: same shape with counts\n",
    "      pivot_med: same shape with medians (NaN where empty)\n",
    "    \"\"\"\n",
    "    w, col = get_working_df(label)\n",
    "    if col not in w.columns or w.empty:\n",
    "        return [], pd.DataFrame(), pd.DataFrame(), pd.DataFrame()\n",
    "\n",
    "    w = select_top_by_volume(w, col, TOP_K)\n",
    "\n",
    "    w[\"Delay_Bin\"] = pd.cut(w[VALUE_COL], bins=bins, labels=bin_labels, right=False, include_lowest=True)\n",
    "\n",
    "    gb = w.groupby([col, \"Delay_Bin\"], observed=False)[VALUE_COL]\n",
    "    agg = gb.agg(count=\"count\", median=\"median\").reset_index()\n",
    "\n",
    "    totals = w.groupby(col, observed=False)[VALUE_COL].count().rename(\"total\").reset_index()\n",
    "    agg = agg.merge(totals, on=col, how=\"left\")\n",
    "    agg[\"pct\"] = (agg[\"count\"] / agg[\"total\"] * 100).astype(float)\n",
    "\n",
    "    order_levels = totals.sort_values(\"total\", ascending=False)[col].astype(str).tolist()\n",
    "\n",
    "    pivot_pct = agg.pivot(index=col, columns=\"Delay_Bin\", values=\"pct\").reindex(index=order_levels, columns=bin_labels).fillna(0.0)\n",
    "    pivot_cnt = agg.pivot(index=col, columns=\"Delay_Bin\", values=\"count\").reindex(index=order_levels, columns=bin_labels).fillna(0).astype(int)\n",
    "    pivot_med = agg.pivot(index=col, columns=\"Delay_Bin\", values=\"median\").reindex(index=order_levels, columns=bin_labels)\n",
    "    pivot_med = pivot_med.round(1)\n",
    "\n",
    "    return order_levels, pivot_pct, pivot_cnt, pivot_med\n",
    "\n",
    "# Build figure with dropdown\n",
    "fig = go.Figure()\n",
    "buttons, masks = [], []\n",
    "trace_offset = 0\n",
    "bundle = {}  # label -> (order_levels, pct, cnt, med)\n",
    "\n",
    "for label in CATEGORY_MAP.keys():\n",
    "    order_levels, pivot_pct, pivot_cnt, pivot_med = make_clustered_pivot(label)\n",
    "    bundle[label] = (order_levels, pivot_pct, pivot_cnt, pivot_med)\n",
    "\n",
    "    if len(order_levels) == 0:\n",
    "        masks.append([False] * trace_offset)\n",
    "        continue\n",
    "\n",
    "    for b in bin_labels:\n",
    "        y_vals = pivot_pct[b].values\n",
    "        c_vals = pivot_cnt[b].values\n",
    "        m_vals = pivot_med[b].values  # may contain NaN\n",
    "        med_disp = np.where(np.isnan(m_vals), \"\", np.round(m_vals, 1))\n",
    "\n",
    "        fig.add_trace(go.Bar(\n",
    "            x=order_levels,\n",
    "            y=y_vals,\n",
    "            customdata=np.c_[c_vals, med_disp],\n",
    "            name=b,\n",
    "            hovertemplate=(\n",
    "                \"Delayed Minutes (Knife-to-Skin): <b>\" + b + \"</b><br>\"\n",
    "                \"%{x}<br>\"\n",
    "                \"Pct late: %{y:.1f}%<br>\"\n",
    "                \"Cases: %{customdata[0]}<br>\"\n",
    "                \"Median: %{customdata[1]} min<extra></extra>\"\n",
    "            )\n",
    "        ))\n",
    "\n",
    "    n_new = len(bin_labels)\n",
    "    masks.append([False] * trace_offset + [True] * n_new)\n",
    "    trace_offset += n_new\n",
    "\n",
    "# Pad masks to full trace count\n",
    "total_traces = trace_offset\n",
    "masks = [m + [False] * (total_traces - len(m)) for m in masks]\n",
    "\n",
    "# Dropdown buttons\n",
    "for label, mask in zip(CATEGORY_MAP.keys(), masks):\n",
    "    buttons.append(dict(\n",
    "        label=label,\n",
    "        method=\"update\",\n",
    "        args=[\n",
    "            {\"visible\": mask},\n",
    "            {\n",
    "                \"title\": f\"Late Cases — % by Delay Range for {label} (Top 10 by volume)\",\n",
    "                \"yaxis\": {\"title\": \"% of Late Cases\"},\n",
    "                \"xaxis\": {\"title\": label},\n",
    "                \"barmode\": \"group\",\n",
    "                \"legend\": {\"title\": {\"text\": \"Delayed Minutes (Knife-to-Skin)\"}},\n",
    "            },\n",
    "        ]\n",
    "    ))\n",
    "\n",
    "# ===== Initial visibility fix: show ALL 5 bins for Delay_Category on first load =====\n",
    "# Find index of Delay_Category within CATEGORY_MAP and apply its mask\n",
    "labels_list = list(CATEGORY_MAP.keys())\n",
    "initial_idx = labels_list.index(\"Delay_Category\") if \"Delay_Category\" in labels_list else 0\n",
    "\n",
    "# If that category had no data (mask all False), fall back to the first non-empty mask\n",
    "if not any(masks[initial_idx]):\n",
    "    for i, m in enumerate(masks):\n",
    "        if any(m):\n",
    "            initial_idx = i\n",
    "            break\n",
    "\n",
    "# Apply initial visibility mask\n",
    "for i in range(total_traces):\n",
    "    fig.data[i].visible = masks[initial_idx][i]\n",
    "\n",
    "# Set initial layout to match the initial category\n",
    "initial_label = labels_list[initial_idx]\n",
    "fig.update_layout(\n",
    "    title=f\"Late Cases — % by Delay Range for {initial_label} (Top 10 by volume)\",\n",
    "    yaxis_title=\"% of Late Cases\",\n",
    "    barmode=\"group\",\n",
    "    legend_title_text=\"Delayed Minutes (Knife-to-Skin)\",\n",
    "    updatemenus=[dict(\n",
    "        type=\"dropdown\",\n",
    "        x=1.0, xanchor=\"right\",  \n",
    "        y=1.0, yanchor=\"top\",\n",
    "        buttons=buttons,\n",
    "        showactive=True\n",
    "    )],\n",
    "    margin=dict(l=60, r=30, t=70, b=80)\n",
    ")\n",
    "\n",
    "fig.show()"
   ]
  },
  {
   "cell_type": "code",
   "execution_count": 28,
   "id": "9342cddb",
   "metadata": {},
   "outputs": [
    {
     "data": {
      "application/vnd.plotly.v1+json": {
       "config": {
        "plotlyServerURL": "https://plot.ly"
       },
       "data": [
        {
         "customdata": {
          "bdata": "PhsAACQgAAAeCQAAFwQAAGEGAAAACwAAAREAACYPAABU3wEA0m0BAA==",
          "dtype": "i4",
          "shape": "10, 1"
         },
         "hovertemplate": "<b>Delay_Category</b>: %{x}<br>Median: %{y:.1f} min<br>Cases: %{customdata[0]}<extra></extra>",
         "name": "Delay_Category",
         "text": [
          "69.0",
          "62.0",
          "56.0",
          "52.0",
          "46.0",
          "45.0",
          "42.0",
          "33.0",
          "29.0",
          "-28.0"
         ],
         "textposition": "outside",
         "type": "bar",
         "visible": true,
         "x": [
          "Priority Case/Emergency",
          "Administration",
          "Equipment",
          "Anaesthetic",
          "Patient Factors",
          "Scheduling/Venue Changes",
          "Surgeon/Staff",
          "Imaging/Labs",
          "Unspecified (late)",
          "No Delay"
         ],
         "y": {
          "bdata": "AAAAAABAUUAAAAAAAABPQAAAAAAAAExAAAAAAAAASkAAAAAAAABHQAAAAAAAgEZAAAAAAAAARUAAAAAAAIBAQAAAAAAAAD1AAAAAAAAAPMA=",
          "dtype": "f8"
         }
        },
        {
         "customdata": {
          "bdata": "zR4BAIEAAAAbVwAA8fMAADUAAACr1wAAvU0AAAYAAADTOwAA",
          "dtype": "i4",
          "shape": "9, 1"
         },
         "hovertemplate": "<b>LOCATION</b>: %{x}<br>Median: %{y:.1f} min<br>Cases: %{customdata[0]}<extra></extra>",
         "name": "LOCATION",
         "text": [
          "35.0",
          "31.0",
          "13.0",
          "12.0",
          "2.0",
          "-1.0",
          "-8.0",
          "-10.0",
          "-10.0"
         ],
         "textposition": "outside",
         "type": "bar",
         "visible": false,
         "x": [
          "Main Building OT",
          "Urology",
          "Kent Ridge Wing OT",
          "Endoscopy Center",
          "AH Endoscopy Center",
          "Medical Center OT",
          "ICL",
          "AH Day Surgery Theatre",
          "DDI"
         ],
         "y": {
          "bdata": "AAAAAACAQUAAAAAAAAA/QAAAAAAAACpAAAAAAAAAKEAAAAAAAAAAQAAAAAAAAPC/AAAAAAAAIMAAAAAAAAAkwAAAAAAAACTA",
          "dtype": "f8"
         }
        },
        {
         "customdata": {
          "bdata": "6SFvJDkk8yNtJXUzDCyDJJkdcCQ=",
          "dtype": "i2",
          "shape": "10, 1"
         },
         "hovertemplate": "<b>ROOM</b>: %{x}<br>Median: %{y:.1f} min<br>Cases: %{customdata[0]}<extra></extra>",
         "name": "ROOM",
         "text": [
          "77.0",
          "70.0",
          "16.0",
          "14.0",
          "11.0",
          "11.0",
          "-3.0",
          "-7.0",
          "-13.0",
          "-15.0"
         ],
         "textposition": "outside",
         "type": "bar",
         "visible": false,
         "x": [
          "MBOR09",
          "MBOR08",
          "ENDO6",
          "ENDO1",
          "ENDO3",
          "ENDO4",
          "ENDO2",
          "RoomC",
          "MCOR04",
          "MCOR05"
         ],
         "y": {
          "bdata": "AAAAAABAU0AAAAAAAIBRQAAAAAAAADBAAAAAAAAALEAAAAAAAAAmQAAAAAAAACZAAAAAAAAACMAAAAAAAAAcwAAAAAAAACrAAAAAAAAALsA=",
          "dtype": "f8"
         }
        },
        {
         "customdata": {
          "bdata": "DAEAAOgBAADIAAAApwAAADcBAADkAgAAHgEAAD4zAABcCgAAw34DAA==",
          "dtype": "i4",
          "shape": "10, 1"
         },
         "hovertemplate": "<b>EQUIPMENT</b>: %{x}<br>Median: %{y:.1f} min<br>Cases: %{customdata[0]}<extra></extra>",
         "name": "EQUIPMENT",
         "text": [
          "57.0",
          "52.0",
          "48.0",
          "47.0",
          "38.0",
          "29.0",
          "26.5",
          "22.0",
          "17.0",
          "11.0"
         ],
         "textposition": "outside",
         "type": "bar",
         "visible": false,
         "x": [
          "hand microscope",
          "image intensifier; jackson table",
          "amsco table; image intensifier; microscope",
          "image intensifier; microscope",
          "amsco table; image intensifier",
          "da vinci robotics",
          "microscope",
          "image intensifier",
          "mini ii",
          "0"
         ],
         "y": {
          "bdata": "AAAAAACATEAAAAAAAABKQAAAAAAAAEhAAAAAAACAR0AAAAAAAABDQAAAAAAAAD1AAAAAAACAOkAAAAAAAAA2QAAAAAAAADFAAAAAAAAAJkA=",
          "dtype": "f8"
         }
        },
        {
         "customdata": {
          "bdata": "JQgAAIFSAABTAQAAzgMAAHIgAAAoCAAAb0MDAA==",
          "dtype": "i4",
          "shape": "7, 1"
         },
         "hovertemplate": "<b>EMERGENCY_PRIORITY</b>: %{x}<br>Median: %{y:.1f} min<br>Cases: %{customdata[0]}<extra></extra>",
         "name": "EMERGENCY_PRIORITY",
         "text": [
          "73.0",
          "68.0",
          "59.0",
          "47.0",
          "24.0",
          "15.0",
          "9.0"
         ],
         "textposition": "outside",
         "type": "bar",
         "visible": false,
         "x": [
          "P2A",
          "P2B",
          "P3A",
          "P3B",
          "P1",
          "P0",
          "0"
         ],
         "y": {
          "bdata": "AAAAAABAUkAAAAAAAABRQAAAAAAAgE1AAAAAAACAR0AAAAAAAAA4QAAAAAAAAC5AAAAAAAAAIkA=",
          "dtype": "f8"
         }
        },
        {
         "customdata": {
          "bdata": "31gAABY3AAAALAAA3dYAAMMiAADLigAARF0AABJLAADYOwAA31QAAA==",
          "dtype": "i4",
          "shape": "10, 1"
         },
         "hovertemplate": "<b>DISCIPLINE</b>: %{x}<br>Median: %{y:.1f} min<br>Cases: %{customdata[0]}<extra></extra>",
         "name": "DISCIPLINE",
         "text": [
          "35.0",
          "34.0",
          "22.0",
          "20.0",
          "18.0",
          "12.0",
          "12.0",
          "-8.0",
          "-10.0",
          "-14.0"
         ],
         "textposition": "outside",
         "type": "bar",
         "visible": false,
         "x": [
          "Orthopaedic Surgery",
          "CardiacThoracic&Vascular Surg",
          "Hand&Reconstructive Microsurg",
          "Surgery",
          "Otolaryngology&Head&Neck Surg",
          "Gastroenterology & Hepatology",
          "Obstetrics & Gynaecology",
          "Cardiac",
          "Radiology",
          "Ophthalmology"
         ],
         "y": {
          "bdata": "AAAAAACAQUAAAAAAAABBQAAAAAAAADZAAAAAAAAANEAAAAAAAAAyQAAAAAAAAChAAAAAAAAAKEAAAAAAAAAgwAAAAAAAACTAAAAAAAAALMA=",
          "dtype": "f8"
         }
        },
        {
         "customdata": {
          "bdata": "MwAAAN6UAQBgBwAAtyAAACb1AABdTQAAJcwAAA==",
          "dtype": "i4",
          "shape": "7, 1"
         },
         "hovertemplate": "<b>ANESTHESIA</b>: %{x}<br>Median: %{y:.1f} min<br>Cases: %{customdata[0]}<extra></extra>",
         "name": "ANESTHESIA",
         "text": [
          "25.0",
          "24.0",
          "24.0",
          "19.0",
          "12.0",
          "-3.0",
          "-7.0"
         ],
         "textposition": "outside",
         "type": "bar",
         "visible": false,
         "x": [
          "LA (Standby)",
          "GA",
          "Monitored Anaesthesia Care",
          "RA",
          "Sedation",
          "NIL",
          "LA"
         ],
         "y": {
          "bdata": "AAAAAAAAOUAAAAAAAAA4QAAAAAAAADhAAAAAAAAAM0AAAAAAAAAoQAAAAAAAAAjAAAAAAAAAHMA=",
          "dtype": "f8"
         }
        },
        {
         "customdata": {
          "bdata": "CRIAAKstAABOvwAABJUAANQpAACSEQAAdRMAAEkoAQAnRgAAaR4AAA==",
          "dtype": "i4",
          "shape": "10, 1"
         },
         "hovertemplate": "<b>ADMISSION_CLASS_TYPE</b>: %{x}<br>Median: %{y:.1f} min<br>Cases: %{customdata[0]}<extra></extra>",
         "name": "ADMISSION_CLASS_TYPE",
         "text": [
          "24.0",
          "22.0",
          "20.0",
          "19.0",
          "19.0",
          "12.0",
          "8.0",
          "6.0",
          "5.0",
          "-9.0"
         ],
         "textposition": "outside",
         "type": "bar",
         "visible": false,
         "x": [
          "Class B1",
          "Class A",
          "Class C",
          "Class B2",
          "Non Resident",
          "Private for RF",
          "Subsidised PR",
          "Subsidised",
          "Private",
          "Not Admitted"
         ],
         "y": {
          "bdata": "AAAAAAAAOEAAAAAAAAA2QAAAAAAAADRAAAAAAAAAM0AAAAAAAAAzQAAAAAAAAChAAAAAAAAAIEAAAAAAAAAYQAAAAAAAABRAAAAAAAAAIsA=",
          "dtype": "f8"
         }
        },
        {
         "customdata": {
          "bdata": "wBsAAFsdAAATGQAAhxMAAMqvAADUdQAA+iYAAC7SAACwIwAAXxYAAA==",
          "dtype": "i4",
          "shape": "10, 1"
         },
         "hovertemplate": "<b>ADMISSION_WARD</b>: %{x}<br>Median: %{y:.1f} min<br>Cases: %{customdata[0]}<extra></extra>",
         "name": "ADMISSION_WARD",
         "text": [
          "35.0",
          "32.0",
          "27.0",
          "15.0",
          "14.0",
          "13.0",
          "9.0",
          "-1.0",
          "-1.0",
          "-8.0"
         ],
         "textposition": "outside",
         "type": "bar",
         "visible": false,
         "x": [
          "NW51",
          "NW43",
          "NW41",
          "NW64",
          "NCKED",
          "NW2A",
          "NW63",
          "NWASW",
          "Not Admitted",
          "NW28"
         ],
         "y": {
          "bdata": "AAAAAACAQUAAAAAAAABAQAAAAAAAADtAAAAAAAAALkAAAAAAAAAsQAAAAAAAACpAAAAAAAAAIkAAAAAAAADwvwAAAAAAAPC/AAAAAAAAIMA=",
          "dtype": "f8"
         }
        },
        {
         "customdata": {
          "bdata": "iAoAADPcAABfBQAASwUAAEQFAAA7BQAAmxsAAJAFAABUBgAA6yMAAA==",
          "dtype": "i4",
          "shape": "10, 1"
         },
         "hovertemplate": "<b>ADMISSION_BED</b>: %{x}<br>Median: %{y:.1f} min<br>Cases: %{customdata[0]}<extra></extra>",
         "name": "ADMISSION_BED",
         "text": [
          "54.0",
          "13.0",
          "10.0",
          "9.0",
          "7.0",
          "6.0",
          "1.0",
          "-1.0",
          "-9.0",
          "-17.0"
         ],
         "textposition": "outside",
         "type": "bar",
         "visible": false,
         "x": [
          "NEDS001",
          "Not Admitted",
          "NASWB21",
          "NASWB19",
          "NASWB22",
          "NASWB20",
          "NASWC31",
          "NASWB25",
          "NASWB01",
          "NASWC82"
         ],
         "y": {
          "bdata": "AAAAAAAAS0AAAAAAAAAqQAAAAAAAACRAAAAAAAAAIkAAAAAAAAAcQAAAAAAAABhAAAAAAAAA8D8AAAAAAADwvwAAAAAAACLAAAAAAAAAMcA=",
          "dtype": "f8"
         }
        },
        {
         "customdata": {
          "bdata": "VwAAAHnLAwA=",
          "dtype": "i4",
          "shape": "2, 1"
         },
         "hovertemplate": "<b>AOH</b>: %{x}<br>Median: %{y:.1f} min<br>Cases: %{customdata[0]}<extra></extra>",
         "name": "AOH",
         "text": [
          "19.0",
          "12.0"
         ],
         "textposition": "outside",
         "type": "bar",
         "visible": false,
         "x": [
          "True",
          "False"
         ],
         "y": {
          "bdata": "AAAAAAAAM0AAAAAAAAAoQA==",
          "dtype": "f8"
         }
        },
        {
         "customdata": {
          "bdata": "DgAAAAUAAAAFAAAAqBEAAAEAAACzhQMAXDQAAA==",
          "dtype": "i4",
          "shape": "7, 1"
         },
         "hovertemplate": "<b>BLOOD</b>: %{x}<br>Median: %{y:.1f} min<br>Cases: %{customdata[0]}<extra></extra>",
         "name": "BLOOD",
         "text": [
          "47.0",
          "40.0",
          "32.0",
          "30.0",
          "30.0",
          "13.0",
          "-10.0"
         ],
         "textposition": "outside",
         "type": "bar",
         "visible": false,
         "x": [
          "TXS",
          "Blood - 1 pint",
          "Blood - 4 pint",
          "GXM",
          "Blood - 3 pint",
          "NIL",
          "Blood - 2 pint"
         ],
         "y": {
          "bdata": "AAAAAACAR0AAAAAAAABEQAAAAAAAAEBAAAAAAAAAPkAAAAAAAAA+QAAAAAAAACpAAAAAAAAAJMA=",
          "dtype": "f8"
         }
        },
        {
         "customdata": {
          "bdata": "xVcAAAt0AwA=",
          "dtype": "i4",
          "shape": "2, 1"
         },
         "hovertemplate": "<b>IMPLANT</b>: %{x}<br>Median: %{y:.1f} min<br>Cases: %{customdata[0]}<extra></extra>",
         "name": "IMPLANT",
         "text": [
          "24.0",
          "11.0"
         ],
         "textposition": "outside",
         "type": "bar",
         "visible": false,
         "x": [
          "Has implant",
          "No implant"
         ],
         "y": {
          "bdata": "AAAAAAAAOEAAAAAAAAAmQA==",
          "dtype": "f8"
         }
        },
        {
         "customdata": {
          "bdata": "zhUAAAK2AwA=",
          "dtype": "i4",
          "shape": "2, 1"
         },
         "hovertemplate": "<b>CANCER_INDICATOR</b>: %{x}<br>Median: %{y:.1f} min<br>Cases: %{customdata[0]}<extra></extra>",
         "name": "CANCER_INDICATOR",
         "text": [
          "28.0",
          "12.0"
         ],
         "textposition": "outside",
         "type": "bar",
         "visible": false,
         "x": [
          "True",
          "False"
         ],
         "y": {
          "bdata": "AAAAAAAAPEAAAAAAAAAoQA==",
          "dtype": "f8"
         }
        },
        {
         "customdata": {
          "bdata": "YgAAAG7LAwA=",
          "dtype": "i4",
          "shape": "2, 1"
         },
         "hovertemplate": "<b>TRAUMA_INDICATOR</b>: %{x}<br>Median: %{y:.1f} min<br>Cases: %{customdata[0]}<extra></extra>",
         "name": "TRAUMA_INDICATOR",
         "text": [
          "18.5",
          "12.0"
         ],
         "textposition": "outside",
         "type": "bar",
         "visible": false,
         "x": [
          "True",
          "False"
         ],
         "y": {
          "bdata": "AAAAAACAMkAAAAAAAAAoQA==",
          "dtype": "f8"
         }
        }
       ],
       "layout": {
        "bargap": 0.25,
        "margin": {
         "b": 80,
         "l": 60,
         "r": 30,
         "t": 70
        },
        "template": {
         "data": {
          "bar": [
           {
            "error_x": {
             "color": "#2a3f5f"
            },
            "error_y": {
             "color": "#2a3f5f"
            },
            "marker": {
             "line": {
              "color": "#E5ECF6",
              "width": 0.5
             },
             "pattern": {
              "fillmode": "overlay",
              "size": 10,
              "solidity": 0.2
             }
            },
            "type": "bar"
           }
          ],
          "barpolar": [
           {
            "marker": {
             "line": {
              "color": "#E5ECF6",
              "width": 0.5
             },
             "pattern": {
              "fillmode": "overlay",
              "size": 10,
              "solidity": 0.2
             }
            },
            "type": "barpolar"
           }
          ],
          "carpet": [
           {
            "aaxis": {
             "endlinecolor": "#2a3f5f",
             "gridcolor": "white",
             "linecolor": "white",
             "minorgridcolor": "white",
             "startlinecolor": "#2a3f5f"
            },
            "baxis": {
             "endlinecolor": "#2a3f5f",
             "gridcolor": "white",
             "linecolor": "white",
             "minorgridcolor": "white",
             "startlinecolor": "#2a3f5f"
            },
            "type": "carpet"
           }
          ],
          "choropleth": [
           {
            "colorbar": {
             "outlinewidth": 0,
             "ticks": ""
            },
            "type": "choropleth"
           }
          ],
          "contour": [
           {
            "colorbar": {
             "outlinewidth": 0,
             "ticks": ""
            },
            "colorscale": [
             [
              0,
              "#0d0887"
             ],
             [
              0.1111111111111111,
              "#46039f"
             ],
             [
              0.2222222222222222,
              "#7201a8"
             ],
             [
              0.3333333333333333,
              "#9c179e"
             ],
             [
              0.4444444444444444,
              "#bd3786"
             ],
             [
              0.5555555555555556,
              "#d8576b"
             ],
             [
              0.6666666666666666,
              "#ed7953"
             ],
             [
              0.7777777777777778,
              "#fb9f3a"
             ],
             [
              0.8888888888888888,
              "#fdca26"
             ],
             [
              1,
              "#f0f921"
             ]
            ],
            "type": "contour"
           }
          ],
          "contourcarpet": [
           {
            "colorbar": {
             "outlinewidth": 0,
             "ticks": ""
            },
            "type": "contourcarpet"
           }
          ],
          "heatmap": [
           {
            "colorbar": {
             "outlinewidth": 0,
             "ticks": ""
            },
            "colorscale": [
             [
              0,
              "#0d0887"
             ],
             [
              0.1111111111111111,
              "#46039f"
             ],
             [
              0.2222222222222222,
              "#7201a8"
             ],
             [
              0.3333333333333333,
              "#9c179e"
             ],
             [
              0.4444444444444444,
              "#bd3786"
             ],
             [
              0.5555555555555556,
              "#d8576b"
             ],
             [
              0.6666666666666666,
              "#ed7953"
             ],
             [
              0.7777777777777778,
              "#fb9f3a"
             ],
             [
              0.8888888888888888,
              "#fdca26"
             ],
             [
              1,
              "#f0f921"
             ]
            ],
            "type": "heatmap"
           }
          ],
          "histogram": [
           {
            "marker": {
             "pattern": {
              "fillmode": "overlay",
              "size": 10,
              "solidity": 0.2
             }
            },
            "type": "histogram"
           }
          ],
          "histogram2d": [
           {
            "colorbar": {
             "outlinewidth": 0,
             "ticks": ""
            },
            "colorscale": [
             [
              0,
              "#0d0887"
             ],
             [
              0.1111111111111111,
              "#46039f"
             ],
             [
              0.2222222222222222,
              "#7201a8"
             ],
             [
              0.3333333333333333,
              "#9c179e"
             ],
             [
              0.4444444444444444,
              "#bd3786"
             ],
             [
              0.5555555555555556,
              "#d8576b"
             ],
             [
              0.6666666666666666,
              "#ed7953"
             ],
             [
              0.7777777777777778,
              "#fb9f3a"
             ],
             [
              0.8888888888888888,
              "#fdca26"
             ],
             [
              1,
              "#f0f921"
             ]
            ],
            "type": "histogram2d"
           }
          ],
          "histogram2dcontour": [
           {
            "colorbar": {
             "outlinewidth": 0,
             "ticks": ""
            },
            "colorscale": [
             [
              0,
              "#0d0887"
             ],
             [
              0.1111111111111111,
              "#46039f"
             ],
             [
              0.2222222222222222,
              "#7201a8"
             ],
             [
              0.3333333333333333,
              "#9c179e"
             ],
             [
              0.4444444444444444,
              "#bd3786"
             ],
             [
              0.5555555555555556,
              "#d8576b"
             ],
             [
              0.6666666666666666,
              "#ed7953"
             ],
             [
              0.7777777777777778,
              "#fb9f3a"
             ],
             [
              0.8888888888888888,
              "#fdca26"
             ],
             [
              1,
              "#f0f921"
             ]
            ],
            "type": "histogram2dcontour"
           }
          ],
          "mesh3d": [
           {
            "colorbar": {
             "outlinewidth": 0,
             "ticks": ""
            },
            "type": "mesh3d"
           }
          ],
          "parcoords": [
           {
            "line": {
             "colorbar": {
              "outlinewidth": 0,
              "ticks": ""
             }
            },
            "type": "parcoords"
           }
          ],
          "pie": [
           {
            "automargin": true,
            "type": "pie"
           }
          ],
          "scatter": [
           {
            "fillpattern": {
             "fillmode": "overlay",
             "size": 10,
             "solidity": 0.2
            },
            "type": "scatter"
           }
          ],
          "scatter3d": [
           {
            "line": {
             "colorbar": {
              "outlinewidth": 0,
              "ticks": ""
             }
            },
            "marker": {
             "colorbar": {
              "outlinewidth": 0,
              "ticks": ""
             }
            },
            "type": "scatter3d"
           }
          ],
          "scattercarpet": [
           {
            "marker": {
             "colorbar": {
              "outlinewidth": 0,
              "ticks": ""
             }
            },
            "type": "scattercarpet"
           }
          ],
          "scattergeo": [
           {
            "marker": {
             "colorbar": {
              "outlinewidth": 0,
              "ticks": ""
             }
            },
            "type": "scattergeo"
           }
          ],
          "scattergl": [
           {
            "marker": {
             "colorbar": {
              "outlinewidth": 0,
              "ticks": ""
             }
            },
            "type": "scattergl"
           }
          ],
          "scattermap": [
           {
            "marker": {
             "colorbar": {
              "outlinewidth": 0,
              "ticks": ""
             }
            },
            "type": "scattermap"
           }
          ],
          "scattermapbox": [
           {
            "marker": {
             "colorbar": {
              "outlinewidth": 0,
              "ticks": ""
             }
            },
            "type": "scattermapbox"
           }
          ],
          "scatterpolar": [
           {
            "marker": {
             "colorbar": {
              "outlinewidth": 0,
              "ticks": ""
             }
            },
            "type": "scatterpolar"
           }
          ],
          "scatterpolargl": [
           {
            "marker": {
             "colorbar": {
              "outlinewidth": 0,
              "ticks": ""
             }
            },
            "type": "scatterpolargl"
           }
          ],
          "scatterternary": [
           {
            "marker": {
             "colorbar": {
              "outlinewidth": 0,
              "ticks": ""
             }
            },
            "type": "scatterternary"
           }
          ],
          "surface": [
           {
            "colorbar": {
             "outlinewidth": 0,
             "ticks": ""
            },
            "colorscale": [
             [
              0,
              "#0d0887"
             ],
             [
              0.1111111111111111,
              "#46039f"
             ],
             [
              0.2222222222222222,
              "#7201a8"
             ],
             [
              0.3333333333333333,
              "#9c179e"
             ],
             [
              0.4444444444444444,
              "#bd3786"
             ],
             [
              0.5555555555555556,
              "#d8576b"
             ],
             [
              0.6666666666666666,
              "#ed7953"
             ],
             [
              0.7777777777777778,
              "#fb9f3a"
             ],
             [
              0.8888888888888888,
              "#fdca26"
             ],
             [
              1,
              "#f0f921"
             ]
            ],
            "type": "surface"
           }
          ],
          "table": [
           {
            "cells": {
             "fill": {
              "color": "#EBF0F8"
             },
             "line": {
              "color": "white"
             }
            },
            "header": {
             "fill": {
              "color": "#C8D4E3"
             },
             "line": {
              "color": "white"
             }
            },
            "type": "table"
           }
          ]
         },
         "layout": {
          "annotationdefaults": {
           "arrowcolor": "#2a3f5f",
           "arrowhead": 0,
           "arrowwidth": 1
          },
          "autotypenumbers": "strict",
          "coloraxis": {
           "colorbar": {
            "outlinewidth": 0,
            "ticks": ""
           }
          },
          "colorscale": {
           "diverging": [
            [
             0,
             "#8e0152"
            ],
            [
             0.1,
             "#c51b7d"
            ],
            [
             0.2,
             "#de77ae"
            ],
            [
             0.3,
             "#f1b6da"
            ],
            [
             0.4,
             "#fde0ef"
            ],
            [
             0.5,
             "#f7f7f7"
            ],
            [
             0.6,
             "#e6f5d0"
            ],
            [
             0.7,
             "#b8e186"
            ],
            [
             0.8,
             "#7fbc41"
            ],
            [
             0.9,
             "#4d9221"
            ],
            [
             1,
             "#276419"
            ]
           ],
           "sequential": [
            [
             0,
             "#0d0887"
            ],
            [
             0.1111111111111111,
             "#46039f"
            ],
            [
             0.2222222222222222,
             "#7201a8"
            ],
            [
             0.3333333333333333,
             "#9c179e"
            ],
            [
             0.4444444444444444,
             "#bd3786"
            ],
            [
             0.5555555555555556,
             "#d8576b"
            ],
            [
             0.6666666666666666,
             "#ed7953"
            ],
            [
             0.7777777777777778,
             "#fb9f3a"
            ],
            [
             0.8888888888888888,
             "#fdca26"
            ],
            [
             1,
             "#f0f921"
            ]
           ],
           "sequentialminus": [
            [
             0,
             "#0d0887"
            ],
            [
             0.1111111111111111,
             "#46039f"
            ],
            [
             0.2222222222222222,
             "#7201a8"
            ],
            [
             0.3333333333333333,
             "#9c179e"
            ],
            [
             0.4444444444444444,
             "#bd3786"
            ],
            [
             0.5555555555555556,
             "#d8576b"
            ],
            [
             0.6666666666666666,
             "#ed7953"
            ],
            [
             0.7777777777777778,
             "#fb9f3a"
            ],
            [
             0.8888888888888888,
             "#fdca26"
            ],
            [
             1,
             "#f0f921"
            ]
           ]
          },
          "colorway": [
           "#636efa",
           "#EF553B",
           "#00cc96",
           "#ab63fa",
           "#FFA15A",
           "#19d3f3",
           "#FF6692",
           "#B6E880",
           "#FF97FF",
           "#FECB52"
          ],
          "font": {
           "color": "#2a3f5f"
          },
          "geo": {
           "bgcolor": "white",
           "lakecolor": "white",
           "landcolor": "#E5ECF6",
           "showlakes": true,
           "showland": true,
           "subunitcolor": "white"
          },
          "hoverlabel": {
           "align": "left"
          },
          "hovermode": "closest",
          "mapbox": {
           "style": "light"
          },
          "paper_bgcolor": "white",
          "plot_bgcolor": "#E5ECF6",
          "polar": {
           "angularaxis": {
            "gridcolor": "white",
            "linecolor": "white",
            "ticks": ""
           },
           "bgcolor": "#E5ECF6",
           "radialaxis": {
            "gridcolor": "white",
            "linecolor": "white",
            "ticks": ""
           }
          },
          "scene": {
           "xaxis": {
            "backgroundcolor": "#E5ECF6",
            "gridcolor": "white",
            "gridwidth": 2,
            "linecolor": "white",
            "showbackground": true,
            "ticks": "",
            "zerolinecolor": "white"
           },
           "yaxis": {
            "backgroundcolor": "#E5ECF6",
            "gridcolor": "white",
            "gridwidth": 2,
            "linecolor": "white",
            "showbackground": true,
            "ticks": "",
            "zerolinecolor": "white"
           },
           "zaxis": {
            "backgroundcolor": "#E5ECF6",
            "gridcolor": "white",
            "gridwidth": 2,
            "linecolor": "white",
            "showbackground": true,
            "ticks": "",
            "zerolinecolor": "white"
           }
          },
          "shapedefaults": {
           "line": {
            "color": "#2a3f5f"
           }
          },
          "ternary": {
           "aaxis": {
            "gridcolor": "white",
            "linecolor": "white",
            "ticks": ""
           },
           "baxis": {
            "gridcolor": "white",
            "linecolor": "white",
            "ticks": ""
           },
           "bgcolor": "#E5ECF6",
           "caxis": {
            "gridcolor": "white",
            "linecolor": "white",
            "ticks": ""
           }
          },
          "title": {
           "x": 0.05
          },
          "xaxis": {
           "automargin": true,
           "gridcolor": "white",
           "linecolor": "white",
           "ticks": "",
           "title": {
            "standoff": 15
           },
           "zerolinecolor": "white",
           "zerolinewidth": 2
          },
          "yaxis": {
           "automargin": true,
           "gridcolor": "white",
           "linecolor": "white",
           "ticks": "",
           "title": {
            "standoff": 15
           },
           "zerolinecolor": "white",
           "zerolinewidth": 2
          }
         }
        },
        "title": {
         "text": "Median KNIFE_START_DELAY by Delay_Category (Top 10)"
        },
        "updatemenus": [
         {
          "buttons": [
           {
            "args": [
             {
              "visible": [
               true,
               false,
               false,
               false,
               false,
               false,
               false,
               false,
               false,
               false,
               false,
               false,
               false,
               false,
               false
              ]
             },
             {
              "title": "Median KNIFE_START_DELAY by Delay_Category (Top 10)",
              "xaxis": {
               "title": "Delay_Category"
              },
              "yaxis": {
               "range": [
                -48,
                89
               ]
              }
             }
            ],
            "label": "Delay_Category",
            "method": "update"
           },
           {
            "args": [
             {
              "visible": [
               false,
               true,
               false,
               false,
               false,
               false,
               false,
               false,
               false,
               false,
               false,
               false,
               false,
               false,
               false
              ]
             },
             {
              "title": "Median KNIFE_START_DELAY by LOCATION (Top 10)",
              "xaxis": {
               "title": "LOCATION"
              },
              "yaxis": {
               "range": [
                -30,
                55
               ]
              }
             }
            ],
            "label": "LOCATION",
            "method": "update"
           },
           {
            "args": [
             {
              "visible": [
               false,
               false,
               true,
               false,
               false,
               false,
               false,
               false,
               false,
               false,
               false,
               false,
               false,
               false,
               false
              ]
             },
             {
              "title": "Median KNIFE_START_DELAY by ROOM (Top 10)",
              "xaxis": {
               "title": "ROOM"
              },
              "yaxis": {
               "range": [
                -35,
                97
               ]
              }
             }
            ],
            "label": "ROOM",
            "method": "update"
           },
           {
            "args": [
             {
              "visible": [
               false,
               false,
               false,
               true,
               false,
               false,
               false,
               false,
               false,
               false,
               false,
               false,
               false,
               false,
               false
              ]
             },
             {
              "title": "Median KNIFE_START_DELAY by EQUIPMENT (Top 10)",
              "xaxis": {
               "title": "EQUIPMENT"
              },
              "yaxis": {
               "range": [
                0,
                100
               ]
              }
             }
            ],
            "label": "EQUIPMENT",
            "method": "update"
           },
           {
            "args": [
             {
              "visible": [
               false,
               false,
               false,
               false,
               true,
               false,
               false,
               false,
               false,
               false,
               false,
               false,
               false,
               false,
               false
              ]
             },
             {
              "title": "Median KNIFE_START_DELAY by EMERGENCY_PRIORITY (Top 10)",
              "xaxis": {
               "title": "EMERGENCY_PRIORITY"
              },
              "yaxis": {
               "range": [
                0,
                100
               ]
              }
             }
            ],
            "label": "EMERGENCY_PRIORITY",
            "method": "update"
           },
           {
            "args": [
             {
              "visible": [
               false,
               false,
               false,
               false,
               false,
               true,
               false,
               false,
               false,
               false,
               false,
               false,
               false,
               false,
               false
              ]
             },
             {
              "title": "Median KNIFE_START_DELAY by DISCIPLINE (Top 10)",
              "xaxis": {
               "title": "DISCIPLINE"
              },
              "yaxis": {
               "range": [
                -34,
                55
               ]
              }
             }
            ],
            "label": "DISCIPLINE",
            "method": "update"
           },
           {
            "args": [
             {
              "visible": [
               false,
               false,
               false,
               false,
               false,
               false,
               true,
               false,
               false,
               false,
               false,
               false,
               false,
               false,
               false
              ]
             },
             {
              "title": "Median KNIFE_START_DELAY by ANESTHESIA (Top 10)",
              "xaxis": {
               "title": "ANESTHESIA"
              },
              "yaxis": {
               "range": [
                -27,
                45
               ]
              }
             }
            ],
            "label": "ANESTHESIA",
            "method": "update"
           },
           {
            "args": [
             {
              "visible": [
               false,
               false,
               false,
               false,
               false,
               false,
               false,
               true,
               false,
               false,
               false,
               false,
               false,
               false,
               false
              ]
             },
             {
              "title": "Median KNIFE_START_DELAY by ADMISSION_CLASS_TYPE (Top 10)",
              "xaxis": {
               "title": "ADMISSION_CLASS_TYPE"
              },
              "yaxis": {
               "range": [
                -29,
                44
               ]
              }
             }
            ],
            "label": "ADMISSION_CLASS_TYPE",
            "method": "update"
           },
           {
            "args": [
             {
              "visible": [
               false,
               false,
               false,
               false,
               false,
               false,
               false,
               false,
               true,
               false,
               false,
               false,
               false,
               false,
               false
              ]
             },
             {
              "title": "Median KNIFE_START_DELAY by ADMISSION_WARD (Top 10)",
              "xaxis": {
               "title": "ADMISSION_WARD"
              },
              "yaxis": {
               "range": [
                -28,
                55
               ]
              }
             }
            ],
            "label": "ADMISSION_WARD",
            "method": "update"
           },
           {
            "args": [
             {
              "visible": [
               false,
               false,
               false,
               false,
               false,
               false,
               false,
               false,
               false,
               true,
               false,
               false,
               false,
               false,
               false
              ]
             },
             {
              "title": "Median KNIFE_START_DELAY by ADMISSION_BED (Top 10)",
              "xaxis": {
               "title": "ADMISSION_BED"
              },
              "yaxis": {
               "range": [
                -37,
                74
               ]
              }
             }
            ],
            "label": "ADMISSION_BED",
            "method": "update"
           },
           {
            "args": [
             {
              "visible": [
               false,
               false,
               false,
               false,
               false,
               false,
               false,
               false,
               false,
               false,
               true,
               false,
               false,
               false,
               false
              ]
             },
             {
              "title": "Median KNIFE_START_DELAY by AOH (Top 10)",
              "xaxis": {
               "title": "AOH"
              },
              "yaxis": {
               "range": [
                0,
                100
               ]
              }
             }
            ],
            "label": "AOH",
            "method": "update"
           },
           {
            "args": [
             {
              "visible": [
               false,
               false,
               false,
               false,
               false,
               false,
               false,
               false,
               false,
               false,
               false,
               true,
               false,
               false,
               false
              ]
             },
             {
              "title": "Median KNIFE_START_DELAY by BLOOD (Top 10)",
              "xaxis": {
               "title": "BLOOD"
              },
              "yaxis": {
               "range": [
                -30,
                67
               ]
              }
             }
            ],
            "label": "BLOOD",
            "method": "update"
           },
           {
            "args": [
             {
              "visible": [
               false,
               false,
               false,
               false,
               false,
               false,
               false,
               false,
               false,
               false,
               false,
               false,
               true,
               false,
               false
              ]
             },
             {
              "title": "Median KNIFE_START_DELAY by IMPLANT (Top 10)",
              "xaxis": {
               "title": "IMPLANT"
              },
              "yaxis": {
               "range": [
                0,
                100
               ]
              }
             }
            ],
            "label": "IMPLANT",
            "method": "update"
           },
           {
            "args": [
             {
              "visible": [
               false,
               false,
               false,
               false,
               false,
               false,
               false,
               false,
               false,
               false,
               false,
               false,
               false,
               true,
               false
              ]
             },
             {
              "title": "Median KNIFE_START_DELAY by CANCER_INDICATOR (Top 10)",
              "xaxis": {
               "title": "CANCER_INDICATOR"
              },
              "yaxis": {
               "range": [
                0,
                100
               ]
              }
             }
            ],
            "label": "CANCER_INDICATOR",
            "method": "update"
           },
           {
            "args": [
             {
              "visible": [
               false,
               false,
               false,
               false,
               false,
               false,
               false,
               false,
               false,
               false,
               false,
               false,
               false,
               false,
               true
              ]
             },
             {
              "title": "Median KNIFE_START_DELAY by TRAUMA_INDICATOR (Top 10)",
              "xaxis": {
               "title": "TRAUMA_INDICATOR"
              },
              "yaxis": {
               "range": [
                0,
                100
               ]
              }
             }
            ],
            "label": "TRAUMA_INDICATOR",
            "method": "update"
           }
          ],
          "showactive": true,
          "type": "dropdown",
          "x": 1,
          "xanchor": "right",
          "y": 1.15,
          "yanchor": "top"
         }
        ],
        "yaxis": {
         "range": [
          -48,
          89
         ],
         "title": {
          "text": "Median KNIFE_START_DELAY (minutes)"
         }
        }
       }
      }
     },
     "metadata": {},
     "output_type": "display_data"
    }
   ],
   "source": [
    "# --- Median KNIFE_START_DELAY bar chart with dropdown, dynamic y-axis ---\n",
    "import pandas as pd\n",
    "import numpy as np\n",
    "import plotly.graph_objects as go\n",
    "\n",
    "# ====== CONFIG ======\n",
    "DATA_PATH = \"C:/Users/egtay/Downloads/Telegram Desktop/Final_Cleaned_Dataset_OPTIC_7.csv\"\n",
    "VALUE_COL = \"KNIFE_START_DELAY\"\n",
    "TOP_K     = 10\n",
    "\n",
    "CATEGORY_MAP = {\n",
    "    \"Delay_Category\": \"Delay_Category\",\n",
    "    \"LOCATION\": \"LOCATION\",\n",
    "    \"ROOM\": \"ROOM\",\n",
    "    \"EQUIPMENT\": \"__EQUIPMENT_SPLIT__\",\n",
    "    \"EMERGENCY_PRIORITY\": \"EMERGENCY_PRIORITY\",\n",
    "    \"DISCIPLINE\": \"DISCIPLINE\",\n",
    "    \"ANESTHESIA\": \"ANESTHESIA\",\n",
    "    \"ADMISSION_CLASS_TYPE\": \"ADMISSION_CLASS_TYPE\",\n",
    "    \"ADMISSION_WARD\": \"ADMISSION_WARD\",\n",
    "    \"ADMISSION_BED\": \"ADMISSION_BED\",\n",
    "    \"AOH\": \"AOH\",\n",
    "    \"BLOOD\": \"BLOOD\",\n",
    "    \"IMPLANT\": \"__IMPLANT_BIN__\",\n",
    "    \"CANCER_INDICATOR\": \"CANCER_INDICATOR\",\n",
    "    \"TRAUMA_INDICATOR\": \"TRAUMA_INDICATOR\",\n",
    "}\n",
    "\n",
    "# ====== LOAD ======\n",
    "df = pd.read_csv(DATA_PATH)\n",
    "df[VALUE_COL] = pd.to_numeric(df[VALUE_COL], errors=\"coerce\")\n",
    "df = df.dropna(subset=[VALUE_COL]).copy()\n",
    "\n",
    "# ====== EQUIPMENT split ======\n",
    "if \"EQUIPMENT\" in df.columns:\n",
    "    eq = (\n",
    "        df[[\"OPERATION_ID\", \"EQUIPMENT\"]]\n",
    "        .assign(EQUIPMENT=lambda d: d[\"EQUIPMENT\"].astype(str).fillna(\"\").str.split(\",\"))\n",
    "        .explode(\"EQUIPMENT\")\n",
    "    )\n",
    "    eq[\"EQUIPMENT\"] = eq[\"EQUIPMENT\"].astype(str).str.strip()\n",
    "    eq.loc[eq[\"EQUIPMENT\"].isin([\"\", \"nan\", \"None\", \"NULL\"]), \"EQUIPMENT\"] = np.nan\n",
    "    eq = eq.dropna(subset=[\"EQUIPMENT\"])\n",
    "    df_eq = df.merge(eq, on=\"OPERATION_ID\", how=\"left\", suffixes=(\"\", \"_x\"))\n",
    "    df_eq[\"__EQUIPMENT_SPLIT__\"] = df_eq[\"EQUIPMENT_x\"]\n",
    "else:\n",
    "    df_eq = df.copy()\n",
    "    df_eq[\"__EQUIPMENT_SPLIT__\"] = np.nan\n",
    "\n",
    "# ====== IMPLANT binary ======\n",
    "if \"IMPLANT\" in df.columns:\n",
    "    def to_implant_bin(s):\n",
    "        try:\n",
    "            v = float(s)\n",
    "            return \"No implant\" if v == 0 else \"Has implant\"\n",
    "        except:\n",
    "            return \"Has implant\"\n",
    "    df[\"__IMPLANT_BIN__\"] = df[\"IMPLANT\"].astype(str).map(to_implant_bin)\n",
    "else:\n",
    "    df[\"__IMPLANT_BIN__\"] = np.nan\n",
    "\n",
    "# Helpers\n",
    "def get_working_df(label: str):\n",
    "    col = CATEGORY_MAP[label]\n",
    "    return (df_eq if col == \"__EQUIPMENT_SPLIT__\" else df).copy(), col\n",
    "\n",
    "def select_top_by_volume(w: pd.DataFrame, col: str, k: int = TOP_K) -> pd.DataFrame:\n",
    "    w = w.dropna(subset=[col]).copy()\n",
    "    w[col] = w[col].astype(str).str.strip()\n",
    "    counts = w[col].value_counts()\n",
    "    if len(counts) > k:\n",
    "        w = w[w[col].isin(counts.iloc[:k].index)]\n",
    "    return w\n",
    "\n",
    "def make_agg(label: str) -> pd.DataFrame:\n",
    "    w, col = get_working_df(label)\n",
    "    if col not in w.columns:\n",
    "        return pd.DataFrame(columns=[col, \"median_delay\", \"count\"])\n",
    "    w = select_top_by_volume(w, col, TOP_K)\n",
    "    agg = (\n",
    "        w.groupby(col)[VALUE_COL]\n",
    "         .agg(median_delay=\"median\", count=\"count\")\n",
    "         .reset_index()\n",
    "    )\n",
    "    agg = agg.sort_values(\"median_delay\", ascending=False)\n",
    "    agg[col] = agg[col].astype(str)\n",
    "    return agg\n",
    "\n",
    "# Build figure\n",
    "fig = go.Figure()\n",
    "buttons, masks = [], []\n",
    "trace_offset = 0\n",
    "all_aggs = {}\n",
    "\n",
    "for label in CATEGORY_MAP.keys():\n",
    "    agg = make_agg(label)\n",
    "    all_aggs[label] = agg\n",
    "    if agg.empty:\n",
    "        masks.append([False] * trace_offset)\n",
    "        continue\n",
    "\n",
    "    cat_col = CATEGORY_MAP[label]\n",
    "    fig.add_trace(go.Bar(\n",
    "        x=agg[cat_col],\n",
    "        y=agg[\"median_delay\"],\n",
    "        customdata=np.c_[agg[\"count\"]],\n",
    "        text=agg[\"median_delay\"].round(1).astype(str),\n",
    "        textposition=\"outside\",\n",
    "        hovertemplate=(\n",
    "            f\"<b>{label}</b>: %{{x}}<br>\"\n",
    "            \"Median: %{y:.1f} min<br>\"\n",
    "            \"Cases: %{customdata[0]}<extra></extra>\"\n",
    "        ),\n",
    "        name=label\n",
    "    ))\n",
    "\n",
    "    masks.append([False] * trace_offset + [True])\n",
    "    trace_offset += 1\n",
    "\n",
    "# pad masks\n",
    "total = trace_offset\n",
    "masks = [m + [False] * (total - len(m)) for m in masks]\n",
    "\n",
    "# dropdown\n",
    "for label, mask in zip(CATEGORY_MAP.keys(), masks):\n",
    "    agg = all_aggs[label]\n",
    "    if not agg.empty:\n",
    "        y_min, y_max = agg[\"median_delay\"].min(), agg[\"median_delay\"].max()\n",
    "        # dynamic range logic\n",
    "        lower = 0 if y_min >= 0 else y_min - 20\n",
    "        upper = 100 if y_max <= 100 and y_min >= 0 else y_max + 20\n",
    "        yr = [lower, upper]\n",
    "    else:\n",
    "        yr = [0, 100]\n",
    "\n",
    "    buttons.append(dict(\n",
    "        label=label,\n",
    "        method=\"update\",\n",
    "        args=[\n",
    "            {\"visible\": mask},\n",
    "            {\n",
    "                \"title\": f\"Median KNIFE_START_DELAY by {label} (Top 10)\",\n",
    "                \"yaxis\": {\"range\": yr},\n",
    "                \"xaxis\": {\"title\": label},\n",
    "            },\n",
    "        ]\n",
    "    ))\n",
    "\n",
    "# init view\n",
    "if masks:\n",
    "    for i, tr in enumerate(fig.data):\n",
    "        tr.visible = masks[0][i]\n",
    "\n",
    "fig.update_layout(\n",
    "    title=f\"Median KNIFE_START_DELAY by {list(CATEGORY_MAP.keys())[0]} (Top 10)\",\n",
    "    yaxis_title=\"Median KNIFE_START_DELAY (minutes)\",\n",
    "    bargap=0.25,\n",
    "    updatemenus=[dict(\n",
    "        type=\"dropdown\",\n",
    "        x=1.0, xanchor=\"right\",    \n",
    "        y=1.15, yanchor=\"top\",     \n",
    "        buttons=buttons,\n",
    "        showactive=True\n",
    "    )],\n",
    "    margin=dict(l=60, r=30, t=70, b=80)\n",
    ")\n",
    "\n",
    "\n",
    "# default y-range for initial category\n",
    "if not all_aggs[list(CATEGORY_MAP.keys())[0]].empty:\n",
    "    y_min, y_max = all_aggs[list(CATEGORY_MAP.keys())[0]][\"median_delay\"].min(), all_aggs[list(CATEGORY_MAP.keys())[0]][\"median_delay\"].max()\n",
    "    lower = 0 if y_min >= 0 else y_min - 20\n",
    "    upper = 100 if y_max <= 100 and y_min >= 0 else y_max + 20\n",
    "    fig.update_yaxes(range=[lower, upper])\n",
    "else:\n",
    "    fig.update_yaxes(range=[0, 100])\n",
    "\n",
    "fig.show()"
   ]
  },
  {
   "cell_type": "code",
   "execution_count": 29,
   "id": "1084b13f",
   "metadata": {},
   "outputs": [
    {
     "ename": "KeyboardInterrupt",
     "evalue": "",
     "output_type": "error",
     "traceback": [
      "\u001b[31m---------------------------------------------------------------------------\u001b[39m",
      "\u001b[31mKeyboardInterrupt\u001b[39m                         Traceback (most recent call last)",
      "\u001b[36mCell\u001b[39m\u001b[36m \u001b[39m\u001b[32mIn[29]\u001b[39m\u001b[32m, line 55\u001b[39m\n\u001b[32m     53\u001b[39m     eq = eq.dropna(subset=[\u001b[33m\"\u001b[39m\u001b[33mEQUIPMENT\u001b[39m\u001b[33m\"\u001b[39m])\n\u001b[32m     54\u001b[39m     df_eq = df.merge(eq, on=\u001b[33m\"\u001b[39m\u001b[33mOPERATION_ID\u001b[39m\u001b[33m\"\u001b[39m, how=\u001b[33m\"\u001b[39m\u001b[33mleft\u001b[39m\u001b[33m\"\u001b[39m, suffixes=(\u001b[33m\"\u001b[39m\u001b[33m\"\u001b[39m, \u001b[33m\"\u001b[39m\u001b[33m_x\u001b[39m\u001b[33m\"\u001b[39m))\n\u001b[32m---> \u001b[39m\u001b[32m55\u001b[39m     df_eq[\u001b[33m\"\u001b[39m\u001b[33m__EQUIPMENT_SPLIT__\u001b[39m\u001b[33m\"\u001b[39m] = \u001b[43mdf_eq\u001b[49m\u001b[43m[\u001b[49m\u001b[33;43m\"\u001b[39;49m\u001b[33;43mEQUIPMENT_x\u001b[39;49m\u001b[33;43m\"\u001b[39;49m\u001b[43m]\u001b[49m\n\u001b[32m     56\u001b[39m \u001b[38;5;28;01melse\u001b[39;00m:\n\u001b[32m     57\u001b[39m     df_eq = df.copy()\n",
      "\u001b[36mFile \u001b[39m\u001b[32m~\\AppData\\Local\\Packages\\PythonSoftwareFoundation.Python.3.11_qbz5n2kfra8p0\\LocalCache\\local-packages\\Python311\\site-packages\\pandas\\core\\frame.py:4068\u001b[39m, in \u001b[36mDataFrame.__getitem__\u001b[39m\u001b[34m(self, key)\u001b[39m\n\u001b[32m   4067\u001b[39m \u001b[38;5;28;01mdef\u001b[39;00m\u001b[38;5;250m \u001b[39m\u001b[34m__getitem__\u001b[39m(\u001b[38;5;28mself\u001b[39m, key):\n\u001b[32m-> \u001b[39m\u001b[32m4068\u001b[39m     \u001b[43mcheck_dict_or_set_indexers\u001b[49m\u001b[43m(\u001b[49m\u001b[43mkey\u001b[49m\u001b[43m)\u001b[49m\n\u001b[32m   4069\u001b[39m     key = lib.item_from_zerodim(key)\n\u001b[32m   4070\u001b[39m     key = com.apply_if_callable(key, \u001b[38;5;28mself\u001b[39m)\n",
      "\u001b[36mFile \u001b[39m\u001b[32m~\\AppData\\Local\\Packages\\PythonSoftwareFoundation.Python.3.11_qbz5n2kfra8p0\\LocalCache\\local-packages\\Python311\\site-packages\\pandas\\core\\indexing.py:2800\u001b[39m, in \u001b[36mcheck_dict_or_set_indexers\u001b[39m\u001b[34m(key)\u001b[39m\n\u001b[32m   2788\u001b[39m \u001b[38;5;250m    \u001b[39m\u001b[33;03m\"\"\"\u001b[39;00m\n\u001b[32m   2789\u001b[39m \u001b[33;03m    Returns\u001b[39;00m\n\u001b[32m   2790\u001b[39m \u001b[33;03m    -------\u001b[39;00m\n\u001b[32m   2791\u001b[39m \u001b[33;03m    bool\u001b[39;00m\n\u001b[32m   2792\u001b[39m \u001b[33;03m    \"\"\"\u001b[39;00m\n\u001b[32m   2793\u001b[39m     \u001b[38;5;28;01mreturn\u001b[39;00m (\n\u001b[32m   2794\u001b[39m         obj.start \u001b[38;5;129;01mis\u001b[39;00m \u001b[38;5;129;01mnot\u001b[39;00m \u001b[38;5;28;01mNone\u001b[39;00m\n\u001b[32m   2795\u001b[39m         \u001b[38;5;129;01mor\u001b[39;00m obj.stop \u001b[38;5;129;01mis\u001b[39;00m \u001b[38;5;129;01mnot\u001b[39;00m \u001b[38;5;28;01mNone\u001b[39;00m\n\u001b[32m   2796\u001b[39m         \u001b[38;5;129;01mor\u001b[39;00m (obj.step \u001b[38;5;129;01mis\u001b[39;00m \u001b[38;5;129;01mnot\u001b[39;00m \u001b[38;5;28;01mNone\u001b[39;00m \u001b[38;5;129;01mand\u001b[39;00m obj.step != \u001b[32m1\u001b[39m)\n\u001b[32m   2797\u001b[39m     )\n\u001b[32m-> \u001b[39m\u001b[32m2800\u001b[39m \u001b[38;5;28;01mdef\u001b[39;00m\u001b[38;5;250m \u001b[39m\u001b[34mcheck_dict_or_set_indexers\u001b[39m(key) -> \u001b[38;5;28;01mNone\u001b[39;00m:\n\u001b[32m   2801\u001b[39m \u001b[38;5;250m    \u001b[39m\u001b[33;03m\"\"\"\u001b[39;00m\n\u001b[32m   2802\u001b[39m \u001b[33;03m    Check if the indexer is or contains a dict or set, which is no longer allowed.\u001b[39;00m\n\u001b[32m   2803\u001b[39m \u001b[33;03m    \"\"\"\u001b[39;00m\n\u001b[32m   2804\u001b[39m     \u001b[38;5;28;01mif\u001b[39;00m (\n\u001b[32m   2805\u001b[39m         \u001b[38;5;28misinstance\u001b[39m(key, \u001b[38;5;28mset\u001b[39m)\n\u001b[32m   2806\u001b[39m         \u001b[38;5;129;01mor\u001b[39;00m \u001b[38;5;28misinstance\u001b[39m(key, \u001b[38;5;28mtuple\u001b[39m)\n\u001b[32m   2807\u001b[39m         \u001b[38;5;129;01mand\u001b[39;00m \u001b[38;5;28many\u001b[39m(\u001b[38;5;28misinstance\u001b[39m(x, \u001b[38;5;28mset\u001b[39m) \u001b[38;5;28;01mfor\u001b[39;00m x \u001b[38;5;129;01min\u001b[39;00m key)\n\u001b[32m   2808\u001b[39m     ):\n",
      "\u001b[31mKeyboardInterrupt\u001b[39m: "
     ]
    }
   ],
   "source": [
    "# --- Box plot for KNIFE_START_DELAY across multiple categories with dropdown ---\n",
    "import pandas as pd\n",
    "import numpy as np\n",
    "import plotly.graph_objects as go\n",
    "import plotly.express as px\n",
    "\n",
    "# ====== CONFIG ======\n",
    "DATA_PATH = \"C:/Users/egtay/Downloads/Telegram Desktop/Final_Cleaned_Dataset_OPTIC_7.csv\"\n",
    "VALUE_COL = \"KNIFE_START_DELAY\"\n",
    "LATE_COL  = \"Is_Late\"\n",
    "TOP_K     = 10\n",
    "\n",
    "# Fixed y-range and filter bounds\n",
    "Y_MIN, Y_MAX = -1440, 1440\n",
    "\n",
    "CATEGORY_MAP = {\n",
    "    \"Delay_Category\": \"Delay_Category\",\n",
    "    \"LOCATION\": \"LOCATION\",\n",
    "    \"ROOM\": \"ROOM\",\n",
    "    \"EQUIPMENT\": \"__EQUIPMENT_SPLIT__\",\n",
    "    \"EMERGENCY_PRIORITY\": \"EMERGENCY_PRIORITY\",\n",
    "    \"DISCIPLINE\": \"DISCIPLINE\",\n",
    "    \"ANESTHESIA\": \"ANESTHESIA\",\n",
    "    \"ADMISSION_CLASS_TYPE\": \"ADMISSION_CLASS_TYPE\",\n",
    "    \"ADMISSION_WARD\": \"ADMISSION_WARD\",\n",
    "    \"ADMISSION_BED\": \"ADMISSION_BED\",\n",
    "    \"AOH\": \"AOH\",\n",
    "    \"BLOOD\": \"BLOOD\",\n",
    "    \"IMPLANT\": \"__IMPLANT_BIN__\",\n",
    "    \"CANCER_INDICATOR\": \"CANCER_INDICATOR\",\n",
    "    \"TRAUMA_INDICATOR\": \"TRAUMA_INDICATOR\",\n",
    "}\n",
    "\n",
    "EMERGENCY_PRIORITY_ORDER = [\"0\", \"P0\", \"P1\", \"P2A\", \"P2B\", \"P3B\"]\n",
    "\n",
    "# ====== LOAD ======\n",
    "df = pd.read_csv(DATA_PATH)\n",
    "df[VALUE_COL] = pd.to_numeric(df[VALUE_COL], errors=\"coerce\")\n",
    "df = df.dropna(subset=[VALUE_COL]).copy()\n",
    "if LATE_COL not in df.columns:\n",
    "    df[LATE_COL] = 0\n",
    "df[LATE_COL] = pd.to_numeric(df[LATE_COL], errors=\"coerce\").fillna(0).astype(int)\n",
    "\n",
    "# ---- EQUIPMENT preprocessing ----\n",
    "if \"EQUIPMENT\" in df.columns:\n",
    "    eq = (\n",
    "        df[[\"OPERATION_ID\", \"EQUIPMENT\"]]\n",
    "        .assign(EQUIPMENT=lambda d: d[\"EQUIPMENT\"].astype(str).fillna(\"\").str.split(\",\"))\n",
    "        .explode(\"EQUIPMENT\")\n",
    "    )\n",
    "    eq[\"EQUIPMENT\"] = eq[\"EQUIPMENT\"].astype(str).str.strip()\n",
    "    eq.loc[eq[\"EQUIPMENT\"].isin([\"\", \"nan\", \"None\", \"NULL\"]), \"EQUIPMENT\"] = np.nan\n",
    "    eq = eq.dropna(subset=[\"EQUIPMENT\"])\n",
    "    df_eq = df.merge(eq, on=\"OPERATION_ID\", how=\"left\", suffixes=(\"\", \"_x\"))\n",
    "    df_eq[\"__EQUIPMENT_SPLIT__\"] = df_eq[\"EQUIPMENT_x\"]\n",
    "else:\n",
    "    df_eq = df.copy()\n",
    "    df_eq[\"__EQUIPMENT_SPLIT__\"] = np.nan  # will drop as NaN later\n",
    "\n",
    "# ---- IMPLANT preprocessing ----\n",
    "if \"IMPLANT\" in df.columns:\n",
    "    def to_implant_bin(s):\n",
    "        try:\n",
    "            v = float(s)\n",
    "            return \"No implant\" if v == 0 else \"Has implant\"\n",
    "        except:\n",
    "            return \"Has implant\"\n",
    "    df[\"__IMPLANT_BIN__\"] = df[\"IMPLANT\"].astype(str).map(to_implant_bin)\n",
    "else:\n",
    "    df[\"__IMPLANT_BIN__\"] = np.nan\n",
    "\n",
    "def get_category_df(label):\n",
    "    col = CATEGORY_MAP[label]\n",
    "    return (df_eq if col == \"__EQUIPMENT_SPLIT__\" else df).copy(), col\n",
    "\n",
    "def filter_top_levels(working, cat_col, top_k=TOP_K):\n",
    "    w = working.dropna(subset=[cat_col]).copy()\n",
    "    w[cat_col] = w[cat_col].astype(str).str.strip()\n",
    "    counts = w[cat_col].value_counts()\n",
    "    if len(counts) > top_k:\n",
    "        w = w[w[cat_col].isin(counts.iloc[:top_k].index)]\n",
    "    return w\n",
    "\n",
    "def clamp_value_range(frame, col, lo=Y_MIN, hi=Y_MAX):\n",
    "    return frame[(frame[col] >= lo) & (frame[col] <= hi)]\n",
    "\n",
    "fig = go.Figure()\n",
    "buttons, visibility_blocks = [], []\n",
    "trace_offset = 0\n",
    "\n",
    "for label in CATEGORY_MAP.keys():\n",
    "    working, cat_col = get_category_df(label)\n",
    "    if cat_col not in working.columns:\n",
    "        visibility_blocks.append([False]*trace_offset)\n",
    "        continue\n",
    "\n",
    "    # Exclude \"No Delay\" for Delay_Category BEFORE Top-K\n",
    "    if label == \"Delay_Category\":\n",
    "        mask = working[cat_col].astype(str).str.strip().str.lower() != \"no delay\"\n",
    "        working = working[mask]\n",
    "\n",
    "    # Choose Top-K categories (by volume)\n",
    "    sub = filter_top_levels(working, cat_col)\n",
    "    # Filter out-of-range values\n",
    "    sub = clamp_value_range(sub, VALUE_COL, Y_MIN, Y_MAX)\n",
    "\n",
    "    if sub.empty:\n",
    "        visibility_blocks.append([False]*trace_offset)\n",
    "        continue\n",
    "\n",
    "    # Category order\n",
    "    if label == \"EMERGENCY_PRIORITY\":\n",
    "        # Normalize for matching, then keep the desired order subset\n",
    "        present = set(sub[cat_col].astype(str).str.upper().str.strip().unique())\n",
    "        order = [lvl for lvl in EMERGENCY_PRIORITY_ORDER if lvl.upper() in present]\n",
    "    else:\n",
    "        order = sub[cat_col].value_counts().index.tolist()\n",
    "\n",
    "    # Only box plot (no dots)\n",
    "    fig_box = px.box(\n",
    "        sub,\n",
    "        x=cat_col, y=VALUE_COL,\n",
    "        points=False,\n",
    "        category_orders={cat_col: order}\n",
    "    )\n",
    "    for tr in fig_box.data:\n",
    "        fig.add_trace(tr)\n",
    "\n",
    "    n_new = len(fig_box.data)\n",
    "    visibility = [False]*trace_offset + [True]*n_new\n",
    "    visibility_blocks.append(visibility)\n",
    "    trace_offset += n_new\n",
    "\n",
    "total_traces = trace_offset\n",
    "visibility_blocks = [vb + [False]*(total_traces - len(vb)) for vb in visibility_blocks]\n",
    "\n",
    "for label, vb in zip(CATEGORY_MAP.keys(), visibility_blocks):\n",
    "    excl = \" — excluding No Delay\" if label == \"Delay_Category\" else \"\"\n",
    "    buttons.append(dict(\n",
    "        label=label,\n",
    "        method=\"update\",\n",
    "        args=[\n",
    "            {\"visible\": vb},\n",
    "            {\n",
    "                \"title\": f\"KNIFE_START_DELAY — Box Plot by {label} (Top {TOP_K}){excl}\",\n",
    "                \"yaxis\": {\"range\": [Y_MIN, Y_MAX]},\n",
    "            },\n",
    "        ],\n",
    "    ))\n",
    "\n",
    "# Initial state: first label\n",
    "initial_viz = visibility_blocks[0] if visibility_blocks else []\n",
    "for idx, tr in enumerate(fig.data):\n",
    "    tr.visible = initial_viz[idx] if idx < len(initial_viz) else False\n",
    "\n",
    "fig.update_layout(\n",
    "    title=f\"KNIFE_START_DELAY — Box Plot by {list(CATEGORY_MAP.keys())[0]} (Top {TOP_K})\",\n",
    "    yaxis_title=\"KNIFE_START_DELAY (minutes)\",\n",
    "    updatemenus=[dict(\n",
    "        type=\"dropdown\", x=1, xanchor=\"right\", y=1, yanchor=\"top\",\n",
    "        buttons=buttons, showactive=True\n",
    "    )],\n",
    "    margin=dict(l=60, r=30, t=70, b=80),\n",
    ")\n",
    "\n",
    "fig.update_yaxes(range=[Y_MIN, Y_MAX])\n",
    "fig.show()\n"
   ]
  },
  {
   "cell_type": "code",
   "execution_count": 30,
   "id": "bb61a3b9",
   "metadata": {},
   "outputs": [
    {
     "data": {
      "application/vnd.plotly.v1+json": {
       "config": {
        "plotlyServerURL": "https://plot.ly"
       },
       "data": [
        {
         "customdata": [
          [
           "On-time",
           66.7,
           6,
           0
          ],
          [
           "On-time",
           49.1,
           53,
           0
          ],
          [
           "On-time",
           58.2,
           15315,
           6.2
          ],
          [
           "On-time",
           35.7,
           62449,
           25.1
          ],
          [
           "On-time",
           60.6,
           19887,
           8
          ],
          [
           "On-time",
           30,
           22299,
           9
          ],
          [
           "On-time",
           20.6,
           73417,
           29.5
          ],
          [
           "On-time",
           51.7,
           55211,
           22.2
          ],
          [
           "On-time",
           24,
           129,
           0.1
          ]
         ],
         "hovertemplate": "%{x} in %{meta}<br>Status: %{customdata[0]}<br>Count: %{y}<br>Share within %{x}: %{customdata[1]:.1f}% of total in %{x}<br>Total in %{x} as % of ALL in %{meta}: %{customdata[3]:.1f}%<extra></extra>",
         "legendgroup": "On-time",
         "marker": {
          "color": "#9ecae1",
          "pattern": {
           "shape": ""
          }
         },
         "meta": "LOCATION",
         "name": "On-time",
         "orientation": "v",
         "showlegend": true,
         "text": [
          "66.7%",
          "49.1%",
          "58.2%",
          "35.7%",
          "60.6%",
          "30.0%",
          "20.6%",
          "51.7%",
          "24.0%"
         ],
         "textposition": "inside",
         "type": "bar",
         "visible": true,
         "x": [
          "AH Day Surgery Theatre",
          "AH Endoscopy Center",
          "DDI",
          "Endoscopy Center",
          "ICL",
          "Kent Ridge Wing OT",
          "Main Building OT",
          "Medical Center OT",
          "Urology"
         ],
         "xaxis": "x",
         "y": {
          "bdata": "BAAaAMwiGVcZLywa8jpwbx8A",
          "dtype": "i2"
         },
         "yaxis": "y"
        },
        {
         "customdata": [
          [
           "Late",
           33.3,
           6,
           0
          ],
          [
           "Late",
           50.9,
           53,
           0
          ],
          [
           "Late",
           41.8,
           15315,
           6.2
          ],
          [
           "Late",
           64.3,
           62449,
           25.1
          ],
          [
           "Late",
           39.4,
           19887,
           8
          ],
          [
           "Late",
           70,
           22299,
           9
          ],
          [
           "Late",
           79.4,
           73417,
           29.5
          ],
          [
           "Late",
           48.3,
           55211,
           22.2
          ],
          [
           "Late",
           76,
           129,
           0.1
          ]
         ],
         "hovertemplate": "%{x} in %{meta}<br>Status: %{customdata[0]}<br>Count: %{y}<br>Share within %{x}: %{customdata[1]:.1f}% of total in %{x}<br>Total in %{x} as % of ALL in %{meta}: %{customdata[3]:.1f}%<extra></extra>",
         "legendgroup": "Late",
         "marker": {
          "color": "#08519c",
          "pattern": {
           "shape": ""
          }
         },
         "meta": "LOCATION",
         "name": "Late",
         "orientation": "v",
         "showlegend": true,
         "text": [
          "33.3%",
          "50.9%",
          "41.8%",
          "64.3%",
          "39.4%",
          "70.0%",
          "79.4%",
          "48.3%",
          "76.0%"
         ],
         "textposition": "inside",
         "type": "bar",
         "visible": true,
         "x": [
          "AH Day Surgery Theatre",
          "AH Endoscopy Center",
          "DDI",
          "Endoscopy Center",
          "ICL",
          "Kent Ridge Wing OT",
          "Main Building OT",
          "Medical Center OT",
          "Urology"
         ],
         "xaxis": "x",
         "y": {
          "bdata": "AgAAABsAAAAHGQAA2JwAAJYeAADvPAAA1+MAADtoAABiAAAA",
          "dtype": "i4"
         },
         "yaxis": "y"
        },
        {
         "customdata": [
          [
           "On-time",
           32.2,
           9203,
           3.7
          ],
          [
           "On-time",
           53,
           11276,
           4.5
          ],
          [
           "On-time",
           34.5,
           9581,
           3.9
          ],
          [
           "On-time",
           36,
           13173,
           5.3
          ],
          [
           "On-time",
           26,
           9273,
           3.7
          ],
          [
           "On-time",
           12.8,
           9326,
           3.7
          ],
          [
           "On-time",
           11.2,
           8681,
           3.5
          ],
          [
           "On-time",
           69.7,
           7577,
           3
          ],
          [
           "On-time",
           69.4,
           9328,
           3.7
          ],
          [
           "On-time",
           58.9,
           9333,
           3.8
          ]
         ],
         "hovertemplate": "%{x} in %{meta}<br>Status: %{customdata[0]}<br>Count: %{y}<br>Share within %{x}: %{customdata[1]:.1f}% of total in %{x}<br>Total in %{x} as % of ALL in %{meta}: %{customdata[3]:.1f}%<extra></extra>",
         "legendgroup": "On-time",
         "marker": {
          "color": "#9ecae1",
          "pattern": {
           "shape": ""
          }
         },
         "meta": "ROOM",
         "name": "On-time",
         "orientation": "v",
         "showlegend": true,
         "text": [
          "32.2%",
          "53.0%",
          "34.5%",
          "36.0%",
          "26.0%",
          "12.8%",
          "11.2%",
          "69.7%",
          "69.4%",
          "58.9%"
         ],
         "textposition": "inside",
         "type": "bar",
         "visible": false,
         "x": [
          "ENDO1",
          "ENDO2",
          "ENDO3",
          "ENDO4",
          "ENDO6",
          "MBOR08",
          "MBOR09",
          "MCOR04",
          "MCOR05",
          "RoomC"
         ],
         "xaxis": "x",
         "y": {
          "bdata": "jwtXF+kMixJsCawEzwOiFEkZeBU=",
          "dtype": "i2"
         },
         "yaxis": "y"
        },
        {
         "customdata": [
          [
           "Late",
           67.8,
           9203,
           3.7
          ],
          [
           "Late",
           47,
           11276,
           4.5
          ],
          [
           "Late",
           65.5,
           9581,
           3.9
          ],
          [
           "Late",
           64,
           13173,
           5.3
          ],
          [
           "Late",
           74,
           9273,
           3.7
          ],
          [
           "Late",
           87.2,
           9326,
           3.7
          ],
          [
           "Late",
           88.8,
           8681,
           3.5
          ],
          [
           "Late",
           30.3,
           7577,
           3
          ],
          [
           "Late",
           30.6,
           9328,
           3.7
          ],
          [
           "Late",
           41.1,
           9333,
           3.8
          ]
         ],
         "hovertemplate": "%{x} in %{meta}<br>Status: %{customdata[0]}<br>Count: %{y}<br>Share within %{x}: %{customdata[1]:.1f}% of total in %{x}<br>Total in %{x} as % of ALL in %{meta}: %{customdata[3]:.1f}%<extra></extra>",
         "legendgroup": "Late",
         "marker": {
          "color": "#08519c",
          "pattern": {
           "shape": ""
          }
         },
         "meta": "ROOM",
         "name": "Late",
         "orientation": "v",
         "showlegend": true,
         "text": [
          "67.8%",
          "47.0%",
          "65.5%",
          "64.0%",
          "74.0%",
          "87.2%",
          "88.8%",
          "30.3%",
          "30.6%",
          "41.1%"
         ],
         "textposition": "inside",
         "type": "bar",
         "visible": false,
         "x": [
          "ENDO1",
          "ENDO2",
          "ENDO3",
          "ENDO4",
          "ENDO6",
          "MBOR08",
          "MBOR09",
          "MCOR04",
          "MCOR05",
          "RoomC"
         ],
         "xaxis": "x",
         "y": {
          "bdata": "ZBi1FIQY6iDNGsIfGh73CCcL/Q4=",
          "dtype": "i2"
         },
         "yaxis": "y"
        },
        {
         "customdata": [
          [
           "On-time",
           18,
           311,
           0.1
          ],
          [
           "On-time",
           13,
           200,
           0.1
          ],
          [
           "On-time",
           15.9,
           740,
           0.3
          ],
          [
           "On-time",
           20.9,
           268,
           0.1
          ],
          [
           "On-time",
           30.4,
           13118,
           5.3
          ],
          [
           "On-time",
           6.8,
           488,
           0.2
          ],
          [
           "On-time",
           10.8,
           167,
           0.1
          ],
          [
           "On-time",
           9.6,
           157,
           0.1
          ],
          [
           "On-time",
           25.9,
           286,
           0.1
          ],
          [
           "On-time",
           29.3,
           2652,
           1.1
          ]
         ],
         "hovertemplate": "%{x} in %{meta}<br>Status: %{customdata[0]}<br>Count: %{y}<br>Share within %{x}: %{customdata[1]:.1f}% of total in %{x}<br>Total in %{x} as % of ALL in %{meta}: %{customdata[3]:.1f}%<extra></extra>",
         "legendgroup": "On-time",
         "marker": {
          "color": "#9ecae1",
          "pattern": {
           "shape": ""
          }
         },
         "meta": "EQUIPMENT",
         "name": "On-time",
         "orientation": "v",
         "showlegend": true,
         "text": [
          "18.0%",
          "13.0%",
          "15.9%",
          "20.9%",
          "30.4%",
          "6.8%",
          "10.8%",
          "9.6%",
          "25.9%",
          "29.3%"
         ],
         "textposition": "inside",
         "type": "bar",
         "visible": false,
         "x": [
          "amsco table; image intensifier",
          "amsco table; image intensifier; microscope",
          "da vinci robotics",
          "hand microscope",
          "image intensifier",
          "image intensifier; jackson table",
          "image intensifier; microscope",
          "image intensifier; traction table",
          "microscope",
          "mini ii"
         ],
         "xaxis": "x",
         "y": {
          "bdata": "OAAaAHYAOACWDyEAEgAPAEoACQM=",
          "dtype": "i2"
         },
         "yaxis": "y"
        },
        {
         "customdata": [
          [
           "Late",
           82,
           311,
           0.1
          ],
          [
           "Late",
           87,
           200,
           0.1
          ],
          [
           "Late",
           84.1,
           740,
           0.3
          ],
          [
           "Late",
           79.1,
           268,
           0.1
          ],
          [
           "Late",
           69.6,
           13118,
           5.3
          ],
          [
           "Late",
           93.2,
           488,
           0.2
          ],
          [
           "Late",
           89.2,
           167,
           0.1
          ],
          [
           "Late",
           90.4,
           157,
           0.1
          ],
          [
           "Late",
           74.1,
           286,
           0.1
          ],
          [
           "Late",
           70.7,
           2652,
           1.1
          ]
         ],
         "hovertemplate": "%{x} in %{meta}<br>Status: %{customdata[0]}<br>Count: %{y}<br>Share within %{x}: %{customdata[1]:.1f}% of total in %{x}<br>Total in %{x} as % of ALL in %{meta}: %{customdata[3]:.1f}%<extra></extra>",
         "legendgroup": "Late",
         "marker": {
          "color": "#08519c",
          "pattern": {
           "shape": ""
          }
         },
         "meta": "EQUIPMENT",
         "name": "Late",
         "orientation": "v",
         "showlegend": true,
         "text": [
          "82.0%",
          "87.0%",
          "84.1%",
          "79.1%",
          "69.6%",
          "93.2%",
          "89.2%",
          "90.4%",
          "74.1%",
          "70.7%"
         ],
         "textposition": "inside",
         "type": "bar",
         "visible": false,
         "x": [
          "amsco table; image intensifier",
          "amsco table; image intensifier; microscope",
          "da vinci robotics",
          "hand microscope",
          "image intensifier",
          "image intensifier; jackson table",
          "image intensifier; microscope",
          "image intensifier; traction table",
          "microscope",
          "mini ii"
         ],
         "xaxis": "x",
         "y": {
          "bdata": "/wCuAG4C1ACoI8cBlQCOANQAUwc=",
          "dtype": "i2"
         },
         "yaxis": "y"
        },
        {
         "customdata": [
          [
           "On-time",
           27.5,
           2087,
           0.8
          ],
          [
           "On-time",
           22.2,
           8291,
           3.3
          ],
          [
           "On-time",
           12.2,
           2085,
           0.8
          ],
          [
           "On-time",
           16.4,
           21120,
           8.5
          ],
          [
           "On-time",
           20.6,
           339,
           0.1
          ],
          [
           "On-time",
           27.7,
           974,
           0.4
          ]
         ],
         "hovertemplate": "%{x} in %{meta}<br>Status: %{customdata[0]}<br>Count: %{y}<br>Share within %{x}: %{customdata[1]:.1f}% of total in %{x}<br>Total in %{x} as % of ALL in %{meta}: %{customdata[3]:.1f}%<extra></extra>",
         "legendgroup": "On-time",
         "marker": {
          "color": "#9ecae1",
          "pattern": {
           "shape": ""
          }
         },
         "meta": "EMERGENCY_PRIORITY",
         "name": "On-time",
         "orientation": "v",
         "showlegend": true,
         "text": [
          "27.5%",
          "22.2%",
          "12.2%",
          "16.4%",
          "20.6%",
          "27.7%"
         ],
         "textposition": "inside",
         "type": "bar",
         "visible": false,
         "x": [
          "P0",
          "P1",
          "P2A",
          "P2B",
          "P3A",
          "P3B"
         ],
         "xaxis": "x",
         "y": {
          "bdata": "PQI0B/8AgA1GAA4B",
          "dtype": "i2"
         },
         "yaxis": "y"
        },
        {
         "customdata": [
          [
           "Late",
           72.5,
           2087,
           0.8
          ],
          [
           "Late",
           77.8,
           8291,
           3.3
          ],
          [
           "Late",
           87.8,
           2085,
           0.8
          ],
          [
           "Late",
           83.6,
           21120,
           8.5
          ],
          [
           "Late",
           79.4,
           339,
           0.1
          ],
          [
           "Late",
           72.3,
           974,
           0.4
          ]
         ],
         "hovertemplate": "%{x} in %{meta}<br>Status: %{customdata[0]}<br>Count: %{y}<br>Share within %{x}: %{customdata[1]:.1f}% of total in %{x}<br>Total in %{x} as % of ALL in %{meta}: %{customdata[3]:.1f}%<extra></extra>",
         "legendgroup": "Late",
         "marker": {
          "color": "#08519c",
          "pattern": {
           "shape": ""
          }
         },
         "meta": "EMERGENCY_PRIORITY",
         "name": "Late",
         "orientation": "v",
         "showlegend": true,
         "text": [
          "72.5%",
          "77.8%",
          "87.8%",
          "83.6%",
          "79.4%",
          "72.3%"
         ],
         "textposition": "inside",
         "type": "bar",
         "visible": false,
         "x": [
          "P0",
          "P1",
          "P2A",
          "P2B",
          "P3A",
          "P3B"
         ],
         "xaxis": "x",
         "y": {
          "bdata": "6gUvGSYHAEUNAcAC",
          "dtype": "i2"
         },
         "yaxis": "y"
        },
        {
         "customdata": [
          [
           "On-time",
           60.3,
           19204,
           7.7
          ],
          [
           "On-time",
           24,
           14102,
           5.7
          ],
          [
           "On-time",
           35.7,
           35531,
           14.3
          ],
          [
           "On-time",
           29,
           11264,
           4.5
          ],
          [
           "On-time",
           28.5,
           23873,
           9.6
          ],
          [
           "On-time",
           69,
           21727,
           8.7
          ],
          [
           "On-time",
           20.9,
           22751,
           9.1
          ],
          [
           "On-time",
           32.5,
           8899,
           3.6
          ],
          [
           "On-time",
           58.2,
           15320,
           6.2
          ],
          [
           "On-time",
           30.2,
           55004,
           22.1
          ]
         ],
         "hovertemplate": "%{x} in %{meta}<br>Status: %{customdata[0]}<br>Count: %{y}<br>Share within %{x}: %{customdata[1]:.1f}% of total in %{x}<br>Total in %{x} as % of ALL in %{meta}: %{customdata[3]:.1f}%<extra></extra>",
         "legendgroup": "On-time",
         "marker": {
          "color": "#9ecae1",
          "pattern": {
           "shape": ""
          }
         },
         "meta": "DISCIPLINE",
         "name": "On-time",
         "orientation": "v",
         "showlegend": true,
         "text": [
          "60.3%",
          "24.0%",
          "35.7%",
          "29.0%",
          "28.5%",
          "69.0%",
          "20.9%",
          "32.5%",
          "58.2%",
          "30.2%"
         ],
         "textposition": "inside",
         "type": "bar",
         "visible": false,
         "x": [
          "Cardiac",
          "CardiacThoracic&Vascular Surg",
          "Gastroenterology & Hepatology",
          "Hand&Reconstructive Microsurg",
          "Obstetrics & Gynaecology",
          "Ophthalmology",
          "Orthopaedic Surgery",
          "Otolaryngology&Head&Neck Surg",
          "Radiology",
          "Surgery"
         ],
         "xaxis": "x",
         "y": {
          "bdata": "Qy06DYgxvQyVGpg6mhJQC80i8kA=",
          "dtype": "i2"
         },
         "yaxis": "y"
        },
        {
         "customdata": [
          [
           "Late",
           39.7,
           19204,
           7.7
          ],
          [
           "Late",
           76,
           14102,
           5.7
          ],
          [
           "Late",
           64.3,
           35531,
           14.3
          ],
          [
           "Late",
           71,
           11264,
           4.5
          ],
          [
           "Late",
           71.5,
           23873,
           9.6
          ],
          [
           "Late",
           31,
           21727,
           8.7
          ],
          [
           "Late",
           79.1,
           22751,
           9.1
          ],
          [
           "Late",
           67.5,
           8899,
           3.6
          ],
          [
           "Late",
           41.8,
           15320,
           6.2
          ],
          [
           "Late",
           69.8,
           55004,
           22.1
          ]
         ],
         "hovertemplate": "%{x} in %{meta}<br>Status: %{customdata[0]}<br>Count: %{y}<br>Share within %{x}: %{customdata[1]:.1f}% of total in %{x}<br>Total in %{x} as % of ALL in %{meta}: %{customdata[3]:.1f}%<extra></extra>",
         "legendgroup": "Late",
         "marker": {
          "color": "#08519c",
          "pattern": {
           "shape": ""
          }
         },
         "meta": "DISCIPLINE",
         "name": "Late",
         "orientation": "v",
         "showlegend": true,
         "text": [
          "39.7%",
          "76.0%",
          "64.3%",
          "71.0%",
          "71.5%",
          "31.0%",
          "79.1%",
          "67.5%",
          "41.8%",
          "69.8%"
         ],
         "textposition": "inside",
         "type": "bar",
         "visible": false,
         "x": [
          "Cardiac",
          "CardiacThoracic&Vascular Surg",
          "Gastroenterology & Hepatology",
          "Hand&Reconstructive Microsurg",
          "Obstetrics & Gynaecology",
          "Ophthalmology",
          "Orthopaedic Surgery",
          "Otolaryngology&Head&Neck Surg",
          "Radiology",
          "Surgery"
         ],
         "xaxis": "x",
         "y": {
          "bdata": "wR0AANwpAABDWQAAQx8AAKxCAABHGgAARUYAAHMXAAALGQAA6pUAAA==",
          "dtype": "i4"
         },
         "yaxis": "y"
        },
        {
         "customdata": [
          [
           "On-time",
           26.4,
           103645,
           41.7
          ],
          [
           "On-time",
           58.2,
           52258,
           21
          ],
          [
           "On-time",
           39.2,
           51,
           0
          ],
          [
           "On-time",
           30.2,
           1888,
           0.8
          ],
          [
           "On-time",
           55,
           19794,
           8
          ],
          [
           "On-time",
           22.2,
           8372,
           3.4
          ],
          [
           "On-time",
           36,
           62758,
           25.2
          ]
         ],
         "hovertemplate": "%{x} in %{meta}<br>Status: %{customdata[0]}<br>Count: %{y}<br>Share within %{x}: %{customdata[1]:.1f}% of total in %{x}<br>Total in %{x} as % of ALL in %{meta}: %{customdata[3]:.1f}%<extra></extra>",
         "legendgroup": "On-time",
         "marker": {
          "color": "#9ecae1",
          "pattern": {
           "shape": ""
          }
         },
         "meta": "ANESTHESIA",
         "name": "On-time",
         "orientation": "v",
         "showlegend": true,
         "text": [
          "26.4%",
          "58.2%",
          "39.2%",
          "30.2%",
          "55.0%",
          "22.2%",
          "36.0%"
         ],
         "textposition": "inside",
         "type": "bar",
         "visible": false,
         "x": [
          "GA",
          "LA",
          "LA (Standby)",
          "Monitored Anaesthesia Care",
          "NIL",
          "RA",
          "Sedation"
         ],
         "xaxis": "x",
         "y": {
          "bdata": "wmrFdhQAOgKCKkEHMVg=",
          "dtype": "i2"
         },
         "yaxis": "y"
        },
        {
         "customdata": [
          [
           "Late",
           73.6,
           103645,
           41.7
          ],
          [
           "Late",
           41.8,
           52258,
           21
          ],
          [
           "Late",
           60.8,
           51,
           0
          ],
          [
           "Late",
           69.8,
           1888,
           0.8
          ],
          [
           "Late",
           45,
           19794,
           8
          ],
          [
           "Late",
           77.8,
           8372,
           3.4
          ],
          [
           "Late",
           64,
           62758,
           25.2
          ]
         ],
         "hovertemplate": "%{x} in %{meta}<br>Status: %{customdata[0]}<br>Count: %{y}<br>Share within %{x}: %{customdata[1]:.1f}% of total in %{x}<br>Total in %{x} as % of ALL in %{meta}: %{customdata[3]:.1f}%<extra></extra>",
         "legendgroup": "Late",
         "marker": {
          "color": "#08519c",
          "pattern": {
           "shape": ""
          }
         },
         "meta": "ANESTHESIA",
         "name": "Late",
         "orientation": "v",
         "showlegend": true,
         "text": [
          "73.6%",
          "41.8%",
          "60.8%",
          "69.8%",
          "45.0%",
          "77.8%",
          "64.0%"
         ],
         "textposition": "inside",
         "type": "bar",
         "visible": false,
         "x": [
          "GA",
          "LA",
          "LA (Standby)",
          "Monitored Anaesthesia Care",
          "NIL",
          "RA",
          "Sedation"
         ],
         "xaxis": "x",
         "y": {
          "bdata": "GyoBAF1VAAAfAAAAJgUAANAiAABzGQAA9ZwAAA==",
          "dtype": "i4"
         },
         "yaxis": "y"
        },
        {
         "customdata": [
          [
           "On-time",
           26.1,
           11689,
           4.7
          ],
          [
           "On-time",
           28.6,
           4617,
           1.9
          ],
          [
           "On-time",
           34.2,
           38146,
           15.3
          ],
          [
           "On-time",
           36.7,
           48964,
           19.7
          ],
          [
           "On-time",
           29.1,
           10708,
           4.3
          ],
          [
           "On-time",
           54.9,
           7784,
           3.1
          ],
          [
           "On-time",
           40.9,
           17959,
           7.2
          ],
          [
           "On-time",
           34.1,
           4498,
           1.8
          ],
          [
           "On-time",
           43.5,
           75849,
           30.5
          ],
          [
           "On-time",
           40,
           4981,
           2
          ]
         ],
         "hovertemplate": "%{x} in %{meta}<br>Status: %{customdata[0]}<br>Count: %{y}<br>Share within %{x}: %{customdata[1]:.1f}% of total in %{x}<br>Total in %{x} as % of ALL in %{meta}: %{customdata[3]:.1f}%<extra></extra>",
         "legendgroup": "On-time",
         "marker": {
          "color": "#9ecae1",
          "pattern": {
           "shape": ""
          }
         },
         "meta": "ADMISSION_CLASS_TYPE",
         "name": "On-time",
         "orientation": "v",
         "showlegend": true,
         "text": [
          "26.1%",
          "28.6%",
          "34.2%",
          "36.7%",
          "29.1%",
          "54.9%",
          "40.9%",
          "34.1%",
          "43.5%",
          "40.0%"
         ],
         "textposition": "inside",
         "type": "bar",
         "visible": false,
         "x": [
          "Class A",
          "Class B1",
          "Class B2",
          "Class C",
          "Non Resident",
          "Not Admitted",
          "Private",
          "Private for RF",
          "Subsidised",
          "Subsidised PR"
         ],
         "xaxis": "x",
         "y": {
          "bdata": "7wsAACgFAAD8MgAAJ0YAACkMAACzEAAAsRwAAP8FAAADgQAAxgcAAA==",
          "dtype": "i4"
         },
         "yaxis": "y"
        },
        {
         "customdata": [
          [
           "Late",
           73.9,
           11689,
           4.7
          ],
          [
           "Late",
           71.4,
           4617,
           1.9
          ],
          [
           "Late",
           65.8,
           38146,
           15.3
          ],
          [
           "Late",
           63.3,
           48964,
           19.7
          ],
          [
           "Late",
           70.9,
           10708,
           4.3
          ],
          [
           "Late",
           45.1,
           7784,
           3.1
          ],
          [
           "Late",
           59.1,
           17959,
           7.2
          ],
          [
           "Late",
           65.9,
           4498,
           1.8
          ],
          [
           "Late",
           56.5,
           75849,
           30.5
          ],
          [
           "Late",
           60,
           4981,
           2
          ]
         ],
         "hovertemplate": "%{x} in %{meta}<br>Status: %{customdata[0]}<br>Count: %{y}<br>Share within %{x}: %{customdata[1]:.1f}% of total in %{x}<br>Total in %{x} as % of ALL in %{meta}: %{customdata[3]:.1f}%<extra></extra>",
         "legendgroup": "Late",
         "marker": {
          "color": "#08519c",
          "pattern": {
           "shape": ""
          }
         },
         "meta": "ADMISSION_CLASS_TYPE",
         "name": "Late",
         "orientation": "v",
         "showlegend": true,
         "text": [
          "73.9%",
          "71.4%",
          "65.8%",
          "63.3%",
          "70.9%",
          "45.1%",
          "59.1%",
          "65.9%",
          "56.5%",
          "60.0%"
         ],
         "textposition": "inside",
         "type": "bar",
         "visible": false,
         "x": [
          "Class A",
          "Class B1",
          "Class B2",
          "Class C",
          "Non Resident",
          "Not Admitted",
          "Private",
          "Private for RF",
          "Subsidised",
          "Subsidised PR"
         ],
         "xaxis": "x",
         "y": {
          "bdata": "uiEAAOEMAAAGYgAAHXkAAKsdAAC1DQAAdikAAJMLAABGpwAArwsAAA==",
          "dtype": "i4"
         },
         "yaxis": "y"
        },
        {
         "customdata": [
          [
           "On-time",
           29.6,
           45002,
           18.1
          ],
          [
           "On-time",
           59.1,
           5723,
           2.3
          ],
          [
           "On-time",
           31.9,
           30164,
           12.1
          ],
          [
           "On-time",
           31.3,
           6419,
           2.6
          ],
          [
           "On-time",
           26.8,
           7515,
           3
          ],
          [
           "On-time",
           23.2,
           7103,
           2.9
          ],
          [
           "On-time",
           43.2,
           9972,
           4
          ],
          [
           "On-time",
           39.2,
           4998,
           2
          ],
          [
           "On-time",
           51.3,
           53806,
           21.6
          ],
          [
           "On-time",
           51,
           9134,
           3.7
          ]
         ],
         "hovertemplate": "%{x} in %{meta}<br>Status: %{customdata[0]}<br>Count: %{y}<br>Share within %{x}: %{customdata[1]:.1f}% of total in %{x}<br>Total in %{x} as % of ALL in %{meta}: %{customdata[3]:.1f}%<extra></extra>",
         "legendgroup": "On-time",
         "marker": {
          "color": "#9ecae1",
          "pattern": {
           "shape": ""
          }
         },
         "meta": "ADMISSION_WARD",
         "name": "On-time",
         "orientation": "v",
         "showlegend": true,
         "text": [
          "29.6%",
          "59.1%",
          "31.9%",
          "31.3%",
          "26.8%",
          "23.2%",
          "43.2%",
          "39.2%",
          "51.3%",
          "51.0%"
         ],
         "textposition": "inside",
         "type": "bar",
         "visible": false,
         "x": [
          "NCKED",
          "NW28",
          "NW2A",
          "NW41",
          "NW43",
          "NW51",
          "NW63",
          "NW64",
          "NWASW",
          "Not Admitted"
         ],
         "xaxis": "x",
         "y": {
          "bdata": "HDQ4DZ0l1wfbB28G0RClB8ZrNhI=",
          "dtype": "i2"
         },
         "yaxis": "y"
        },
        {
         "customdata": [
          [
           "Late",
           70.4,
           45002,
           18.1
          ],
          [
           "Late",
           40.9,
           5723,
           2.3
          ],
          [
           "Late",
           68.1,
           30164,
           12.1
          ],
          [
           "Late",
           68.7,
           6419,
           2.6
          ],
          [
           "Late",
           73.2,
           7515,
           3
          ],
          [
           "Late",
           76.8,
           7103,
           2.9
          ],
          [
           "Late",
           56.8,
           9972,
           4
          ],
          [
           "Late",
           60.8,
           4998,
           2
          ],
          [
           "Late",
           48.7,
           53806,
           21.6
          ],
          [
           "Late",
           49,
           9134,
           3.7
          ]
         ],
         "hovertemplate": "%{x} in %{meta}<br>Status: %{customdata[0]}<br>Count: %{y}<br>Share within %{x}: %{customdata[1]:.1f}% of total in %{x}<br>Total in %{x} as % of ALL in %{meta}: %{customdata[3]:.1f}%<extra></extra>",
         "legendgroup": "Late",
         "marker": {
          "color": "#08519c",
          "pattern": {
           "shape": ""
          }
         },
         "meta": "ADMISSION_WARD",
         "name": "Late",
         "orientation": "v",
         "showlegend": true,
         "text": [
          "70.4%",
          "40.9%",
          "68.1%",
          "68.7%",
          "73.2%",
          "76.8%",
          "56.8%",
          "60.8%",
          "48.7%",
          "49.0%"
         ],
         "textposition": "inside",
         "type": "bar",
         "visible": false,
         "x": [
          "NCKED",
          "NW28",
          "NW2A",
          "NW41",
          "NW43",
          "NW51",
          "NW63",
          "NW64",
          "NWASW",
          "Not Admitted"
         ],
         "xaxis": "x",
         "y": {
          "bdata": "rnsjCTdQPBGAFVAVIxbhC2hmeBE=",
          "dtype": "i2"
         },
         "yaxis": "y"
        },
        {
         "customdata": [
          [
           "On-time",
           65.4,
           1620,
           0.7
          ],
          [
           "On-time",
           38.8,
           1355,
           0.5
          ],
          [
           "On-time",
           43.7,
           1339,
           0.5
          ],
          [
           "On-time",
           37.7,
           1375,
           0.6
          ],
          [
           "On-time",
           40.7,
           1348,
           0.5
          ],
          [
           "On-time",
           52,
           1424,
           0.6
          ],
          [
           "On-time",
           55.1,
           1318,
           0.5
          ],
          [
           "On-time",
           49.5,
           7067,
           2.8
          ],
          [
           "On-time",
           74.8,
           9195,
           3.7
          ],
          [
           "On-time",
           18.4,
           2695,
           1.1
          ]
         ],
         "hovertemplate": "%{x} in %{meta}<br>Status: %{customdata[0]}<br>Count: %{y}<br>Share within %{x}: %{customdata[1]:.1f}% of total in %{x}<br>Total in %{x} as % of ALL in %{meta}: %{customdata[3]:.1f}%<extra></extra>",
         "legendgroup": "On-time",
         "marker": {
          "color": "#9ecae1",
          "pattern": {
           "shape": ""
          }
         },
         "meta": "ADMISSION_BED",
         "name": "On-time",
         "orientation": "v",
         "showlegend": true,
         "text": [
          "65.4%",
          "38.8%",
          "43.7%",
          "37.7%",
          "40.7%",
          "52.0%",
          "55.1%",
          "49.5%",
          "74.8%",
          "18.4%"
         ],
         "textposition": "inside",
         "type": "bar",
         "visible": false,
         "x": [
          "NASWB01",
          "NASWB19",
          "NASWB20",
          "NASWB21",
          "NASWB22",
          "NASWB25",
          "NASWB26",
          "NASWC31",
          "NASWC82",
          "NEDS001"
         ],
         "xaxis": "x",
         "y": {
          "bdata": "IwQOAkkCBwIkAuQC1gKsDdoa8QE=",
          "dtype": "i2"
         },
         "yaxis": "y"
        },
        {
         "customdata": [
          [
           "Late",
           34.6,
           1620,
           0.7
          ],
          [
           "Late",
           61.2,
           1355,
           0.5
          ],
          [
           "Late",
           56.3,
           1339,
           0.5
          ],
          [
           "Late",
           62.3,
           1375,
           0.6
          ],
          [
           "Late",
           59.3,
           1348,
           0.5
          ],
          [
           "Late",
           48,
           1424,
           0.6
          ],
          [
           "Late",
           44.9,
           1318,
           0.5
          ],
          [
           "Late",
           50.5,
           7067,
           2.8
          ],
          [
           "Late",
           25.2,
           9195,
           3.7
          ],
          [
           "Late",
           81.6,
           2695,
           1.1
          ]
         ],
         "hovertemplate": "%{x} in %{meta}<br>Status: %{customdata[0]}<br>Count: %{y}<br>Share within %{x}: %{customdata[1]:.1f}% of total in %{x}<br>Total in %{x} as % of ALL in %{meta}: %{customdata[3]:.1f}%<extra></extra>",
         "legendgroup": "Late",
         "marker": {
          "color": "#08519c",
          "pattern": {
           "shape": ""
          }
         },
         "meta": "ADMISSION_BED",
         "name": "Late",
         "orientation": "v",
         "showlegend": true,
         "text": [
          "34.6%",
          "61.2%",
          "56.3%",
          "62.3%",
          "59.3%",
          "48.0%",
          "44.9%",
          "50.5%",
          "25.2%",
          "81.6%"
         ],
         "textposition": "inside",
         "type": "bar",
         "visible": false,
         "x": [
          "NASWB01",
          "NASWB19",
          "NASWB20",
          "NASWB21",
          "NASWB22",
          "NASWB25",
          "NASWB26",
          "NASWC31",
          "NASWC82",
          "NEDS001"
         ],
         "xaxis": "x",
         "y": {
          "bdata": "MQI9A/ICWAMgA6wCUALvDREJlgg=",
          "dtype": "i2"
         },
         "yaxis": "y"
        },
        {
         "customdata": [
          [
           "On-time",
           37.6,
           248679,
           100
          ],
          [
           "On-time",
           29.9,
           87,
           0
          ]
         ],
         "hovertemplate": "%{x} in %{meta}<br>Status: %{customdata[0]}<br>Count: %{y}<br>Share within %{x}: %{customdata[1]:.1f}% of total in %{x}<br>Total in %{x} as % of ALL in %{meta}: %{customdata[3]:.1f}%<extra></extra>",
         "legendgroup": "On-time",
         "marker": {
          "color": "#9ecae1",
          "pattern": {
           "shape": ""
          }
         },
         "meta": "AOH",
         "name": "On-time",
         "orientation": "v",
         "showlegend": true,
         "text": [
          "37.6%",
          "29.9%"
         ],
         "textposition": "inside",
         "type": "bar",
         "visible": false,
         "x": [
          "False",
          "True"
         ],
         "xaxis": "x",
         "y": {
          "bdata": "r20BABoAAAA=",
          "dtype": "i4"
         },
         "yaxis": "y"
        },
        {
         "customdata": [
          [
           "Late",
           62.4,
           248679,
           100
          ],
          [
           "Late",
           70.1,
           87,
           0
          ]
         ],
         "hovertemplate": "%{x} in %{meta}<br>Status: %{customdata[0]}<br>Count: %{y}<br>Share within %{x}: %{customdata[1]:.1f}% of total in %{x}<br>Total in %{x} as % of ALL in %{meta}: %{customdata[3]:.1f}%<extra></extra>",
         "legendgroup": "Late",
         "marker": {
          "color": "#08519c",
          "pattern": {
           "shape": ""
          }
         },
         "meta": "AOH",
         "name": "Late",
         "orientation": "v",
         "showlegend": true,
         "text": [
          "62.4%",
          "70.1%"
         ],
         "textposition": "inside",
         "type": "bar",
         "visible": false,
         "x": [
          "False",
          "True"
         ],
         "xaxis": "x",
         "y": {
          "bdata": "uF0CAD0AAAA=",
          "dtype": "i4"
         },
         "yaxis": "y"
        },
        {
         "customdata": [
          [
           "On-time",
           20,
           5,
           0
          ],
          [
           "On-time",
           58.2,
           13404,
           5.4
          ],
          [
           "On-time",
           0,
           1,
           0
          ],
          [
           "On-time",
           20,
           5,
           0
          ],
          [
           "On-time",
           17.8,
           4520,
           1.8
          ],
          [
           "On-time",
           21.4,
           14,
           0
          ]
         ],
         "hovertemplate": "%{x} in %{meta}<br>Status: %{customdata[0]}<br>Count: %{y}<br>Share within %{x}: %{customdata[1]:.1f}% of total in %{x}<br>Total in %{x} as % of ALL in %{meta}: %{customdata[3]:.1f}%<extra></extra>",
         "legendgroup": "On-time",
         "marker": {
          "color": "#9ecae1",
          "pattern": {
           "shape": ""
          }
         },
         "meta": "BLOOD",
         "name": "On-time",
         "orientation": "v",
         "showlegend": true,
         "text": [
          "20.0%",
          "58.2%",
          "0.0%",
          "20.0%",
          "17.8%",
          "21.4%"
         ],
         "textposition": "inside",
         "type": "bar",
         "visible": false,
         "x": [
          "Blood - 1 pint",
          "Blood - 2 pint",
          "Blood - 3 pint",
          "Blood - 4 pint",
          "GXM",
          "TXS"
         ],
         "xaxis": "x",
         "y": {
          "bdata": "AQB+HgAAAQAlAwMA",
          "dtype": "i2"
         },
         "yaxis": "y"
        },
        {
         "customdata": [
          [
           "Late",
           80,
           5,
           0
          ],
          [
           "Late",
           41.8,
           13404,
           5.4
          ],
          [
           "Late",
           100,
           1,
           0
          ],
          [
           "Late",
           80,
           5,
           0
          ],
          [
           "Late",
           82.2,
           4520,
           1.8
          ],
          [
           "Late",
           78.6,
           14,
           0
          ]
         ],
         "hovertemplate": "%{x} in %{meta}<br>Status: %{customdata[0]}<br>Count: %{y}<br>Share within %{x}: %{customdata[1]:.1f}% of total in %{x}<br>Total in %{x} as % of ALL in %{meta}: %{customdata[3]:.1f}%<extra></extra>",
         "legendgroup": "Late",
         "marker": {
          "color": "#08519c",
          "pattern": {
           "shape": ""
          }
         },
         "meta": "BLOOD",
         "name": "Late",
         "orientation": "v",
         "showlegend": true,
         "text": [
          "80.0%",
          "41.8%",
          "100.0%",
          "80.0%",
          "82.2%",
          "78.6%"
         ],
         "textposition": "inside",
         "type": "bar",
         "visible": false,
         "x": [
          "Blood - 1 pint",
          "Blood - 2 pint",
          "Blood - 3 pint",
          "Blood - 4 pint",
          "GXM",
          "TXS"
         ],
         "xaxis": "x",
         "y": {
          "bdata": "BADeFQEABACDDgsA",
          "dtype": "i2"
         },
         "yaxis": "y"
        },
        {
         "customdata": [
          [
           "On-time",
           26,
           22469,
           9
          ],
          [
           "On-time",
           38.8,
           226297,
           91
          ]
         ],
         "hovertemplate": "%{x} in %{meta}<br>Status: %{customdata[0]}<br>Count: %{y}<br>Share within %{x}: %{customdata[1]:.1f}% of total in %{x}<br>Total in %{x} as % of ALL in %{meta}: %{customdata[3]:.1f}%<extra></extra>",
         "legendgroup": "On-time",
         "marker": {
          "color": "#9ecae1",
          "pattern": {
           "shape": ""
          }
         },
         "meta": "IMPLANT",
         "name": "On-time",
         "orientation": "v",
         "showlegend": true,
         "text": [
          "26.0%",
          "38.8%"
         ],
         "textposition": "inside",
         "type": "bar",
         "visible": false,
         "x": [
          "Has implant",
          "No implant"
         ],
         "xaxis": "x",
         "y": {
          "bdata": "2xYAAO5WAQA=",
          "dtype": "i4"
         },
         "yaxis": "y"
        },
        {
         "customdata": [
          [
           "Late",
           74,
           22469,
           9
          ],
          [
           "Late",
           61.2,
           226297,
           91
          ]
         ],
         "hovertemplate": "%{x} in %{meta}<br>Status: %{customdata[0]}<br>Count: %{y}<br>Share within %{x}: %{customdata[1]:.1f}% of total in %{x}<br>Total in %{x} as % of ALL in %{meta}: %{customdata[3]:.1f}%<extra></extra>",
         "legendgroup": "Late",
         "marker": {
          "color": "#08519c",
          "pattern": {
           "shape": ""
          }
         },
         "meta": "IMPLANT",
         "name": "Late",
         "orientation": "v",
         "showlegend": true,
         "text": [
          "74.0%",
          "61.2%"
         ],
         "textposition": "inside",
         "type": "bar",
         "visible": false,
         "x": [
          "Has implant",
          "No implant"
         ],
         "xaxis": "x",
         "y": {
          "bdata": "6kAAAAsdAgA=",
          "dtype": "i4"
         },
         "yaxis": "y"
        },
        {
         "customdata": [
          [
           "On-time",
           38,
           243184,
           97.8
          ],
          [
           "On-time",
           21.1,
           5582,
           2.2
          ]
         ],
         "hovertemplate": "%{x} in %{meta}<br>Status: %{customdata[0]}<br>Count: %{y}<br>Share within %{x}: %{customdata[1]:.1f}% of total in %{x}<br>Total in %{x} as % of ALL in %{meta}: %{customdata[3]:.1f}%<extra></extra>",
         "legendgroup": "On-time",
         "marker": {
          "color": "#9ecae1",
          "pattern": {
           "shape": ""
          }
         },
         "meta": "CANCER_INDICATOR",
         "name": "On-time",
         "orientation": "v",
         "showlegend": true,
         "text": [
          "38.0%",
          "21.1%"
         ],
         "textposition": "inside",
         "type": "bar",
         "visible": false,
         "x": [
          "False",
          "True"
         ],
         "xaxis": "x",
         "y": {
          "bdata": "L2kBAJoEAAA=",
          "dtype": "i4"
         },
         "yaxis": "y"
        },
        {
         "customdata": [
          [
           "Late",
           62,
           243184,
           97.8
          ],
          [
           "Late",
           78.9,
           5582,
           2.2
          ]
         ],
         "hovertemplate": "%{x} in %{meta}<br>Status: %{customdata[0]}<br>Count: %{y}<br>Share within %{x}: %{customdata[1]:.1f}% of total in %{x}<br>Total in %{x} as % of ALL in %{meta}: %{customdata[3]:.1f}%<extra></extra>",
         "legendgroup": "Late",
         "marker": {
          "color": "#08519c",
          "pattern": {
           "shape": ""
          }
         },
         "meta": "CANCER_INDICATOR",
         "name": "Late",
         "orientation": "v",
         "showlegend": true,
         "text": [
          "62.0%",
          "78.9%"
         ],
         "textposition": "inside",
         "type": "bar",
         "visible": false,
         "x": [
          "False",
          "True"
         ],
         "xaxis": "x",
         "y": {
          "bdata": "wUwCADQRAAA=",
          "dtype": "i4"
         },
         "yaxis": "y"
        },
        {
         "customdata": [
          [
           "On-time",
           37.6,
           248668,
           100
          ],
          [
           "On-time",
           39.8,
           98,
           0
          ]
         ],
         "hovertemplate": "%{x} in %{meta}<br>Status: %{customdata[0]}<br>Count: %{y}<br>Share within %{x}: %{customdata[1]:.1f}% of total in %{x}<br>Total in %{x} as % of ALL in %{meta}: %{customdata[3]:.1f}%<extra></extra>",
         "legendgroup": "On-time",
         "marker": {
          "color": "#9ecae1",
          "pattern": {
           "shape": ""
          }
         },
         "meta": "TRAUMA_INDICATOR",
         "name": "On-time",
         "orientation": "v",
         "showlegend": true,
         "text": [
          "37.6%",
          "39.8%"
         ],
         "textposition": "inside",
         "type": "bar",
         "visible": false,
         "x": [
          "False",
          "True"
         ],
         "xaxis": "x",
         "y": {
          "bdata": "om0BACcAAAA=",
          "dtype": "i4"
         },
         "yaxis": "y"
        },
        {
         "customdata": [
          [
           "Late",
           62.4,
           248668,
           100
          ],
          [
           "Late",
           60.2,
           98,
           0
          ]
         ],
         "hovertemplate": "%{x} in %{meta}<br>Status: %{customdata[0]}<br>Count: %{y}<br>Share within %{x}: %{customdata[1]:.1f}% of total in %{x}<br>Total in %{x} as % of ALL in %{meta}: %{customdata[3]:.1f}%<extra></extra>",
         "legendgroup": "Late",
         "marker": {
          "color": "#08519c",
          "pattern": {
           "shape": ""
          }
         },
         "meta": "TRAUMA_INDICATOR",
         "name": "Late",
         "orientation": "v",
         "showlegend": true,
         "text": [
          "62.4%",
          "60.2%"
         ],
         "textposition": "inside",
         "type": "bar",
         "visible": false,
         "x": [
          "False",
          "True"
         ],
         "xaxis": "x",
         "y": {
          "bdata": "ul0CADsAAAA=",
          "dtype": "i4"
         },
         "yaxis": "y"
        }
       ],
       "layout": {
        "barmode": "stack",
        "margin": {
         "b": 80,
         "l": 60,
         "r": 30,
         "t": 70
        },
        "template": {
         "data": {
          "bar": [
           {
            "error_x": {
             "color": "#2a3f5f"
            },
            "error_y": {
             "color": "#2a3f5f"
            },
            "marker": {
             "line": {
              "color": "#E5ECF6",
              "width": 0.5
             },
             "pattern": {
              "fillmode": "overlay",
              "size": 10,
              "solidity": 0.2
             }
            },
            "type": "bar"
           }
          ],
          "barpolar": [
           {
            "marker": {
             "line": {
              "color": "#E5ECF6",
              "width": 0.5
             },
             "pattern": {
              "fillmode": "overlay",
              "size": 10,
              "solidity": 0.2
             }
            },
            "type": "barpolar"
           }
          ],
          "carpet": [
           {
            "aaxis": {
             "endlinecolor": "#2a3f5f",
             "gridcolor": "white",
             "linecolor": "white",
             "minorgridcolor": "white",
             "startlinecolor": "#2a3f5f"
            },
            "baxis": {
             "endlinecolor": "#2a3f5f",
             "gridcolor": "white",
             "linecolor": "white",
             "minorgridcolor": "white",
             "startlinecolor": "#2a3f5f"
            },
            "type": "carpet"
           }
          ],
          "choropleth": [
           {
            "colorbar": {
             "outlinewidth": 0,
             "ticks": ""
            },
            "type": "choropleth"
           }
          ],
          "contour": [
           {
            "colorbar": {
             "outlinewidth": 0,
             "ticks": ""
            },
            "colorscale": [
             [
              0,
              "#0d0887"
             ],
             [
              0.1111111111111111,
              "#46039f"
             ],
             [
              0.2222222222222222,
              "#7201a8"
             ],
             [
              0.3333333333333333,
              "#9c179e"
             ],
             [
              0.4444444444444444,
              "#bd3786"
             ],
             [
              0.5555555555555556,
              "#d8576b"
             ],
             [
              0.6666666666666666,
              "#ed7953"
             ],
             [
              0.7777777777777778,
              "#fb9f3a"
             ],
             [
              0.8888888888888888,
              "#fdca26"
             ],
             [
              1,
              "#f0f921"
             ]
            ],
            "type": "contour"
           }
          ],
          "contourcarpet": [
           {
            "colorbar": {
             "outlinewidth": 0,
             "ticks": ""
            },
            "type": "contourcarpet"
           }
          ],
          "heatmap": [
           {
            "colorbar": {
             "outlinewidth": 0,
             "ticks": ""
            },
            "colorscale": [
             [
              0,
              "#0d0887"
             ],
             [
              0.1111111111111111,
              "#46039f"
             ],
             [
              0.2222222222222222,
              "#7201a8"
             ],
             [
              0.3333333333333333,
              "#9c179e"
             ],
             [
              0.4444444444444444,
              "#bd3786"
             ],
             [
              0.5555555555555556,
              "#d8576b"
             ],
             [
              0.6666666666666666,
              "#ed7953"
             ],
             [
              0.7777777777777778,
              "#fb9f3a"
             ],
             [
              0.8888888888888888,
              "#fdca26"
             ],
             [
              1,
              "#f0f921"
             ]
            ],
            "type": "heatmap"
           }
          ],
          "histogram": [
           {
            "marker": {
             "pattern": {
              "fillmode": "overlay",
              "size": 10,
              "solidity": 0.2
             }
            },
            "type": "histogram"
           }
          ],
          "histogram2d": [
           {
            "colorbar": {
             "outlinewidth": 0,
             "ticks": ""
            },
            "colorscale": [
             [
              0,
              "#0d0887"
             ],
             [
              0.1111111111111111,
              "#46039f"
             ],
             [
              0.2222222222222222,
              "#7201a8"
             ],
             [
              0.3333333333333333,
              "#9c179e"
             ],
             [
              0.4444444444444444,
              "#bd3786"
             ],
             [
              0.5555555555555556,
              "#d8576b"
             ],
             [
              0.6666666666666666,
              "#ed7953"
             ],
             [
              0.7777777777777778,
              "#fb9f3a"
             ],
             [
              0.8888888888888888,
              "#fdca26"
             ],
             [
              1,
              "#f0f921"
             ]
            ],
            "type": "histogram2d"
           }
          ],
          "histogram2dcontour": [
           {
            "colorbar": {
             "outlinewidth": 0,
             "ticks": ""
            },
            "colorscale": [
             [
              0,
              "#0d0887"
             ],
             [
              0.1111111111111111,
              "#46039f"
             ],
             [
              0.2222222222222222,
              "#7201a8"
             ],
             [
              0.3333333333333333,
              "#9c179e"
             ],
             [
              0.4444444444444444,
              "#bd3786"
             ],
             [
              0.5555555555555556,
              "#d8576b"
             ],
             [
              0.6666666666666666,
              "#ed7953"
             ],
             [
              0.7777777777777778,
              "#fb9f3a"
             ],
             [
              0.8888888888888888,
              "#fdca26"
             ],
             [
              1,
              "#f0f921"
             ]
            ],
            "type": "histogram2dcontour"
           }
          ],
          "mesh3d": [
           {
            "colorbar": {
             "outlinewidth": 0,
             "ticks": ""
            },
            "type": "mesh3d"
           }
          ],
          "parcoords": [
           {
            "line": {
             "colorbar": {
              "outlinewidth": 0,
              "ticks": ""
             }
            },
            "type": "parcoords"
           }
          ],
          "pie": [
           {
            "automargin": true,
            "type": "pie"
           }
          ],
          "scatter": [
           {
            "fillpattern": {
             "fillmode": "overlay",
             "size": 10,
             "solidity": 0.2
            },
            "type": "scatter"
           }
          ],
          "scatter3d": [
           {
            "line": {
             "colorbar": {
              "outlinewidth": 0,
              "ticks": ""
             }
            },
            "marker": {
             "colorbar": {
              "outlinewidth": 0,
              "ticks": ""
             }
            },
            "type": "scatter3d"
           }
          ],
          "scattercarpet": [
           {
            "marker": {
             "colorbar": {
              "outlinewidth": 0,
              "ticks": ""
             }
            },
            "type": "scattercarpet"
           }
          ],
          "scattergeo": [
           {
            "marker": {
             "colorbar": {
              "outlinewidth": 0,
              "ticks": ""
             }
            },
            "type": "scattergeo"
           }
          ],
          "scattergl": [
           {
            "marker": {
             "colorbar": {
              "outlinewidth": 0,
              "ticks": ""
             }
            },
            "type": "scattergl"
           }
          ],
          "scattermap": [
           {
            "marker": {
             "colorbar": {
              "outlinewidth": 0,
              "ticks": ""
             }
            },
            "type": "scattermap"
           }
          ],
          "scattermapbox": [
           {
            "marker": {
             "colorbar": {
              "outlinewidth": 0,
              "ticks": ""
             }
            },
            "type": "scattermapbox"
           }
          ],
          "scatterpolar": [
           {
            "marker": {
             "colorbar": {
              "outlinewidth": 0,
              "ticks": ""
             }
            },
            "type": "scatterpolar"
           }
          ],
          "scatterpolargl": [
           {
            "marker": {
             "colorbar": {
              "outlinewidth": 0,
              "ticks": ""
             }
            },
            "type": "scatterpolargl"
           }
          ],
          "scatterternary": [
           {
            "marker": {
             "colorbar": {
              "outlinewidth": 0,
              "ticks": ""
             }
            },
            "type": "scatterternary"
           }
          ],
          "surface": [
           {
            "colorbar": {
             "outlinewidth": 0,
             "ticks": ""
            },
            "colorscale": [
             [
              0,
              "#0d0887"
             ],
             [
              0.1111111111111111,
              "#46039f"
             ],
             [
              0.2222222222222222,
              "#7201a8"
             ],
             [
              0.3333333333333333,
              "#9c179e"
             ],
             [
              0.4444444444444444,
              "#bd3786"
             ],
             [
              0.5555555555555556,
              "#d8576b"
             ],
             [
              0.6666666666666666,
              "#ed7953"
             ],
             [
              0.7777777777777778,
              "#fb9f3a"
             ],
             [
              0.8888888888888888,
              "#fdca26"
             ],
             [
              1,
              "#f0f921"
             ]
            ],
            "type": "surface"
           }
          ],
          "table": [
           {
            "cells": {
             "fill": {
              "color": "#EBF0F8"
             },
             "line": {
              "color": "white"
             }
            },
            "header": {
             "fill": {
              "color": "#C8D4E3"
             },
             "line": {
              "color": "white"
             }
            },
            "type": "table"
           }
          ]
         },
         "layout": {
          "annotationdefaults": {
           "arrowcolor": "#2a3f5f",
           "arrowhead": 0,
           "arrowwidth": 1
          },
          "autotypenumbers": "strict",
          "coloraxis": {
           "colorbar": {
            "outlinewidth": 0,
            "ticks": ""
           }
          },
          "colorscale": {
           "diverging": [
            [
             0,
             "#8e0152"
            ],
            [
             0.1,
             "#c51b7d"
            ],
            [
             0.2,
             "#de77ae"
            ],
            [
             0.3,
             "#f1b6da"
            ],
            [
             0.4,
             "#fde0ef"
            ],
            [
             0.5,
             "#f7f7f7"
            ],
            [
             0.6,
             "#e6f5d0"
            ],
            [
             0.7,
             "#b8e186"
            ],
            [
             0.8,
             "#7fbc41"
            ],
            [
             0.9,
             "#4d9221"
            ],
            [
             1,
             "#276419"
            ]
           ],
           "sequential": [
            [
             0,
             "#0d0887"
            ],
            [
             0.1111111111111111,
             "#46039f"
            ],
            [
             0.2222222222222222,
             "#7201a8"
            ],
            [
             0.3333333333333333,
             "#9c179e"
            ],
            [
             0.4444444444444444,
             "#bd3786"
            ],
            [
             0.5555555555555556,
             "#d8576b"
            ],
            [
             0.6666666666666666,
             "#ed7953"
            ],
            [
             0.7777777777777778,
             "#fb9f3a"
            ],
            [
             0.8888888888888888,
             "#fdca26"
            ],
            [
             1,
             "#f0f921"
            ]
           ],
           "sequentialminus": [
            [
             0,
             "#0d0887"
            ],
            [
             0.1111111111111111,
             "#46039f"
            ],
            [
             0.2222222222222222,
             "#7201a8"
            ],
            [
             0.3333333333333333,
             "#9c179e"
            ],
            [
             0.4444444444444444,
             "#bd3786"
            ],
            [
             0.5555555555555556,
             "#d8576b"
            ],
            [
             0.6666666666666666,
             "#ed7953"
            ],
            [
             0.7777777777777778,
             "#fb9f3a"
            ],
            [
             0.8888888888888888,
             "#fdca26"
            ],
            [
             1,
             "#f0f921"
            ]
           ]
          },
          "colorway": [
           "#636efa",
           "#EF553B",
           "#00cc96",
           "#ab63fa",
           "#FFA15A",
           "#19d3f3",
           "#FF6692",
           "#B6E880",
           "#FF97FF",
           "#FECB52"
          ],
          "font": {
           "color": "#2a3f5f"
          },
          "geo": {
           "bgcolor": "white",
           "lakecolor": "white",
           "landcolor": "#E5ECF6",
           "showlakes": true,
           "showland": true,
           "subunitcolor": "white"
          },
          "hoverlabel": {
           "align": "left"
          },
          "hovermode": "closest",
          "mapbox": {
           "style": "light"
          },
          "paper_bgcolor": "white",
          "plot_bgcolor": "#E5ECF6",
          "polar": {
           "angularaxis": {
            "gridcolor": "white",
            "linecolor": "white",
            "ticks": ""
           },
           "bgcolor": "#E5ECF6",
           "radialaxis": {
            "gridcolor": "white",
            "linecolor": "white",
            "ticks": ""
           }
          },
          "scene": {
           "xaxis": {
            "backgroundcolor": "#E5ECF6",
            "gridcolor": "white",
            "gridwidth": 2,
            "linecolor": "white",
            "showbackground": true,
            "ticks": "",
            "zerolinecolor": "white"
           },
           "yaxis": {
            "backgroundcolor": "#E5ECF6",
            "gridcolor": "white",
            "gridwidth": 2,
            "linecolor": "white",
            "showbackground": true,
            "ticks": "",
            "zerolinecolor": "white"
           },
           "zaxis": {
            "backgroundcolor": "#E5ECF6",
            "gridcolor": "white",
            "gridwidth": 2,
            "linecolor": "white",
            "showbackground": true,
            "ticks": "",
            "zerolinecolor": "white"
           }
          },
          "shapedefaults": {
           "line": {
            "color": "#2a3f5f"
           }
          },
          "ternary": {
           "aaxis": {
            "gridcolor": "white",
            "linecolor": "white",
            "ticks": ""
           },
           "baxis": {
            "gridcolor": "white",
            "linecolor": "white",
            "ticks": ""
           },
           "bgcolor": "#E5ECF6",
           "caxis": {
            "gridcolor": "white",
            "linecolor": "white",
            "ticks": ""
           }
          },
          "title": {
           "x": 0.05
          },
          "xaxis": {
           "automargin": true,
           "gridcolor": "white",
           "linecolor": "white",
           "ticks": "",
           "title": {
            "standoff": 15
           },
           "zerolinecolor": "white",
           "zerolinewidth": 2
          },
          "yaxis": {
           "automargin": true,
           "gridcolor": "white",
           "linecolor": "white",
           "ticks": "",
           "title": {
            "standoff": 15
           },
           "zerolinecolor": "white",
           "zerolinewidth": 2
          }
         }
        },
        "title": {
         "text": "Cases by LOCATION (Top 10) — On-time vs Late"
        },
        "updatemenus": [
         {
          "buttons": [
           {
            "args": [
             {
              "visible": [
               true,
               true,
               false,
               false,
               false,
               false,
               false,
               false,
               false,
               false,
               false,
               false,
               false,
               false,
               false,
               false,
               false,
               false,
               false,
               false,
               false,
               false,
               false,
               false,
               false,
               false,
               false,
               false
              ]
             },
             {
              "annotations": [],
              "barmode": "stack",
              "legend": {
               "title": "Status"
              },
              "title": "Cases by LOCATION (Top 10) — On-time vs Late",
              "yaxis": {
               "title": "Number of Cases"
              }
             }
            ],
            "label": "LOCATION",
            "method": "update"
           },
           {
            "args": [
             {
              "visible": [
               false,
               false,
               true,
               true,
               false,
               false,
               false,
               false,
               false,
               false,
               false,
               false,
               false,
               false,
               false,
               false,
               false,
               false,
               false,
               false,
               false,
               false,
               false,
               false,
               false,
               false,
               false,
               false
              ]
             },
             {
              "annotations": [],
              "barmode": "stack",
              "legend": {
               "title": "Status"
              },
              "title": "Cases by ROOM (Top 10) — On-time vs Late",
              "yaxis": {
               "title": "Number of Cases"
              }
             }
            ],
            "label": "ROOM",
            "method": "update"
           },
           {
            "args": [
             {
              "visible": [
               false,
               false,
               false,
               false,
               true,
               true,
               false,
               false,
               false,
               false,
               false,
               false,
               false,
               false,
               false,
               false,
               false,
               false,
               false,
               false,
               false,
               false,
               false,
               false,
               false,
               false,
               false,
               false
              ]
             },
             {
              "annotations": [
               {
                "align": "left",
                "bgcolor": "rgba(255,255,255,0.85)",
                "bordercolor": "rgba(0,0,0,0.25)",
                "borderpad": 4,
                "borderwidth": 1,
                "font": {
                 "size": 12
                },
                "name": "excluded_note",
                "showarrow": false,
                "text": "0: Total Cases: 229041   Late Cases: 140795 (61.5%)<br>*91.8% of total cases in 0",
                "x": 0,
                "xanchor": "left",
                "xref": "paper",
                "y": 1.08,
                "yanchor": "bottom",
                "yref": "paper"
               }
              ],
              "barmode": "stack",
              "legend": {
               "title": "Status"
              },
              "title": "Cases by EQUIPMENT (Top 10) — On-time vs Late",
              "yaxis": {
               "title": "Number of Cases"
              }
             }
            ],
            "label": "EQUIPMENT",
            "method": "update"
           },
           {
            "args": [
             {
              "visible": [
               false,
               false,
               false,
               false,
               false,
               false,
               true,
               true,
               false,
               false,
               false,
               false,
               false,
               false,
               false,
               false,
               false,
               false,
               false,
               false,
               false,
               false,
               false,
               false,
               false,
               false,
               false,
               false
              ]
             },
             {
              "annotations": [
               {
                "align": "left",
                "bgcolor": "rgba(255,255,255,0.85)",
                "bordercolor": "rgba(0,0,0,0.25)",
                "borderpad": 4,
                "borderwidth": 1,
                "font": {
                 "size": 12
                },
                "name": "excluded_note",
                "showarrow": false,
                "text": "0: Total Cases: 213870   Late Cases: 126697 (59.2%)<br>*86.0% of total cases in 0",
                "x": 0,
                "xanchor": "left",
                "xref": "paper",
                "y": 1.08,
                "yanchor": "bottom",
                "yref": "paper"
               }
              ],
              "barmode": "stack",
              "legend": {
               "title": "Status"
              },
              "title": "Cases by EMERGENCY_PRIORITY (Top 10) — On-time vs Late",
              "yaxis": {
               "title": "Number of Cases"
              }
             }
            ],
            "label": "EMERGENCY_PRIORITY",
            "method": "update"
           },
           {
            "args": [
             {
              "visible": [
               false,
               false,
               false,
               false,
               false,
               false,
               false,
               false,
               true,
               true,
               false,
               false,
               false,
               false,
               false,
               false,
               false,
               false,
               false,
               false,
               false,
               false,
               false,
               false,
               false,
               false,
               false,
               false
              ]
             },
             {
              "annotations": [],
              "barmode": "stack",
              "legend": {
               "title": "Status"
              },
              "title": "Cases by DISCIPLINE (Top 10) — On-time vs Late",
              "yaxis": {
               "title": "Number of Cases"
              }
             }
            ],
            "label": "DISCIPLINE",
            "method": "update"
           },
           {
            "args": [
             {
              "visible": [
               false,
               false,
               false,
               false,
               false,
               false,
               false,
               false,
               false,
               false,
               true,
               true,
               false,
               false,
               false,
               false,
               false,
               false,
               false,
               false,
               false,
               false,
               false,
               false,
               false,
               false,
               false,
               false
              ]
             },
             {
              "annotations": [],
              "barmode": "stack",
              "legend": {
               "title": "Status"
              },
              "title": "Cases by ANESTHESIA (Top 10) — On-time vs Late",
              "yaxis": {
               "title": "Number of Cases"
              }
             }
            ],
            "label": "ANESTHESIA",
            "method": "update"
           },
           {
            "args": [
             {
              "visible": [
               false,
               false,
               false,
               false,
               false,
               false,
               false,
               false,
               false,
               false,
               false,
               false,
               true,
               true,
               false,
               false,
               false,
               false,
               false,
               false,
               false,
               false,
               false,
               false,
               false,
               false,
               false,
               false
              ]
             },
             {
              "annotations": [],
              "barmode": "stack",
              "legend": {
               "title": "Status"
              },
              "title": "Cases by ADMISSION_CLASS_TYPE (Top 10) — On-time vs Late",
              "yaxis": {
               "title": "Number of Cases"
              }
             }
            ],
            "label": "ADMISSION_CLASS_TYPE",
            "method": "update"
           },
           {
            "args": [
             {
              "visible": [
               false,
               false,
               false,
               false,
               false,
               false,
               false,
               false,
               false,
               false,
               false,
               false,
               false,
               false,
               true,
               true,
               false,
               false,
               false,
               false,
               false,
               false,
               false,
               false,
               false,
               false,
               false,
               false
              ]
             },
             {
              "annotations": [],
              "barmode": "stack",
              "legend": {
               "title": "Status"
              },
              "title": "Cases by ADMISSION_WARD (Top 10) — On-time vs Late",
              "yaxis": {
               "title": "Number of Cases"
              }
             }
            ],
            "label": "ADMISSION_WARD",
            "method": "update"
           },
           {
            "args": [
             {
              "visible": [
               false,
               false,
               false,
               false,
               false,
               false,
               false,
               false,
               false,
               false,
               false,
               false,
               false,
               false,
               false,
               false,
               true,
               true,
               false,
               false,
               false,
               false,
               false,
               false,
               false,
               false,
               false,
               false
              ]
             },
             {
              "annotations": [
               {
                "align": "left",
                "bgcolor": "rgba(255,255,255,0.85)",
                "bordercolor": "rgba(0,0,0,0.25)",
                "borderpad": 4,
                "borderwidth": 1,
                "font": {
                 "size": 12
                },
                "name": "excluded_note",
                "showarrow": false,
                "text": "Not Admitted: Total Cases: 56369   Late Cases: 37407 (66.4%)<br>*22.7% of total cases in Not Admitted",
                "x": 0,
                "xanchor": "left",
                "xref": "paper",
                "y": 1.08,
                "yanchor": "bottom",
                "yref": "paper"
               }
              ],
              "barmode": "stack",
              "legend": {
               "title": "Status"
              },
              "title": "Cases by ADMISSION_BED (Top 10) — On-time vs Late",
              "yaxis": {
               "title": "Number of Cases"
              }
             }
            ],
            "label": "ADMISSION_BED",
            "method": "update"
           },
           {
            "args": [
             {
              "visible": [
               false,
               false,
               false,
               false,
               false,
               false,
               false,
               false,
               false,
               false,
               false,
               false,
               false,
               false,
               false,
               false,
               false,
               false,
               true,
               true,
               false,
               false,
               false,
               false,
               false,
               false,
               false,
               false
              ]
             },
             {
              "annotations": [],
              "barmode": "stack",
              "legend": {
               "title": "Status"
              },
              "title": "Cases by AOH (Top 10) — On-time vs Late",
              "yaxis": {
               "title": "Number of Cases"
              }
             }
            ],
            "label": "AOH",
            "method": "update"
           },
           {
            "args": [
             {
              "visible": [
               false,
               false,
               false,
               false,
               false,
               false,
               false,
               false,
               false,
               false,
               false,
               false,
               false,
               false,
               false,
               false,
               false,
               false,
               false,
               false,
               true,
               true,
               false,
               false,
               false,
               false,
               false,
               false
              ]
             },
             {
              "annotations": [
               {
                "align": "left",
                "bgcolor": "rgba(255,255,255,0.85)",
                "bordercolor": "rgba(0,0,0,0.25)",
                "borderpad": 4,
                "borderwidth": 1,
                "font": {
                 "size": 12
                },
                "name": "excluded_note",
                "showarrow": false,
                "text": "NIL: Total Cases: 230817   Late Cases: 145792 (63.2%)<br>*92.8% of total cases in NIL",
                "x": 0,
                "xanchor": "left",
                "xref": "paper",
                "y": 1.08,
                "yanchor": "bottom",
                "yref": "paper"
               }
              ],
              "barmode": "stack",
              "legend": {
               "title": "Status"
              },
              "title": "Cases by BLOOD (Top 10) — On-time vs Late",
              "yaxis": {
               "title": "Number of Cases"
              }
             }
            ],
            "label": "BLOOD",
            "method": "update"
           },
           {
            "args": [
             {
              "visible": [
               false,
               false,
               false,
               false,
               false,
               false,
               false,
               false,
               false,
               false,
               false,
               false,
               false,
               false,
               false,
               false,
               false,
               false,
               false,
               false,
               false,
               false,
               true,
               true,
               false,
               false,
               false,
               false
              ]
             },
             {
              "annotations": [],
              "barmode": "stack",
              "legend": {
               "title": "Status"
              },
              "title": "Cases by IMPLANT (Top 10) — On-time vs Late",
              "yaxis": {
               "title": "Number of Cases"
              }
             }
            ],
            "label": "IMPLANT",
            "method": "update"
           },
           {
            "args": [
             {
              "visible": [
               false,
               false,
               false,
               false,
               false,
               false,
               false,
               false,
               false,
               false,
               false,
               false,
               false,
               false,
               false,
               false,
               false,
               false,
               false,
               false,
               false,
               false,
               false,
               false,
               true,
               true,
               false,
               false
              ]
             },
             {
              "annotations": [],
              "barmode": "stack",
              "legend": {
               "title": "Status"
              },
              "title": "Cases by CANCER_INDICATOR (Top 10) — On-time vs Late",
              "yaxis": {
               "title": "Number of Cases"
              }
             }
            ],
            "label": "CANCER_INDICATOR",
            "method": "update"
           },
           {
            "args": [
             {
              "visible": [
               false,
               false,
               false,
               false,
               false,
               false,
               false,
               false,
               false,
               false,
               false,
               false,
               false,
               false,
               false,
               false,
               false,
               false,
               false,
               false,
               false,
               false,
               false,
               false,
               false,
               false,
               true,
               true
              ]
             },
             {
              "annotations": [],
              "barmode": "stack",
              "legend": {
               "title": "Status"
              },
              "title": "Cases by TRAUMA_INDICATOR (Top 10) — On-time vs Late",
              "yaxis": {
               "title": "Number of Cases"
              }
             }
            ],
            "label": "TRAUMA_INDICATOR",
            "method": "update"
           }
          ],
          "showactive": true,
          "type": "dropdown",
          "x": 1,
          "xanchor": "right",
          "y": 1.08,
          "yanchor": "top"
         }
        ],
        "yaxis": {
         "title": {
          "text": "Number of Cases"
         }
        }
       }
      }
     },
     "metadata": {},
     "output_type": "display_data"
    }
   ],
   "source": [
    "# --- Stacked bar: total cases by category with On-time vs Late  ---\n",
    "import pandas as pd\n",
    "import numpy as np\n",
    "import plotly.express as px\n",
    "import plotly.graph_objects as go\n",
    "\n",
    "# ===== CONFIG =====\n",
    "DATA_PATH = \"C:/Users/egtay/Downloads/Telegram Desktop/Final_Cleaned_Dataset_OPTIC_7.csv\"\n",
    "VALUE_COL = \"KNIFE_START_DELAY\"\n",
    "LATE_COL  = \"Is_Late\"\n",
    "TOP_K     = 10\n",
    "Y_MIN, Y_MAX = -1440, 1440\n",
    "\n",
    "CATEGORY_MAP = {\n",
    "    \"LOCATION\": \"LOCATION\",\n",
    "    \"ROOM\": \"ROOM\",\n",
    "    \"EQUIPMENT\": \"__EQUIPMENT_SPLIT__\",\n",
    "    \"EMERGENCY_PRIORITY\": \"EMERGENCY_PRIORITY\",\n",
    "    \"DISCIPLINE\": \"DISCIPLINE\",\n",
    "    \"ANESTHESIA\": \"ANESTHESIA\",\n",
    "    \"ADMISSION_CLASS_TYPE\": \"ADMISSION_CLASS_TYPE\",\n",
    "    \"ADMISSION_WARD\": \"ADMISSION_WARD\",\n",
    "    \"ADMISSION_BED\": \"ADMISSION_BED\",\n",
    "    \"AOH\": \"AOH\",\n",
    "    \"BLOOD\": \"BLOOD\",\n",
    "    \"IMPLANT\": \"__IMPLANT_BIN__\",\n",
    "    \"CANCER_INDICATOR\": \"CANCER_INDICATOR\",\n",
    "    \"TRAUMA_INDICATOR\": \"TRAUMA_INDICATOR\",\n",
    "}\n",
    "\n",
    "# ===== LOAD =====\n",
    "df = pd.read_csv(DATA_PATH)\n",
    "df[VALUE_COL] = pd.to_numeric(df[VALUE_COL], errors=\"coerce\")\n",
    "df = df.dropna(subset=[VALUE_COL]).copy()\n",
    "if LATE_COL not in df.columns:\n",
    "    df[LATE_COL] = 0\n",
    "df[LATE_COL] = pd.to_numeric(df[LATE_COL], errors=\"coerce\").fillna(0).astype(int)\n",
    "\n",
    "# ---- EQUIPMENT preprocessing ----\n",
    "if \"EQUIPMENT\" in df.columns:\n",
    "    eq = (\n",
    "        df[[\"OPERATION_ID\", \"EQUIPMENT\"]]\n",
    "        .assign(EQUIPMENT=lambda d: d[\"EQUIPMENT\"].astype(str).fillna(\"\").str.split(\",\"))\n",
    "        .explode(\"EQUIPMENT\")\n",
    "    )\n",
    "    eq[\"EQUIPMENT\"] = eq[\"EQUIPMENT\"].astype(str).str.strip()\n",
    "    eq.loc[eq[\"EQUIPMENT\"].isin([\"\", \"nan\", \"None\", \"NULL\"]), \"EQUIPMENT\"] = np.nan\n",
    "    eq = eq.dropna(subset=[\"EQUIPMENT\"])\n",
    "    df_eq = df.merge(eq, on=\"OPERATION_ID\", how=\"left\", suffixes=(\"\", \"_x\"))\n",
    "    df_eq[\"__EQUIPMENT_SPLIT__\"] = df_eq[\"EQUIPMENT_x\"]\n",
    "else:\n",
    "    df_eq = df.copy()\n",
    "    df_eq[\"__EQUIPMENT_SPLIT__\"] = np.nan\n",
    "\n",
    "# ---- IMPLANT preprocessing ----\n",
    "if \"IMPLANT\" in df.columns:\n",
    "    def to_implant_bin(s):\n",
    "        try:\n",
    "            v = float(s)\n",
    "            return \"No implant\" if v == 0 else \"Has implant\"\n",
    "        except:\n",
    "            return \"Has implant\"\n",
    "    df[\"__IMPLANT_BIN__\"] = df[\"IMPLANT\"].astype(str).map(to_implant_bin)\n",
    "else:\n",
    "    df[\"__IMPLANT_BIN__\"] = np.nan\n",
    "\n",
    "# ===== Helpers =====\n",
    "def get_category_df(label: str):\n",
    "    col = CATEGORY_MAP[label]\n",
    "    return (df_eq if col == \"__EQUIPMENT_SPLIT__\" else df).copy(), col\n",
    "\n",
    "def clamp_value_range(frame, col, lo=Y_MIN, hi=Y_MAX):\n",
    "    return frame[(frame[col] >= lo) & (frame[col] <= hi)]\n",
    "\n",
    "def excluded_value_for_label(label: str) -> str:\n",
    "    \"\"\"Return the category value to exclude/annotate for a given label.\"\"\"\n",
    "    if label == \"ADMISSION_BED\":\n",
    "        return \"Not Admitted\"\n",
    "    elif label == \"BLOOD\":\n",
    "        return \"NIL\"\n",
    "    else:\n",
    "        return \"0\"\n",
    "\n",
    "def filter_top_levels_excluding_value(working, cat_col, label_name, top_k=TOP_K):\n",
    "    \"\"\"Exclude special value, keep for annotation stats.\"\"\"\n",
    "    w = working.dropna(subset=[cat_col]).copy()\n",
    "    w[cat_col] = w[cat_col].astype(str).str.strip()\n",
    "    excl = excluded_value_for_label(label_name)\n",
    "    w_nonexcl = w[w[cat_col] != excl].copy()\n",
    "    counts = w_nonexcl[cat_col].value_counts()\n",
    "    if len(counts) > top_k:\n",
    "        keep = counts.iloc[:top_k].index\n",
    "        w_nonexcl = w_nonexcl[w_nonexcl[cat_col].isin(keep)]\n",
    "    return w_nonexcl, w  # return also the full set (incl. excluded) for annotation\n",
    "\n",
    "def build_excluded_annotation(cat_df_incl_excl, cat_col, label_name):\n",
    "    \"\"\"Return annotation if excluded value exists for this label.\"\"\"\n",
    "    if cat_df_incl_excl.empty:\n",
    "        return []\n",
    "\n",
    "    cat_series = cat_df_incl_excl[cat_col].astype(str).str.strip()\n",
    "    excl_val = excluded_value_for_label(label_name)\n",
    "    mask = (cat_series == excl_val)\n",
    "    excl_count = int(mask.sum())\n",
    "    if excl_count == 0:\n",
    "        return []\n",
    "\n",
    "    total_x = excl_count\n",
    "    late_x = int(cat_df_incl_excl.loc[mask, LATE_COL].sum())\n",
    "    late_pct_x = 100.0 * late_x / total_x if total_x > 0 else 0.0\n",
    "\n",
    "    grand_total = int(cat_df_incl_excl.shape[0])\n",
    "    overall_pct_x = 100.0 * total_x / grand_total if grand_total > 0 else 0.0\n",
    "\n",
    "    title = f\"{excl_val}: Total Cases: {total_x}   Late Cases: {late_x} ({late_pct_x:.1f}%)\"\n",
    "    foot  = f\"*{overall_pct_x:.1f}% of total cases in {excl_val}\"\n",
    "\n",
    "    ann = dict(\n",
    "        text=title + \"<br>\" + foot,\n",
    "        xref=\"paper\", yref=\"paper\",\n",
    "        x=0, y=1.08,                 # put above the graph\n",
    "        xanchor=\"left\", yanchor=\"bottom\",\n",
    "        align=\"left\",\n",
    "        showarrow=False,\n",
    "        font=dict(size=12),\n",
    "        bgcolor=\"rgba(255,255,255,0.85)\",\n",
    "        bordercolor=\"rgba(0,0,0,0.25)\",\n",
    "        borderwidth=1,\n",
    "        borderpad=4,\n",
    "        name=\"excluded_note\"\n",
    "    )\n",
    "    return [ann]\n",
    "\n",
    "# ===== Build stacked bars =====\n",
    "fig_stacked = go.Figure()\n",
    "buttons_s, visibility_blocks_s, annotations_by_label = [], [], []\n",
    "trace_offset_s = 0\n",
    "COLOR_MAP = {\"On-time\": \"#9ecae1\", \"Late\": \"#08519c\"}\n",
    "\n",
    "for label in CATEGORY_MAP.keys():\n",
    "    working, cat_col = get_category_df(label)\n",
    "    if cat_col not in working.columns:\n",
    "        visibility_blocks_s.append([False]*trace_offset_s)\n",
    "        annotations_by_label.append([])\n",
    "        continue\n",
    "\n",
    "    working = clamp_value_range(working, VALUE_COL, Y_MIN, Y_MAX)\n",
    "\n",
    "    sub_nonexcl, sub_incl_excl = filter_top_levels_excluding_value(working, cat_col, label, TOP_K)\n",
    "\n",
    "    if sub_nonexcl.empty:\n",
    "        visibility_blocks_s.append([False]*trace_offset_s)\n",
    "        annotations_by_label.append(build_excluded_annotation(sub_incl_excl, cat_col, label))\n",
    "        continue\n",
    "\n",
    "    summary = (\n",
    "        sub_nonexcl.groupby(cat_col)\n",
    "        .agg(total_cases=(VALUE_COL, \"size\"),\n",
    "             late_cases=(LATE_COL, \"sum\"))\n",
    "        .reset_index()\n",
    "    )\n",
    "    summary[\"ontime_cases\"] = summary[\"total_cases\"] - summary[\"late_cases\"]\n",
    "    summary[\"late_pct\"]   = (summary[\"late_cases\"]   / summary[\"total_cases\"] * 100).round(1)\n",
    "    summary[\"ontime_pct\"] = (summary[\"ontime_cases\"] / summary[\"total_cases\"] * 100).round(1)\n",
    "    grand_total = int(sub_incl_excl.shape[0])\n",
    "    summary[\"overall_pct\"] = (summary[\"total_cases\"] / grand_total * 100).round(1)\n",
    "\n",
    "    long_df = pd.concat([\n",
    "        summary[[cat_col, \"ontime_cases\", \"ontime_pct\", \"total_cases\", \"overall_pct\"]]\n",
    "            .assign(Status=\"On-time\")\n",
    "            .rename(columns={\"ontime_cases\": \"count\", \"ontime_pct\": \"pct\"}),\n",
    "        summary[[cat_col, \"late_cases\",   \"late_pct\",   \"total_cases\", \"overall_pct\"]]\n",
    "            .assign(Status=\"Late\")\n",
    "            .rename(columns={\"late_cases\": \"count\", \"late_pct\": \"pct\"}),\n",
    "    ], ignore_index=True)\n",
    "\n",
    "    order = summary.sort_values(\"total_cases\", ascending=False)[cat_col].tolist()\n",
    "\n",
    "    fig_bar = px.bar(\n",
    "        long_df,\n",
    "        x=cat_col, y=\"count\",\n",
    "        color=\"Status\",\n",
    "        category_orders={cat_col: order, \"Status\": [\"On-time\", \"Late\"]},\n",
    "        color_discrete_map=COLOR_MAP,\n",
    "        text=long_df[\"pct\"].map(lambda v: f\"{v:.1f}%\"),\n",
    "        hover_data=None,\n",
    "        custom_data=[\"Status\", \"pct\", \"total_cases\", \"overall_pct\"],\n",
    "    )\n",
    "    fig_bar.update_traces(textposition=\"inside\")\n",
    "    fig_bar.update_layout(barmode=\"stack\")\n",
    "\n",
    "    hovertemplate = (\n",
    "        \"%{x} in %{meta}<br>\"\n",
    "        \"Status: %{customdata[0]}<br>\"\n",
    "        \"Count: %{y}<br>\"\n",
    "        \"Share within %{x}: %{customdata[1]:.1f}% of total in %{x}<br>\"\n",
    "        \"Total in %{x} as % of ALL in %{meta}: %{customdata[3]:.1f}%\"\n",
    "        \"<extra></extra>\"\n",
    "    )\n",
    "\n",
    "    for tr in fig_bar.data:\n",
    "        tr.hovertemplate = hovertemplate\n",
    "        tr.meta = label\n",
    "        fig_stacked.add_trace(tr)\n",
    "\n",
    "    n_new = len(fig_bar.data)\n",
    "    visibility = [False]*trace_offset_s + [True]*n_new\n",
    "    visibility_blocks_s.append(visibility)\n",
    "    trace_offset_s += n_new\n",
    "\n",
    "    annotations_by_label.append(build_excluded_annotation(sub_incl_excl, cat_col, label))\n",
    "\n",
    "# Pad visibilities\n",
    "total_traces_s = trace_offset_s\n",
    "visibility_blocks_s = [vb+[False]*(total_traces_s-len(vb)) for vb in visibility_blocks_s]\n",
    "\n",
    "# Dropdown buttons\n",
    "for label, vb, anns in zip(CATEGORY_MAP.keys(), visibility_blocks_s, annotations_by_label):\n",
    "    buttons_s.append(dict(\n",
    "        label=label,\n",
    "        method=\"update\",\n",
    "        args=[\n",
    "            {\"visible\": vb},\n",
    "            {\n",
    "                \"title\": f\"Cases by {label} (Top {TOP_K}) — On-time vs Late\",\n",
    "                \"yaxis\": {\"title\": \"Number of Cases\"},\n",
    "                \"barmode\": \"stack\",\n",
    "                \"legend\": {\"title\": \"Status\"},\n",
    "                \"annotations\": anns\n",
    "            },\n",
    "        ],\n",
    "    ))\n",
    "\n",
    "# Initial view = LOCATION\n",
    "initial_label = \"LOCATION\"\n",
    "labels_order = list(CATEGORY_MAP.keys())\n",
    "initial_idx = labels_order.index(initial_label) if initial_label in labels_order else 0\n",
    "initial_viz = visibility_blocks_s[initial_idx] if visibility_blocks_s else []\n",
    "for i, tr in enumerate(fig_stacked.data):\n",
    "    tr.visible = initial_viz[i] if i < len(initial_viz) else False\n",
    "\n",
    "fig_stacked.update_layout(\n",
    "    title=f\"Cases by {initial_label} (Top {TOP_K}) — On-time vs Late\",\n",
    "    yaxis_title=\"Number of Cases\",\n",
    "    updatemenus=[dict(\n",
    "        type=\"dropdown\", x=1, xanchor=\"right\", y=1.08, yanchor=\"top\",\n",
    "        buttons=buttons_s, showactive=True\n",
    "    )],\n",
    "    margin=dict(l=60, r=30, t=70, b=80),\n",
    "    barmode=\"stack\",\n",
    "    annotations=annotations_by_label[initial_idx] if annotations_by_label else []\n",
    ")\n",
    "\n",
    "fig_stacked.show()"
   ]
  }
 ],
 "metadata": {
  "kernelspec": {
   "display_name": "Python 3",
   "language": "python",
   "name": "python3"
  },
  "language_info": {
   "codemirror_mode": {
    "name": "ipython",
    "version": 3
   },
   "file_extension": ".py",
   "mimetype": "text/x-python",
   "name": "python",
   "nbconvert_exporter": "python",
   "pygments_lexer": "ipython3",
   "version": "3.11.9"
  }
 },
 "nbformat": 4,
 "nbformat_minor": 5
}
